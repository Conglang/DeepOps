{
 "cells": [
  {
   "cell_type": "markdown",
   "metadata": {
    "collapsed": true
   },
   "source": [
    "# Image Classification\n",
    "In this project, you'll classify images from the [CIFAR-10 dataset](https://www.cs.toronto.edu/~kriz/cifar.html).  The dataset consists of airplanes, dogs, cats, and other objects. You'll preprocess the images, then train a convolutional neural network on all the samples. The images need to be normalized and the labels need to be one-hot encoded.  You'll get to apply what you learned and build a convolutional, max pooling, dropout, and fully connected layers.  At the end, you'll get to see your neural network's predictions on the sample images.\n",
    "## Get the Data\n",
    "Run the following cell to download the [CIFAR-10 dataset for python](https://www.cs.toronto.edu/~kriz/cifar-10-python.tar.gz)."
   ]
  },
  {
   "cell_type": "code",
   "execution_count": 2,
   "metadata": {
    "collapsed": false
   },
   "outputs": [
    {
     "name": "stderr",
     "output_type": "stream",
     "text": [
      "CIFAR-10 Dataset: 171MB [06:01, 472KB/s]                                                                               \n"
     ]
    },
    {
     "name": "stdout",
     "output_type": "stream",
     "text": [
      "All files found!\n"
     ]
    }
   ],
   "source": [
    "\"\"\"\n",
    "DON'T MODIFY ANYTHING IN THIS CELL THAT IS BELOW THIS LINE\n",
    "\"\"\"\n",
    "from urllib.request import urlretrieve\n",
    "from os.path import isfile, isdir\n",
    "from tqdm import tqdm\n",
    "import problem_unittests as tests\n",
    "import tarfile\n",
    "\n",
    "cifar10_dataset_folder_path = 'cifar-10-batches-py'\n",
    "\n",
    "class DLProgress(tqdm):\n",
    "    last_block = 0\n",
    "\n",
    "    def hook(self, block_num=1, block_size=1, total_size=None):\n",
    "        self.total = total_size\n",
    "        self.update((block_num - self.last_block) * block_size)\n",
    "        self.last_block = block_num\n",
    "\n",
    "if not isfile('cifar-10-python.tar.gz'):\n",
    "    with DLProgress(unit='B', unit_scale=True, miniters=1, desc='CIFAR-10 Dataset') as pbar:\n",
    "        urlretrieve(\n",
    "            'https://www.cs.toronto.edu/~kriz/cifar-10-python.tar.gz',\n",
    "            'cifar-10-python.tar.gz',\n",
    "            pbar.hook)\n",
    "\n",
    "if not isdir(cifar10_dataset_folder_path):\n",
    "    with tarfile.open('cifar-10-python.tar.gz') as tar:\n",
    "        tar.extractall()\n",
    "        tar.close()\n",
    "\n",
    "\n",
    "tests.test_folder_path(cifar10_dataset_folder_path)"
   ]
  },
  {
   "cell_type": "markdown",
   "metadata": {},
   "source": [
    "## Explore the Data\n",
    "The dataset is broken into batches to prevent your machine from running out of memory.  The CIFAR-10 dataset consists of 5 batches, named `data_batch_1`, `data_batch_2`, etc.. Each batch contains the labels and images that are one of the following:\n",
    "* airplane\n",
    "* automobile\n",
    "* bird\n",
    "* cat\n",
    "* deer\n",
    "* dog\n",
    "* frog\n",
    "* horse\n",
    "* ship\n",
    "* truck\n",
    "\n",
    "Understanding a dataset is part of making predictions on the data.  Play around with the code cell below by changing the `batch_id` and `sample_id`. The `batch_id` is the id for a batch (1-5). The `sample_id` is the id for a image and label pair in the batch.\n",
    "\n",
    "Ask yourself \"What are all possible labels?\", \"What is the range of values for the image data?\", \"Are the labels in order or random?\".  Answers to questions like these will help you preprocess the data and end up with better predictions."
   ]
  },
  {
   "cell_type": "code",
   "execution_count": 13,
   "metadata": {
    "collapsed": false
   },
   "outputs": [
    {
     "name": "stdout",
     "output_type": "stream",
     "text": [
      "\n",
      "Stats of batch 2:\n",
      "Samples: 10000\n",
      "Label Counts: {0: 984, 1: 1007, 2: 1010, 3: 995, 4: 1010, 5: 988, 6: 1008, 7: 1026, 8: 987, 9: 985}\n",
      "First 20 Labels: [1, 6, 6, 8, 8, 3, 4, 6, 0, 6, 0, 3, 6, 6, 5, 4, 8, 3, 2, 6]\n",
      "\n",
      "Example of Image 500:\n",
      "Image - Min Value: 13 Max Value: 218\n",
      "Image - Shape: (32, 32, 3)\n",
      "Label - Label Id: 4 Name: deer\n"
     ]
    },
    {
     "data": {
      "image/png": "[encoded data removed]",
      "text/plain": [
       "<matplotlib.figure.Figure at 0x26570bdaf60>"
      ]
     },
     "metadata": {
      "image/png": {
       "height": 250,
       "width": 253
      }
     },
     "output_type": "display_data"
    }
   ],
   "source": [
    "%matplotlib inline\n",
    "%config InlineBackend.figure_format = 'retina'\n",
    "\n",
    "import helper\n",
    "import numpy as np\n",
    "\n",
    "# Explore the dataset\n",
    "batch_id = 2\n",
    "sample_id = 500\n",
    "helper.display_stats(cifar10_dataset_folder_path, batch_id, sample_id)"
   ]
  },
  {
   "cell_type": "markdown",
   "metadata": {},
   "source": [
    "## Implement Preprocess Functions\n",
    "### Normalize\n",
    "In the cell below, implement the `normalize` function to take in image data, `x`, and return it as a normalized Numpy array. The values should be in the range of 0 to 1, inclusive.  The return object should be the same shape as `x`."
   ]
  },
  {
   "cell_type": "code",
   "execution_count": 59,
   "metadata": {
    "collapsed": false
   },
   "outputs": [
    {
     "name": "stdout",
     "output_type": "stream",
     "text": [
      "Tests Passed\n"
     ]
    }
   ],
   "source": [
    "def normalize(x):\n",
    "    \"\"\"\n",
    "    Normalize a list of sample image data in the range of 0 to 1\n",
    "    : x: List of image data.  The image shape is (32, 32, 3)\n",
    "    : return: Numpy array of normalize data\n",
    "    \"\"\"\n",
    "    # TODO: Implement Function\n",
    "    return (x - float(x.min())) / (float(x.max()) - float(x.min()))\n",
    "\n",
    "\"\"\"\n",
    "DON'T MODIFY ANYTHING IN THIS CELL THAT IS BELOW THIS LINE\n",
    "\"\"\"\n",
    "tests.test_normalize(normalize)"
   ]
  },
  {
   "cell_type": "markdown",
   "metadata": {},
   "source": [
    "### One-hot encode\n",
    "Just like the previous code cell, you'll be implementing a function for preprocessing.  This time, you'll implement the `one_hot_encode` function. The input, `x`, are a list of labels.  Implement the function to return the list of labels as One-Hot encoded Numpy array.  The possible values for labels are 0 to 9. The one-hot encoding function should return the same encoding for each value between each call to `one_hot_encode`.  Make sure to save the map of encodings outside the function.\n",
    "\n",
    "Hint: Don't reinvent the wheel."
   ]
  },
  {
   "cell_type": "code",
   "execution_count": 60,
   "metadata": {
    "collapsed": false
   },
   "outputs": [
    {
     "data": {
      "text/plain": [
       "LabelBinarizer(neg_label=0, pos_label=1, sparse_output=False)"
      ]
     },
     "execution_count": 60,
     "metadata": {},
     "output_type": "execute_result"
    }
   ],
   "source": [
    "import sklearn\n",
    "enc = sklearn.preprocessing.LabelBinarizer()\n",
    "enc.fit([0,1,2,3,4,5,6,7,8,9])"
   ]
  },
  {
   "cell_type": "code",
   "execution_count": 61,
   "metadata": {
    "collapsed": false
   },
   "outputs": [
    {
     "name": "stdout",
     "output_type": "stream",
     "text": [
      "Tests Passed\n"
     ]
    }
   ],
   "source": [
    "def one_hot_encode(x):\n",
    "    \"\"\"\n",
    "    One hot encode a list of sample labels. Return a one-hot encoded vector for each label.\n",
    "    : x: List of sample Labels\n",
    "    : return: Numpy array of one-hot encoded labels\n",
    "    \"\"\"\n",
    "    # TODO: Implement Function\n",
    "    return enc.transform(x)\n",
    "\n",
    "\"\"\"\n",
    "DON'T MODIFY ANYTHING IN THIS CELL THAT IS BELOW THIS LINE\n",
    "\"\"\"\n",
    "tests.test_one_hot_encode(one_hot_encode)"
   ]
  },
  {
   "cell_type": "markdown",
   "metadata": {},
   "source": [
    "### Randomize Data\n",
    "As you saw from exploring the data above, the order of the samples are randomized.  It doesn't hurt to randomize it again, but you don't need to for this dataset."
   ]
  },
  {
   "cell_type": "markdown",
   "metadata": {},
   "source": [
    "## Preprocess all the data and save it\n",
    "Running the code cell below will preprocess all the CIFAR-10 data and save it to file. The code below also uses 10% of the training data for validation."
   ]
  },
  {
   "cell_type": "code",
   "execution_count": 62,
   "metadata": {
    "collapsed": false
   },
   "outputs": [],
   "source": [
    "\"\"\"\n",
    "DON'T MODIFY ANYTHING IN THIS CELL\n",
    "\"\"\"\n",
    "# Preprocess Training, Validation, and Testing Data\n",
    "helper.preprocess_and_save_data(cifar10_dataset_folder_path, normalize, one_hot_encode)"
   ]
  },
  {
   "cell_type": "markdown",
   "metadata": {},
   "source": [
    "# Check Point\n",
    "This is your first checkpoint.  If you ever decide to come back to this notebook or have to restart the notebook, you can start from here.  The preprocessed data has been saved to disk."
   ]
  },
  {
   "cell_type": "code",
   "execution_count": 1,
   "metadata": {
    "collapsed": true
   },
   "outputs": [],
   "source": [
    "\"\"\"\n",
    "DON'T MODIFY ANYTHING IN THIS CELL\n",
    "\"\"\"\n",
    "import pickle\n",
    "import problem_unittests as tests\n",
    "import helper\n",
    "\n",
    "# Load the Preprocessed Validation data\n",
    "valid_features, valid_labels = pickle.load(open('preprocess_validation.p', mode='rb'))"
   ]
  },
  {
   "cell_type": "markdown",
   "metadata": {},
   "source": [
    "## Build the network\n",
    "For the neural network, you'll build each layer into a function.  Most of the code you've seen has been outside of functions. To test your code more thoroughly, we require that you put each layer in a function.  This allows us to give you better feedback and test for simple mistakes using our unittests before you submit your project.\n",
    "\n",
    ">**Note:** If you're finding it hard to dedicate enough time for this course each week, we've provided a small shortcut to this part of the project. In the next couple of problems, you'll have the option to use classes from the [TensorFlow Layers](https://www.tensorflow.org/api_docs/python/tf/layers) or [TensorFlow Layers (contrib)](https://www.tensorflow.org/api_guides/python/contrib.layers) packages to build each layer, except the layers you build in the \"Convolutional and Max Pooling Layer\" section.  TF Layers is similar to Keras's and TFLearn's abstraction to layers, so it's easy to pickup.\n",
    "\n",
    ">However, if you would like to get the most out of this course, try to solve all the problems _without_ using anything from the TF Layers packages. You **can** still use classes from other packages that happen to have the same name as ones you find in TF Layers! For example, instead of using the TF Layers version of the `conv2d` class, [tf.layers.conv2d](https://www.tensorflow.org/api_docs/python/tf/layers/conv2d), you would want to use the TF Neural Network version of `conv2d`, [tf.nn.conv2d](https://www.tensorflow.org/api_docs/python/tf/nn/conv2d). \n",
    "\n",
    "Let's begin!\n",
    "\n",
    "### Input\n",
    "The neural network needs to read the image data, one-hot encoded labels, and dropout keep probability. Implement the following functions\n",
    "* Implement `neural_net_image_input`\n",
    " * Return a [TF Placeholder](https://www.tensorflow.org/api_docs/python/tf/placeholder)\n",
    " * Set the shape using `image_shape` with batch size set to `None`.\n",
    " * Name the TensorFlow placeholder \"x\" using the TensorFlow `name` parameter in the [TF Placeholder](https://www.tensorflow.org/api_docs/python/tf/placeholder).\n",
    "* Implement `neural_net_label_input`\n",
    " * Return a [TF Placeholder](https://www.tensorflow.org/api_docs/python/tf/placeholder)\n",
    " * Set the shape using `n_classes` with batch size set to `None`.\n",
    " * Name the TensorFlow placeholder \"y\" using the TensorFlow `name` parameter in the [TF Placeholder](https://www.tensorflow.org/api_docs/python/tf/placeholder).\n",
    "* Implement `neural_net_keep_prob_input`\n",
    " * Return a [TF Placeholder](https://www.tensorflow.org/api_docs/python/tf/placeholder) for dropout keep probability.\n",
    " * Name the TensorFlow placeholder \"keep_prob\" using the TensorFlow `name` parameter in the [TF Placeholder](https://www.tensorflow.org/api_docs/python/tf/placeholder).\n",
    "\n",
    "These names will be used at the end of the project to load your saved model.\n",
    "\n",
    "Note: `None` for shapes in TensorFlow allow for a dynamic size."
   ]
  },
  {
   "cell_type": "code",
   "execution_count": 2,
   "metadata": {
    "collapsed": false
   },
   "outputs": [
    {
     "name": "stdout",
     "output_type": "stream",
     "text": [
      "Image Input Tests Passed.\n",
      "Label Input Tests Passed.\n",
      "Keep Prob Tests Passed.\n"
     ]
    }
   ],
   "source": [
    "import tensorflow as tf\n",
    "\n",
    "def neural_net_image_input(image_shape):\n",
    "    \"\"\"\n",
    "    Return a Tensor for a bach of image input\n",
    "    : image_shape: Shape of the images\n",
    "    : return: Tensor for image input.\n",
    "    \"\"\"\n",
    "    # TODO: Implement Function\n",
    "    image_height, image_width, color_depth = image_shape\n",
    "    return tf.placeholder(tf.float32, shape = [None, image_height, image_width, color_depth], name=\"x\")\n",
    "\n",
    "\n",
    "def neural_net_label_input(n_classes):\n",
    "    \"\"\"\n",
    "    Return a Tensor for a batch of label input\n",
    "    : n_classes: Number of classes\n",
    "    : return: Tensor for label input.\n",
    "    \"\"\"\n",
    "    # TODO: Implement Function\n",
    "    return tf.placeholder(tf.float32, [None, n_classes], name=\"y\")\n",
    "\n",
    "\n",
    "def neural_net_keep_prob_input():\n",
    "    \"\"\"\n",
    "    Return a Tensor for keep probability\n",
    "    : return: Tensor for keep probability.\n",
    "    \"\"\"\n",
    "    # TODO: Implement Function\n",
    "    return tf.placeholder(tf.float32, name=\"keep_prob\")\n",
    "\n",
    "\n",
    "\"\"\"\n",
    "DON'T MODIFY ANYTHING IN THIS CELL THAT IS BELOW THIS LINE\n",
    "\"\"\"\n",
    "tf.reset_default_graph()\n",
    "tests.test_nn_image_inputs(neural_net_image_input)\n",
    "tests.test_nn_label_inputs(neural_net_label_input)\n",
    "tests.test_nn_keep_prob_inputs(neural_net_keep_prob_input)"
   ]
  },
  {
   "cell_type": "markdown",
   "metadata": {},
   "source": [
    "### Convolution and Max Pooling Layer\n",
    "Convolution layers have a lot of success with images. For this code cell, you should implement the function `conv2d_maxpool` to apply convolution then max pooling:\n",
    "* Create the weight and bias using `conv_ksize`, `conv_num_outputs` and the shape of `x_tensor`.\n",
    "* Apply a convolution to `x_tensor` using weight and `conv_strides`.\n",
    " * We recommend you use same padding, but you're welcome to use any padding.\n",
    "* Add bias\n",
    "* Add a nonlinear activation to the convolution.\n",
    "* Apply Max Pooling using `pool_ksize` and `pool_strides`.\n",
    " * We recommend you use same padding, but you're welcome to use any padding.\n",
    "\n",
    "**Note:** You **can't** use [TensorFlow Layers](https://www.tensorflow.org/api_docs/python/tf/layers) or [TensorFlow Layers (contrib)](https://www.tensorflow.org/api_guides/python/contrib.layers) for **this** layer, but you can still use TensorFlow's [Neural Network](https://www.tensorflow.org/api_docs/python/tf/nn) package. You may still use the shortcut option for all the **other** layers."
   ]
  },
  {
   "cell_type": "code",
   "execution_count": 45,
   "metadata": {
    "collapsed": false
   },
   "outputs": [
    {
     "name": "stdout",
     "output_type": "stream",
     "text": [
      "Tests Passed\n"
     ]
    }
   ],
   "source": [
    "def conv2d_maxpool(x_tensor, conv_num_outputs, conv_ksize, conv_strides, pool_ksize, pool_strides):\n",
    "    \"\"\"\n",
    "    Apply convolution then max pooling to x_tensor\n",
    "    :param x_tensor: TensorFlow Tensor\n",
    "    :param conv_num_outputs: Number of outputs for the convolutional layer\n",
    "    :param conv_ksize: kernal size 2-D Tuple for the convolutional layer\n",
    "    :param conv_strides: Stride 2-D Tuple for convolution\n",
    "    :param pool_ksize: kernal size 2-D Tuple for pool\n",
    "    :param pool_strides: Stride 2-D Tuple for pool\n",
    "    : return: A tensor that represents convolution and max pooling of x_tensor\n",
    "    \"\"\"\n",
    "    # TODO: Implement Function\n",
    "    x_tensor_shape = x_tensor.get_shape().as_list()\n",
    "    _, height, width, depth = x_tensor_shape\n",
    "    conv_ksize_x, conv_ksize_y = conv_ksize\n",
    "    conv_strides_x, conv_strides_y = conv_strides\n",
    "    pool_ksize_x, pool_ksize_y = pool_ksize\n",
    "    pool_strides_x, pool_strides_y = pool_strides\n",
    "    \n",
    "    weight = tf.Variable(tf.random_normal([conv_ksize_x, conv_ksize_y, depth, conv_num_outputs], mean = 0, stddev = 0.05))\n",
    "    bias = tf.Variable(tf.zeros(conv_num_outputs))\n",
    "\n",
    "    x_tensor = tf.nn.conv2d(x_tensor, weight, strides = [1, conv_strides_x, conv_strides_y, 1], padding = \"SAME\")\n",
    "    x_tensor = tf.nn.bias_add(x_tensor, bias)\n",
    "    x_tensor = tf.nn.relu(x_tensor)\n",
    "    x_tensor = tf.nn.max_pool(x_tensor, [1, pool_ksize_x, pool_ksize_y, 1], [1, pool_strides_x, pool_strides_y, 1], padding = \"SAME\")\n",
    "\n",
    "    return x_tensor\n",
    "    \n",
    "\"\"\"\n",
    "DON'T MODIFY ANYTHING IN THIS CELL THAT IS BELOW THIS LINE\n",
    "\"\"\"\n",
    "tests.test_con_pool(conv2d_maxpool)"
   ]
  },
  {
   "cell_type": "markdown",
   "metadata": {},
   "source": [
    "### Flatten Layer\n",
    "Implement the `flatten` function to change the dimension of `x_tensor` from a 4-D tensor to a 2-D tensor.  The output should be the shape (*Batch Size*, *Flattened Image Size*). Shortcut option: you can use classes from the [TensorFlow Layers](https://www.tensorflow.org/api_docs/python/tf/layers) or [TensorFlow Layers (contrib)](https://www.tensorflow.org/api_guides/python/contrib.layers) packages for this layer. For more of a challenge, only use other TensorFlow packages."
   ]
  },
  {
   "cell_type": "code",
   "execution_count": 46,
   "metadata": {
    "collapsed": false
   },
   "outputs": [
    {
     "name": "stdout",
     "output_type": "stream",
     "text": [
      "Tests Passed\n"
     ]
    }
   ],
   "source": [
    "def flatten(x_tensor):\n",
    "    \"\"\"\n",
    "    Flatten x_tensor to (Batch Size, Flattened Image Size)\n",
    "    : x_tensor: A tensor of size (Batch Size, ...), where ... are the image dimensions.\n",
    "    : return: A tensor of size (Batch Size, Flattened Image Size).\n",
    "    \"\"\"\n",
    "    # TODO: Implement Function\n",
    "    x_tensor_shape = x_tensor.get_shape().as_list()\n",
    "    _, width, height, depth = x_tensor_shape\n",
    "    return tf.reshape(x_tensor, [-1, width * height * depth])\n",
    "\n",
    "\n",
    "\"\"\"\n",
    "DON'T MODIFY ANYTHING IN THIS CELL THAT IS BELOW THIS LINE\n",
    "\"\"\"\n",
    "tests.test_flatten(flatten)"
   ]
  },
  {
   "cell_type": "markdown",
   "metadata": {},
   "source": [
    "### Fully-Connected Layer\n",
    "Implement the `fully_conn` function to apply a fully connected layer to `x_tensor` with the shape (*Batch Size*, *num_outputs*). Shortcut option: you can use classes from the [TensorFlow Layers](https://www.tensorflow.org/api_docs/python/tf/layers) or [TensorFlow Layers (contrib)](https://www.tensorflow.org/api_guides/python/contrib.layers) packages for this layer. For more of a challenge, only use other TensorFlow packages."
   ]
  },
  {
   "cell_type": "code",
   "execution_count": 47,
   "metadata": {
    "collapsed": false
   },
   "outputs": [
    {
     "name": "stdout",
     "output_type": "stream",
     "text": [
      "Tests Passed\n"
     ]
    }
   ],
   "source": [
    "def fully_conn(x_tensor, num_outputs):\n",
    "    \"\"\"\n",
    "    Apply a fully connected layer to x_tensor using weight and bias\n",
    "    : x_tensor: A 2-D tensor where the first dimension is batch size.\n",
    "    : num_outputs: The number of output that the new tensor should be.\n",
    "    : return: A 2-D tensor where the second dimension is num_outputs.\n",
    "    \"\"\"\n",
    "    # TODO: Implement Function\n",
    "    return tf.contrib.layers.fully_connected(inputs = x_tensor, num_outputs = num_outputs, activation_fn = tf.nn.relu)\n",
    "\n",
    "\n",
    "\"\"\"\n",
    "DON'T MODIFY ANYTHING IN THIS CELL THAT IS BELOW THIS LINE\n",
    "\"\"\"\n",
    "tests.test_fully_conn(fully_conn)"
   ]
  },
  {
   "cell_type": "markdown",
   "metadata": {},
   "source": [
    "### Output Layer\n",
    "Implement the `output` function to apply a fully connected layer to `x_tensor` with the shape (*Batch Size*, *num_outputs*). Shortcut option: you can use classes from the [TensorFlow Layers](https://www.tensorflow.org/api_docs/python/tf/layers) or [TensorFlow Layers (contrib)](https://www.tensorflow.org/api_guides/python/contrib.layers) packages for this layer. For more of a challenge, only use other TensorFlow packages.\n",
    "\n",
    "**Note:** Activation, softmax, or cross entropy should **not** be applied to this."
   ]
  },
  {
   "cell_type": "code",
   "execution_count": 48,
   "metadata": {
    "collapsed": false
   },
   "outputs": [
    {
     "name": "stdout",
     "output_type": "stream",
     "text": [
      "Tests Passed\n"
     ]
    }
   ],
   "source": [
    "def output(x_tensor, num_outputs):\n",
    "    \"\"\"\n",
    "    Apply a output layer to x_tensor using weight and bias\n",
    "    : x_tensor: A 2-D tensor where the first dimension is batch size.\n",
    "    : num_outputs: The number of output that the new tensor should be.\n",
    "    : return: A 2-D tensor where the second dimension is num_outputs.\n",
    "    \"\"\"\n",
    "    # TODO: Implement Function\n",
    "    return tf.contrib.layers.fully_connected(inputs = x_tensor, num_outputs = num_outputs)\n",
    "\n",
    "\n",
    "\"\"\"\n",
    "DON'T MODIFY ANYTHING IN THIS CELL THAT IS BELOW THIS LINE\n",
    "\"\"\"\n",
    "tests.test_output(output)"
   ]
  },
  {
   "cell_type": "markdown",
   "metadata": {},
   "source": [
    "### Create Convolutional Model\n",
    "Implement the function `conv_net` to create a convolutional neural network model. The function takes in a batch of images, `x`, and outputs logits.  Use the layers you created above to create this model:\n",
    "\n",
    "* Apply 1, 2, or 3 Convolution and Max Pool layers\n",
    "* Apply a Flatten Layer\n",
    "* Apply 1, 2, or 3 Fully Connected Layers\n",
    "* Apply an Output Layer\n",
    "* Return the output\n",
    "* Apply [TensorFlow's Dropout](https://www.tensorflow.org/api_docs/python/tf/nn/dropout) to one or more layers in the model using `keep_prob`. "
   ]
  },
  {
   "cell_type": "code",
   "execution_count": 54,
   "metadata": {
    "collapsed": false
   },
   "outputs": [
    {
     "name": "stdout",
     "output_type": "stream",
     "text": [
      "Neural Network Built!\n"
     ]
    }
   ],
   "source": [
    "def conv_net(x, keep_prob):\n",
    "    \"\"\"\n",
    "    Create a convolutional neural network model\n",
    "    : x: Placeholder tensor that holds image data.\n",
    "    : keep_prob: Placeholder tensor that hold dropout keep probability.\n",
    "    : return: Tensor that represents logits\n",
    "    \"\"\"\n",
    "    # TODO: Apply 1, 2, or 3 Convolution and Max Pool layers\n",
    "    #    Play around with different number of outputs, kernel size and stride\n",
    "    # Function Definition from Above:\n",
    "    #    conv2d_maxpool(x_tensor, conv_num_outputs, conv_ksize, conv_strides, pool_ksize, pool_strides)\n",
    "    conv = conv2d_maxpool(x, 16, (4, 4), (2, 2), (2, 2), (1, 1))\n",
    "    conv = conv2d_maxpool(conv, 64, (4, 4), (2, 2), (2, 2), (1, 1))\n",
    "    conv = tf.nn.dropout(conv, keep_prob)\n",
    "\n",
    "    # TODO: Apply a Flatten Layer\n",
    "    # Function Definition from Above:\n",
    "    #   flatten(x_tensor)\n",
    "    conv = flatten(conv)\n",
    "\n",
    "    # TODO: Apply 1, 2, or 3 Fully Connected Layers\n",
    "    #    Play around with different number of outputs\n",
    "    # Function Definition from Above:\n",
    "    #   fully_conn(x_tensor, num_outputs)\n",
    "    conv = fully_conn(conv, 24)\n",
    "    conv = tf.nn.dropout(conv, keep_prob)\n",
    "    \n",
    "    # TODO: Apply an Output Layer\n",
    "    #    Set this to the number of classes\n",
    "    # Function Definition from Above:\n",
    "    #   output(x_tensor, num_outputs)\n",
    "    conv = output(conv, 10)\n",
    "    \n",
    "    # TODO: return output\n",
    "    return conv\n",
    "\n",
    "\n",
    "\"\"\"\n",
    "DON'T MODIFY ANYTHING IN THIS CELL THAT IS BELOW THIS LINE\n",
    "\"\"\"\n",
    "\n",
    "##############################\n",
    "## Build the Neural Network ##\n",
    "##############################\n",
    "\n",
    "# Remove previous weights, bias, inputs, etc..\n",
    "tf.reset_default_graph()\n",
    "\n",
    "# Inputs\n",
    "x = neural_net_image_input((32, 32, 3))\n",
    "y = neural_net_label_input(10)\n",
    "keep_prob = neural_net_keep_prob_input()\n",
    "\n",
    "# Model\n",
    "logits = conv_net(x, keep_prob)\n",
    "\n",
    "# Name logits Tensor, so that is can be loaded from disk after training\n",
    "logits = tf.identity(logits, name='logits')\n",
    "\n",
    "# Loss and Optimizer\n",
    "cost = tf.reduce_mean(tf.nn.softmax_cross_entropy_with_logits(logits=logits, labels=y))\n",
    "optimizer = tf.train.AdamOptimizer().minimize(cost)\n",
    "\n",
    "# Accuracy\n",
    "correct_pred = tf.equal(tf.argmax(logits, 1), tf.argmax(y, 1))\n",
    "accuracy = tf.reduce_mean(tf.cast(correct_pred, tf.float32), name='accuracy')\n",
    "\n",
    "tests.test_conv_net(conv_net)"
   ]
  },
  {
   "cell_type": "markdown",
   "metadata": {},
   "source": [
    "## Train the Neural Network\n",
    "### Single Optimization\n",
    "Implement the function `train_neural_network` to do a single optimization.  The optimization should use `optimizer` to optimize in `session` with a `feed_dict` of the following:\n",
    "* `x` for image input\n",
    "* `y` for labels\n",
    "* `keep_prob` for keep probability for dropout\n",
    "\n",
    "This function will be called for each batch, so `tf.global_variables_initializer()` has already been called.\n",
    "\n",
    "Note: Nothing needs to be returned. This function is only optimizing the neural network."
   ]
  },
  {
   "cell_type": "code",
   "execution_count": 55,
   "metadata": {
    "collapsed": false
   },
   "outputs": [
    {
     "name": "stdout",
     "output_type": "stream",
     "text": [
      "Tests Passed\n"
     ]
    }
   ],
   "source": [
    "def train_neural_network(session, optimizer, keep_probability, feature_batch, label_batch):\n",
    "    \"\"\"\n",
    "    Optimize the session on a batch of images and labels\n",
    "    : session: Current TensorFlow session\n",
    "    : optimizer: TensorFlow optimizer function\n",
    "    : keep_probability: keep probability\n",
    "    : feature_batch: Batch of Numpy image data\n",
    "    : label_batch: Batch of Numpy label data\n",
    "    \"\"\"\n",
    "    # TODO: Implement Function\n",
    "    session.run(optimizer, feed_dict = {x:feature_batch, y:label_batch, keep_prob:keep_probability})\n",
    "\n",
    "\n",
    "\"\"\"\n",
    "DON'T MODIFY ANYTHING IN THIS CELL THAT IS BELOW THIS LINE\n",
    "\"\"\"\n",
    "tests.test_train_nn(train_neural_network)"
   ]
  },
  {
   "cell_type": "markdown",
   "metadata": {},
   "source": [
    "### Show Stats\n",
    "Implement the function `print_stats` to print loss and validation accuracy.  Use the global variables `valid_features` and `valid_labels` to calculate validation accuracy.  Use a keep probability of `1.0` to calculate the loss and validation accuracy."
   ]
  },
  {
   "cell_type": "code",
   "execution_count": 56,
   "metadata": {
    "collapsed": false
   },
   "outputs": [],
   "source": [
    "def print_stats(session, feature_batch, label_batch, cost, accuracy):\n",
    "    \"\"\"\n",
    "    Print information about loss and validation accuracy\n",
    "    : session: Current TensorFlow session\n",
    "    : feature_batch: Batch of Numpy image data\n",
    "    : label_batch: Batch of Numpy label data\n",
    "    : cost: TensorFlow cost function\n",
    "    : accuracy: TensorFlow accuracy function\n",
    "    \"\"\"\n",
    "    # TODO: Implement Function\n",
    "    loss = session.run(cost, feed_dict={x:feature_batch, y:label_batch, keep_prob:1.0})\n",
    "    validation_accuracy = session.run(accuracy, feed_dict={x:valid_features, y:valid_labels, keep_prob:1.0})\n",
    "    print(\"Loss: {:>2} \\t Validation Accuracy: {:>2}\".format(loss, validation_accuracy))"
   ]
  },
  {
   "cell_type": "markdown",
   "metadata": {},
   "source": [
    "### Hyperparameters\n",
    "Tune the following parameters:\n",
    "* Set `epochs` to the number of iterations until the network stops learning or start overfitting\n",
    "* Set `batch_size` to the highest number that your machine has memory for.  Most people set them to common sizes of memory:\n",
    " * 64\n",
    " * 128\n",
    " * 256\n",
    " * ...\n",
    "* Set `keep_probability` to the probability of keeping a node using dropout"
   ]
  },
  {
   "cell_type": "code",
   "execution_count": 57,
   "metadata": {
    "collapsed": true
   },
   "outputs": [],
   "source": [
    "# TODO: Tune Parameters\n",
    "epochs = 20\n",
    "batch_size = 64\n",
    "keep_probability = 0.5"
   ]
  },
  {
   "cell_type": "markdown",
   "metadata": {},
   "source": [
    "### Train on a Single CIFAR-10 Batch\n",
    "Instead of training the neural network on all the CIFAR-10 batches of data, let's use a single batch. This should save time while you iterate on the model to get a better accuracy.  Once the final validation accuracy is 50% or greater, run the model on all the data in the next section."
   ]
  },
  {
   "cell_type": "code",
   "execution_count": 58,
   "metadata": {
    "collapsed": false
   },
   "outputs": [
    {
     "name": "stdout",
     "output_type": "stream",
     "text": [
      "Checking the Training on a Single Batch...\n",
      "Epoch  1, CIFAR-10 Batch 1:  Loss: 2.2395215034484863 \t Validation Accuracy: 0.26919999718666077\n",
      "Epoch  2, CIFAR-10 Batch 1:  Loss: 2.1223771572113037 \t Validation Accuracy: 0.31439998745918274\n",
      "Epoch  3, CIFAR-10 Batch 1:  Loss: 2.0924839973449707 \t Validation Accuracy: 0.33799999952316284\n",
      "Epoch  4, CIFAR-10 Batch 1:  Loss: 1.9607082605361938 \t Validation Accuracy: 0.37779998779296875\n",
      "Epoch  5, CIFAR-10 Batch 1:  Loss: 1.877630591392517 \t Validation Accuracy: 0.43160000443458557\n",
      "Epoch  6, CIFAR-10 Batch 1:  Loss: 1.840624451637268 \t Validation Accuracy: 0.4415999948978424\n",
      "Epoch  7, CIFAR-10 Batch 1:  Loss: 1.7399650812149048 \t Validation Accuracy: 0.46219998598098755\n",
      "Epoch  8, CIFAR-10 Batch 1:  Loss: 1.7070763111114502 \t Validation Accuracy: 0.48019999265670776\n",
      "Epoch  9, CIFAR-10 Batch 1:  Loss: 1.6589725017547607 \t Validation Accuracy: 0.4796000123023987\n",
      "Epoch 10, CIFAR-10 Batch 1:  Loss: 1.6818149089813232 \t Validation Accuracy: 0.4957999885082245\n",
      "Epoch 11, CIFAR-10 Batch 1:  Loss: 1.5906357765197754 \t Validation Accuracy: 0.5012000203132629\n",
      "Epoch 12, CIFAR-10 Batch 1:  Loss: 1.609818696975708 \t Validation Accuracy: 0.5004000067710876\n",
      "Epoch 13, CIFAR-10 Batch 1:  Loss: 1.5331146717071533 \t Validation Accuracy: 0.5105999708175659\n",
      "Epoch 14, CIFAR-10 Batch 1:  Loss: 1.4729630947113037 \t Validation Accuracy: 0.5175999999046326\n",
      "Epoch 15, CIFAR-10 Batch 1:  Loss: 1.5011565685272217 \t Validation Accuracy: 0.5217999815940857\n",
      "Epoch 16, CIFAR-10 Batch 1:  Loss: 1.4619241952896118 \t Validation Accuracy: 0.5210000276565552\n",
      "Epoch 17, CIFAR-10 Batch 1:  Loss: 1.3615384101867676 \t Validation Accuracy: 0.5270000100135803\n",
      "Epoch 18, CIFAR-10 Batch 1:  Loss: 1.4222856760025024 \t Validation Accuracy: 0.5253999829292297\n",
      "Epoch 19, CIFAR-10 Batch 1:  Loss: 1.3818126916885376 \t Validation Accuracy: 0.5108000040054321\n",
      "Epoch 20, CIFAR-10 Batch 1:  Loss: 1.3256504535675049 \t Validation Accuracy: 0.5198000073432922\n"
     ]
    }
   ],
   "source": [
    "\"\"\"\n",
    "DON'T MODIFY ANYTHING IN THIS CELL\n",
    "\"\"\"\n",
    "print('Checking the Training on a Single Batch...')\n",
    "with tf.Session() as sess:\n",
    "    # Initializing the variables\n",
    "    sess.run(tf.global_variables_initializer())\n",
    "    \n",
    "    # Training cycle\n",
    "    for epoch in range(epochs):\n",
    "        batch_i = 1\n",
    "        for batch_features, batch_labels in helper.load_preprocess_training_batch(batch_i, batch_size):\n",
    "            train_neural_network(sess, optimizer, keep_probability, batch_features, batch_labels)\n",
    "        print('Epoch {:>2}, CIFAR-10 Batch {}:  '.format(epoch + 1, batch_i), end='')\n",
    "        print_stats(sess, batch_features, batch_labels, cost, accuracy)"
   ]
  },
  {
   "cell_type": "markdown",
   "metadata": {},
   "source": [
    "### Fully Train the Model\n",
    "Now that you got a good accuracy with a single CIFAR-10 batch, try it with all five batches."
   ]
  },
  {
   "cell_type": "code",
   "execution_count": 59,
   "metadata": {
    "collapsed": false
   },
   "outputs": [
    {
     "name": "stdout",
     "output_type": "stream",
     "text": [
      "Training...\n",
      "Epoch  1, CIFAR-10 Batch 1:  Loss: 2.3006818294525146 \t Validation Accuracy: 0.22179999947547913\n",
      "Epoch  1, CIFAR-10 Batch 2:  Loss: 2.0417888164520264 \t Validation Accuracy: 0.32760000228881836\n",
      "Epoch  1, CIFAR-10 Batch 3:  Loss: 1.915858507156372 \t Validation Accuracy: 0.3619999885559082\n",
      "Epoch  1, CIFAR-10 Batch 4:  Loss: 1.875549554824829 \t Validation Accuracy: 0.4106000065803528\n",
      "Epoch  1, CIFAR-10 Batch 5:  Loss: 1.7311038970947266 \t Validation Accuracy: 0.42419999837875366\n",
      "Epoch  2, CIFAR-10 Batch 1:  Loss: 1.8413288593292236 \t Validation Accuracy: 0.47119998931884766\n",
      "Epoch  2, CIFAR-10 Batch 2:  Loss: 1.6343231201171875 \t Validation Accuracy: 0.45840001106262207\n",
      "Epoch  2, CIFAR-10 Batch 3:  Loss: 1.4359209537506104 \t Validation Accuracy: 0.4848000109195709\n",
      "Epoch  2, CIFAR-10 Batch 4:  Loss: 1.6060638427734375 \t Validation Accuracy: 0.475600004196167\n",
      "Epoch  2, CIFAR-10 Batch 5:  Loss: 1.539259433746338 \t Validation Accuracy: 0.4957999885082245\n",
      "Epoch  3, CIFAR-10 Batch 1:  Loss: 1.7288410663604736 \t Validation Accuracy: 0.5180000066757202\n",
      "Epoch  3, CIFAR-10 Batch 2:  Loss: 1.553382158279419 \t Validation Accuracy: 0.5206000208854675\n",
      "Epoch  3, CIFAR-10 Batch 3:  Loss: 1.2769277095794678 \t Validation Accuracy: 0.5153999924659729\n",
      "Epoch  3, CIFAR-10 Batch 4:  Loss: 1.466611385345459 \t Validation Accuracy: 0.524399995803833\n",
      "Epoch  3, CIFAR-10 Batch 5:  Loss: 1.4537984132766724 \t Validation Accuracy: 0.5264000296592712\n",
      "Epoch  4, CIFAR-10 Batch 1:  Loss: 1.6657230854034424 \t Validation Accuracy: 0.5257999897003174\n",
      "Epoch  4, CIFAR-10 Batch 2:  Loss: 1.442920446395874 \t Validation Accuracy: 0.5389999747276306\n",
      "Epoch  4, CIFAR-10 Batch 3:  Loss: 1.2850841283798218 \t Validation Accuracy: 0.532800018787384\n",
      "Epoch  4, CIFAR-10 Batch 4:  Loss: 1.4227826595306396 \t Validation Accuracy: 0.5325999855995178\n",
      "Epoch  4, CIFAR-10 Batch 5:  Loss: 1.3448154926300049 \t Validation Accuracy: 0.5526000261306763\n",
      "Epoch  5, CIFAR-10 Batch 1:  Loss: 1.521234154701233 \t Validation Accuracy: 0.5509999990463257\n",
      "Epoch  5, CIFAR-10 Batch 2:  Loss: 1.405245304107666 \t Validation Accuracy: 0.5189999938011169\n",
      "Epoch  5, CIFAR-10 Batch 3:  Loss: 1.248208999633789 \t Validation Accuracy: 0.5440000295639038\n",
      "Epoch  5, CIFAR-10 Batch 4:  Loss: 1.3186897039413452 \t Validation Accuracy: 0.5595999956130981\n",
      "Epoch  5, CIFAR-10 Batch 5:  Loss: 1.2162957191467285 \t Validation Accuracy: 0.5519999861717224\n",
      "Epoch  6, CIFAR-10 Batch 1:  Loss: 1.454673171043396 \t Validation Accuracy: 0.574999988079071\n",
      "Epoch  6, CIFAR-10 Batch 2:  Loss: 1.382474660873413 \t Validation Accuracy: 0.5734000205993652\n",
      "Epoch  6, CIFAR-10 Batch 3:  Loss: 1.2018764019012451 \t Validation Accuracy: 0.5573999881744385\n",
      "Epoch  6, CIFAR-10 Batch 4:  Loss: 1.2427314519882202 \t Validation Accuracy: 0.574999988079071\n",
      "Epoch  6, CIFAR-10 Batch 5:  Loss: 1.2205156087875366 \t Validation Accuracy: 0.5748000144958496\n",
      "Epoch  7, CIFAR-10 Batch 1:  Loss: 1.372511625289917 \t Validation Accuracy: 0.5928000211715698\n",
      "Epoch  7, CIFAR-10 Batch 2:  Loss: 1.2889766693115234 \t Validation Accuracy: 0.5845999717712402\n",
      "Epoch  7, CIFAR-10 Batch 3:  Loss: 1.1491687297821045 \t Validation Accuracy: 0.5658000111579895\n",
      "Epoch  7, CIFAR-10 Batch 4:  Loss: 1.2413982152938843 \t Validation Accuracy: 0.5806000232696533\n",
      "Epoch  7, CIFAR-10 Batch 5:  Loss: 1.2043430805206299 \t Validation Accuracy: 0.5896000266075134\n",
      "Epoch  8, CIFAR-10 Batch 1:  Loss: 1.347475290298462 \t Validation Accuracy: 0.5971999764442444\n",
      "Epoch  8, CIFAR-10 Batch 2:  Loss: 1.1921253204345703 \t Validation Accuracy: 0.5889999866485596\n",
      "Epoch  8, CIFAR-10 Batch 3:  Loss: 1.0676860809326172 \t Validation Accuracy: 0.5898000001907349\n",
      "Epoch  8, CIFAR-10 Batch 4:  Loss: 1.2034931182861328 \t Validation Accuracy: 0.5659999847412109\n",
      "Epoch  8, CIFAR-10 Batch 5:  Loss: 1.135215401649475 \t Validation Accuracy: 0.5942000150680542\n",
      "Epoch  9, CIFAR-10 Batch 1:  Loss: 1.23946213722229 \t Validation Accuracy: 0.6051999926567078\n",
      "Epoch  9, CIFAR-10 Batch 2:  Loss: 1.3131980895996094 \t Validation Accuracy: 0.6060000061988831\n",
      "Epoch  9, CIFAR-10 Batch 3:  Loss: 1.0415818691253662 \t Validation Accuracy: 0.5893999934196472\n",
      "Epoch  9, CIFAR-10 Batch 4:  Loss: 1.1273404359817505 \t Validation Accuracy: 0.6010000109672546\n",
      "Epoch  9, CIFAR-10 Batch 5:  Loss: 1.1255600452423096 \t Validation Accuracy: 0.5917999744415283\n",
      "Epoch 10, CIFAR-10 Batch 1:  Loss: 1.2999141216278076 \t Validation Accuracy: 0.5964000225067139\n",
      "Epoch 10, CIFAR-10 Batch 2:  Loss: 1.2730846405029297 \t Validation Accuracy: 0.5950000286102295\n",
      "Epoch 10, CIFAR-10 Batch 3:  Loss: 1.0647495985031128 \t Validation Accuracy: 0.5924000144004822\n",
      "Epoch 10, CIFAR-10 Batch 4:  Loss: 1.1216099262237549 \t Validation Accuracy: 0.5924000144004822\n",
      "Epoch 10, CIFAR-10 Batch 5:  Loss: 1.0979321002960205 \t Validation Accuracy: 0.6064000129699707\n",
      "Epoch 11, CIFAR-10 Batch 1:  Loss: 1.274196743965149 \t Validation Accuracy: 0.5956000089645386\n",
      "Epoch 11, CIFAR-10 Batch 2:  Loss: 1.1834278106689453 \t Validation Accuracy: 0.6079999804496765\n",
      "Epoch 11, CIFAR-10 Batch 3:  Loss: 1.068450689315796 \t Validation Accuracy: 0.5946000218391418\n",
      "Epoch 11, CIFAR-10 Batch 4:  Loss: 1.1152877807617188 \t Validation Accuracy: 0.6097999811172485\n",
      "Epoch 11, CIFAR-10 Batch 5:  Loss: 1.1405370235443115 \t Validation Accuracy: 0.59579998254776\n",
      "Epoch 12, CIFAR-10 Batch 1:  Loss: 1.1525813341140747 \t Validation Accuracy: 0.6105999946594238\n",
      "Epoch 12, CIFAR-10 Batch 2:  Loss: 1.1627233028411865 \t Validation Accuracy: 0.616599977016449\n",
      "Epoch 12, CIFAR-10 Batch 3:  Loss: 1.0823569297790527 \t Validation Accuracy: 0.6021999716758728\n",
      "Epoch 12, CIFAR-10 Batch 4:  Loss: 1.1010414361953735 \t Validation Accuracy: 0.6093999743461609\n",
      "Epoch 12, CIFAR-10 Batch 5:  Loss: 1.083434820175171 \t Validation Accuracy: 0.6129999756813049\n",
      "Epoch 13, CIFAR-10 Batch 1:  Loss: 1.130540132522583 \t Validation Accuracy: 0.6136000156402588\n",
      "Epoch 13, CIFAR-10 Batch 2:  Loss: 1.1471706628799438 \t Validation Accuracy: 0.618399977684021\n",
      "Epoch 13, CIFAR-10 Batch 3:  Loss: 0.9950292706489563 \t Validation Accuracy: 0.6083999872207642\n",
      "Epoch 13, CIFAR-10 Batch 4:  Loss: 1.1064070463180542 \t Validation Accuracy: 0.6001999974250793\n",
      "Epoch 13, CIFAR-10 Batch 5:  Loss: 0.9958881139755249 \t Validation Accuracy: 0.6083999872207642\n",
      "Epoch 14, CIFAR-10 Batch 1:  Loss: 1.1861207485198975 \t Validation Accuracy: 0.6262000203132629\n",
      "Epoch 14, CIFAR-10 Batch 2:  Loss: 1.0692198276519775 \t Validation Accuracy: 0.6179999709129333\n",
      "Epoch 14, CIFAR-10 Batch 3:  Loss: 0.9655299186706543 \t Validation Accuracy: 0.6105999946594238\n",
      "Epoch 14, CIFAR-10 Batch 4:  Loss: 1.0629743337631226 \t Validation Accuracy: 0.605400025844574\n",
      "Epoch 14, CIFAR-10 Batch 5:  Loss: 1.0701954364776611 \t Validation Accuracy: 0.599399983882904\n",
      "Epoch 15, CIFAR-10 Batch 1:  Loss: 1.0961848497390747 \t Validation Accuracy: 0.6164000034332275\n",
      "Epoch 15, CIFAR-10 Batch 2:  Loss: 0.987277626991272 \t Validation Accuracy: 0.6223999857902527\n",
      "Epoch 15, CIFAR-10 Batch 3:  Loss: 0.9471988677978516 \t Validation Accuracy: 0.6118000149726868\n",
      "Epoch 15, CIFAR-10 Batch 4:  Loss: 1.0683660507202148 \t Validation Accuracy: 0.6251999735832214\n",
      "Epoch 15, CIFAR-10 Batch 5:  Loss: 1.0195469856262207 \t Validation Accuracy: 0.6227999925613403\n",
      "Epoch 16, CIFAR-10 Batch 1:  Loss: 1.1485273838043213 \t Validation Accuracy: 0.6118000149726868\n",
      "Epoch 16, CIFAR-10 Batch 2:  Loss: 0.998888373374939 \t Validation Accuracy: 0.6237999796867371\n",
      "Epoch 16, CIFAR-10 Batch 3:  Loss: 0.892189621925354 \t Validation Accuracy: 0.6255999803543091\n",
      "Epoch 16, CIFAR-10 Batch 4:  Loss: 0.9959723353385925 \t Validation Accuracy: 0.6245999932289124\n",
      "Epoch 16, CIFAR-10 Batch 5:  Loss: 1.003719687461853 \t Validation Accuracy: 0.614799976348877\n",
      "Epoch 17, CIFAR-10 Batch 1:  Loss: 1.1348410844802856 \t Validation Accuracy: 0.6204000115394592\n",
      "Epoch 17, CIFAR-10 Batch 2:  Loss: 0.9937777519226074 \t Validation Accuracy: 0.6245999932289124\n",
      "Epoch 17, CIFAR-10 Batch 3:  Loss: 0.8821729421615601 \t Validation Accuracy: 0.6172000169754028\n",
      "Epoch 17, CIFAR-10 Batch 4:  Loss: 1.010250449180603 \t Validation Accuracy: 0.6299999952316284\n",
      "Epoch 17, CIFAR-10 Batch 5:  Loss: 0.9820226430892944 \t Validation Accuracy: 0.6110000014305115\n",
      "Epoch 18, CIFAR-10 Batch 1:  Loss: 1.094394326210022 \t Validation Accuracy: 0.6254000067710876\n",
      "Epoch 18, CIFAR-10 Batch 2:  Loss: 0.9713541269302368 \t Validation Accuracy: 0.6263999938964844\n",
      "Epoch 18, CIFAR-10 Batch 3:  Loss: 0.8985391855239868 \t Validation Accuracy: 0.6255999803543091\n",
      "Epoch 18, CIFAR-10 Batch 4:  Loss: 1.0028984546661377 \t Validation Accuracy: 0.6259999871253967\n",
      "Epoch 18, CIFAR-10 Batch 5:  Loss: 0.9541139602661133 \t Validation Accuracy: 0.6209999918937683\n",
      "Epoch 19, CIFAR-10 Batch 1:  Loss: 1.0538263320922852 \t Validation Accuracy: 0.628600001335144\n",
      "Epoch 19, CIFAR-10 Batch 2:  Loss: 0.9906841516494751 \t Validation Accuracy: 0.6323999762535095\n",
      "Epoch 19, CIFAR-10 Batch 3:  Loss: 0.952477753162384 \t Validation Accuracy: 0.6168000102043152\n",
      "Epoch 19, CIFAR-10 Batch 4:  Loss: 0.9855621457099915 \t Validation Accuracy: 0.6230000257492065\n",
      "Epoch 19, CIFAR-10 Batch 5:  Loss: 0.9415666460990906 \t Validation Accuracy: 0.6248000264167786\n",
      "Epoch 20, CIFAR-10 Batch 1:  Loss: 1.0447070598602295 \t Validation Accuracy: 0.6277999877929688\n",
      "Epoch 20, CIFAR-10 Batch 2:  Loss: 0.9385992288589478 \t Validation Accuracy: 0.6205999851226807\n",
      "Epoch 20, CIFAR-10 Batch 3:  Loss: 0.9186092615127563 \t Validation Accuracy: 0.6155999898910522\n",
      "Epoch 20, CIFAR-10 Batch 4:  Loss: 0.9571648836135864 \t Validation Accuracy: 0.6182000041007996\n",
      "Epoch 20, CIFAR-10 Batch 5:  Loss: 1.0103116035461426 \t Validation Accuracy: 0.6236000061035156\n"
     ]
    }
   ],
   "source": [
    "\"\"\"\n",
    "DON'T MODIFY ANYTHING IN THIS CELL\n",
    "\"\"\"\n",
    "save_model_path = './image_classification'\n",
    "\n",
    "print('Training...')\n",
    "with tf.Session() as sess:\n",
    "    # Initializing the variables\n",
    "    sess.run(tf.global_variables_initializer())\n",
    "    \n",
    "    # Training cycle\n",
    "    for epoch in range(epochs):\n",
    "        # Loop over all batches\n",
    "        n_batches = 5\n",
    "        for batch_i in range(1, n_batches + 1):\n",
    "            for batch_features, batch_labels in helper.load_preprocess_training_batch(batch_i, batch_size):\n",
    "                train_neural_network(sess, optimizer, keep_probability, batch_features, batch_labels)\n",
    "            print('Epoch {:>2}, CIFAR-10 Batch {}:  '.format(epoch + 1, batch_i), end='')\n",
    "            print_stats(sess, batch_features, batch_labels, cost, accuracy)\n",
    "            \n",
    "    # Save Model\n",
    "    saver = tf.train.Saver()\n",
    "    save_path = saver.save(sess, save_model_path)"
   ]
  },
  {
   "cell_type": "markdown",
   "metadata": {},
   "source": [
    "# Checkpoint\n",
    "The model has been saved to disk.\n",
    "## Test Model\n",
    "Test your model against the test dataset.  This will be your final accuracy. You should have an accuracy greater than 50%. If you don't, keep tweaking the model architecture and parameters."
   ]
  },
  {
   "cell_type": "code",
   "execution_count": 60,
   "metadata": {
    "collapsed": false
   },
   "outputs": [
    {
     "name": "stdout",
     "output_type": "stream",
     "text": [
      "Testing Accuracy: 0.6214171974522293\n",
      "\n"
     ]
    },
    {
     "data": {
      "image/png": "[encoded data removed]",
      "text/plain": [
       "<matplotlib.figure.Figure at 0x16d078462b0>"
      ]
     },
     "metadata": {
      "image/png": {
       "height": 319,
       "width": 355
      }
     },
     "output_type": "display_data"
    }
   ],
   "source": [
    "\"\"\"\n",
    "DON'T MODIFY ANYTHING IN THIS CELL\n",
    "\"\"\"\n",
    "%matplotlib inline\n",
    "%config InlineBackend.figure_format = 'retina'\n",
    "\n",
    "import tensorflow as tf\n",
    "import pickle\n",
    "import helper\n",
    "import random\n",
    "\n",
    "# Set batch size if not already set\n",
    "try:\n",
    "    if batch_size:\n",
    "        pass\n",
    "except NameError:\n",
    "    batch_size = 64\n",
    "\n",
    "save_model_path = './image_classification'\n",
    "n_samples = 4\n",
    "top_n_predictions = 3\n",
    "\n",
    "def test_model():\n",
    "    \"\"\"\n",
    "    Test the saved model against the test dataset\n",
    "    \"\"\"\n",
    "\n",
    "    test_features, test_labels = pickle.load(open('preprocess_training.p', mode='rb'))\n",
    "    loaded_graph = tf.Graph()\n",
    "\n",
    "    with tf.Session(graph=loaded_graph) as sess:\n",
    "        # Load model\n",
    "        loader = tf.train.import_meta_graph(save_model_path + '.meta')\n",
    "        loader.restore(sess, save_model_path)\n",
    "\n",
    "        # Get Tensors from loaded model\n",
    "        loaded_x = loaded_graph.get_tensor_by_name('x:0')\n",
    "        loaded_y = loaded_graph.get_tensor_by_name('y:0')\n",
    "        loaded_keep_prob = loaded_graph.get_tensor_by_name('keep_prob:0')\n",
    "        loaded_logits = loaded_graph.get_tensor_by_name('logits:0')\n",
    "        loaded_acc = loaded_graph.get_tensor_by_name('accuracy:0')\n",
    "        \n",
    "        # Get accuracy in batches for memory limitations\n",
    "        test_batch_acc_total = 0\n",
    "        test_batch_count = 0\n",
    "        \n",
    "        for train_feature_batch, train_label_batch in helper.batch_features_labels(test_features, test_labels, batch_size):\n",
    "            test_batch_acc_total += sess.run(\n",
    "                loaded_acc,\n",
    "                feed_dict={loaded_x: train_feature_batch, loaded_y: train_label_batch, loaded_keep_prob: 1.0})\n",
    "            test_batch_count += 1\n",
    "\n",
    "        print('Testing Accuracy: {}\\n'.format(test_batch_acc_total/test_batch_count))\n",
    "\n",
    "        # Print Random Samples\n",
    "        random_test_features, random_test_labels = tuple(zip(*random.sample(list(zip(test_features, test_labels)), n_samples)))\n",
    "        random_test_predictions = sess.run(\n",
    "            tf.nn.top_k(tf.nn.softmax(loaded_logits), top_n_predictions),\n",
    "            feed_dict={loaded_x: random_test_features, loaded_y: random_test_labels, loaded_keep_prob: 1.0})\n",
    "        helper.display_image_predictions(random_test_features, random_test_labels, random_test_predictions)\n",
    "\n",
    "\n",
    "test_model()"
   ]
  },
  {
   "cell_type": "markdown",
   "metadata": {},
   "source": [
    "## Why 50-70% Accuracy?\n",
    "You might be wondering why you can't get an accuracy any higher. First things first, 50% isn't bad for a simple CNN.  Pure guessing would get you 10% accuracy. However, you might notice people are getting scores [well above 70%](http://rodrigob.github.io/are_we_there_yet/build/classification_datasets_results.html#43494641522d3130).  That's because we haven't taught you all there is to know about neural networks. We still need to cover a few more techniques.\n",
    "## Submitting This Project\n",
    "When submitting this project, make sure to run all the cells before saving the notebook.  Save the notebook file as \"dlnd_image_classification.ipynb\" and save it as a HTML file under \"File\" -> \"Download as\".  Include the \"helper.py\" and \"problem_unittests.py\" files in your submission."
   ]
  }
 ],
 "metadata": {
  "kernelspec": {
   "display_name": "Python 3",
   "language": "python",
   "name": "python3"
  },
  "language_info": {
   "codemirror_mode": {
    "name": "ipython",
    "version": 3
   },
   "file_extension": ".py",
   "mimetype": "text/x-python",
   "name": "python",
   "nbconvert_exporter": "python",
   "pygments_lexer": "ipython3",
   "version": "3.5.2"
  }
 },
 "nbformat": 4,
 "nbformat_minor": 0
}
