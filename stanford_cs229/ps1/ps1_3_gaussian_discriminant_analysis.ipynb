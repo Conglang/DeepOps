{
 "cells": [
  {
   "cell_type": "markdown",
   "metadata": {
    "deletable": true,
    "editable": true
   },
   "source": [
    "Problem Set 1: http://cs229.stanford.edu/ps/ps1/ps1.pdf\n",
    "# 3. Gaussian discriminant analysis"
   ]
  },
  {
   "cell_type": "markdown",
   "metadata": {
    "collapsed": true,
    "deletable": true,
    "editable": true
   },
   "source": [
    "## 3.a."
   ]
  },
  {
   "cell_type": "markdown",
   "metadata": {},
   "source": [
    "$$\n",
    "\\begin{align}\n",
    "p(y|x) & = \\frac{p(x|y)p(y)}{p(x)} \\\\\n",
    "& = \\frac{p(x|y)p(y)}{p(x|y=1)p(y=1) + p(x|y=-1)p(y=-1)}\n",
    "\\end{align}\n",
    "$$\n",
    "\n",
    "let\n",
    "\n",
    "$$\n",
    "\\begin{align}\n",
    "A &= -\\frac{1}{2}(x - \\mu_{1})^T \\Sigma^{-1} (x - \\mu_{1}) \\\\\n",
    "B &= -\\frac{1}{2}(x - \\mu_{-1})^T \\Sigma^{-1} (x - \\mu_{-1}) \\\\\n",
    "C &= \\frac{1}{(2\\pi)^{n/2} \\left|\\Sigma\\right|^{1/2}}\n",
    "\\end{align}\n",
    "$$\n",
    "\n",
    "when y = 1,\n",
    "\n",
    "$$\n",
    "\\begin{align} \n",
    "p(y|x) &= \\frac{p(x|y=1) p(y=1)}{p(x|y=1) p(y=1) + p(x|y=-1) p(y=-1)} \\\\\n",
    "&= \\frac{Ce^A \\phi}{Ce^A \\phi + Ce^B (1 - \\phi)} \\\\\n",
    "&= \\frac{e^A \\phi}{e^A \\phi + e^B (1 - \\phi)} \\\\\n",
    "&= \\frac{1}{1 + \\frac{1 - \\phi}{\\phi} e^{B - A}} \\\\\n",
    "&= \\frac{1}{1 + e^{(B - A + \\mathrm{ln}(1 - \\phi) - \\mathrm{ln}\\phi)}} \\\\\n",
    "&= \\frac{1}{1 + e^{- 1 (A -B + \\mathrm{ln}\\phi - \\mathrm{ln}(1 - \\phi))}} \\\\\n",
    "&= \\frac{1}{1 + e^{- y (A -B + \\mathrm{ln}\\phi - \\mathrm{ln}(1 - \\phi))}} \\\\\n",
    "\\end{align}\n",
    "$$\n",
    "\n",
    "when y = -1,\n",
    "\n",
    "$$\n",
    "\\begin{align} \n",
    "p(y|x) &= \\frac{p(x|y=-1) p(y=-1)}{p(x|y=1) p(y=1) + p(x|y=-1) p(y=-1)} \\\\\n",
    "&= \\frac{Ce^B (1 - \\phi)}{Ce^A \\phi + Ce^B (1 - \\phi)} \\\\\n",
    "&= \\frac{1}{\\frac{\\phi}{1 - \\phi} e^{A - B} + 1} \\\\\n",
    "&= \\frac{1}{1 + e^{(A - B + \\mathrm{ln}\\phi - \\mathrm{ln}(1 - \\phi))}} \\\\\n",
    "&= \\frac{1}{1 + e^{- y (A - B + \\mathrm{ln}\\phi - \\mathrm{ln}(1 - \\phi))}} \\\\\n",
    "\\end{align}\n",
    "$$\n",
    "\n",
    "In both cases,\n",
    "\n",
    "$$p(y|x) = \\frac{1}{1 + e^{- y (A - B + \\mathrm{ln}\\phi - \\mathrm{ln}(1 - \\phi))}}$$\n",
    "\n",
    "which is in the form of a logistic function:\n",
    "\n",
    "$$p(y|x) = \\frac{1}{1 + e^{-y(\\theta^T x + \\theta_0)}}$$"
   ]
  },
  {
   "cell_type": "markdown",
   "metadata": {},
   "source": [
    "## 3.b."
   ]
  },
  {
   "cell_type": "markdown",
   "metadata": {},
   "source": [
    "When x is of one dimension:\n",
    "\n",
    "$$\n",
    "\\begin{align} \n",
    "p(y) &= \\begin{cases}\n",
    "  \\phi          & \\text{if} \\; y = 1 \\\\\n",
    "  1 - \\phi     & \\text{if} \\; y = -1\n",
    "\\end{cases} \\\\\n",
    "p(x|y=1) &= \\frac{1}{(2\\pi \\sigma^2)^{\\frac{1}{2}}} \\mathrm{exp}\\bigg(-\\frac{(x - \\mu_1)^2}{2\\sigma^{2}}\\bigg ) \\\\\n",
    "p(x|y=-1) &= \\frac{1}{(2\\pi \\sigma^2)^{\\frac{1}{2}}} \\mathrm{exp}\\bigg(-\\frac{(x - \\mu_{-1})^2}{2\\sigma^{2}}\\bigg ) \\\\\n",
    "\\end{align}\n",
    "$$\n",
    "\n",
    "Assume $m_1$ data points have $y=1$, $m_{-1}$ data points have $y=-1$,\n",
    "\n",
    "The log-likelihood:\n",
    "\n",
    "$$\n",
    "\\begin{align} \n",
    "l(\\phi, \\mu_{1}, \\mu_{-1}, \\sigma^2)\n",
    "&= \\mathrm{log} \\prod_{i=1}^{m} p(x^{(i)}, y^{(i)}; \\phi, \\mu_{-1}, \\mu_1, \\sigma^2) \\\\\n",
    "&= \\mathrm{log} \\prod_{i=1}^{m} p(x^{(i)}|y^{(i)}; \\phi, \\mu_{-1}, \\mu_1, \\sigma^2) p(y^{(i)}; \\phi) \\\\\n",
    "&= \\mathrm{log} \\Biggl(\\prod_{i=1}^{m_1} \\frac{1}{(2\\pi \\sigma^2)^{\\frac{1}{2}}} \\mathrm{exp}\\bigg(-\\frac{(x^{(i)} - \\mu_1)^2}{2\\sigma^{2}}\\bigg ) \\phi \\times \\prod_{i=1}^{m_{-1}} \\frac{1}{(2\\pi \\sigma^2)^{\\frac{1}{2}}} \\mathrm{exp}\\bigg(-\\frac{(x^{(i)} - \\mu_{-1})^2}{2\\sigma^{2}}\\bigg ) (1-\\phi) \\Biggr) \\\\\n",
    "&= -\\frac{m}{2} \\mathrm{log}(2\\pi \\sigma^2) - \\sum_{i=1}^{m_1} \\frac{(x^{(i)} - \\mu_1)^2}{2\\sigma^{2}} - \\sum_{i=1}^{m_{-1}} \\frac{(x^{(i)} - \\mu_{-1})^2}{2\\sigma^{2}} + m_1 \\mathrm{log} \\phi  + m_{-1}\\mathrm{log}(1 - \\phi)\n",
    "\\end{align}\n",
    "$$\n",
    "\n",
    "For $\\phi$, let $\\frac{\\partial l}{\\partial \\phi} = 0$,\n",
    "\n",
    "$$\n",
    "\\begin{align} \n",
    "\\frac{\\partial l}{\\partial \\phi}\n",
    "&= \\frac{m_1}{\\phi} - \\frac{m_{-1}}{1 - \\phi} \\\\\n",
    "&= 0\n",
    "\\end{align}\n",
    "$$\n",
    "\n",
    "So,\n",
    "\n",
    "$$\n",
    "\\phi = \\frac{m_1}{m} = \\frac{1}{m}\\sum_{i=1}^{m} 1\\{y^{(i)} = 1\\}\n",
    "$$\n",
    "\n",
    "For $\\mu_1$, let $\\frac{\\partial l}{\\partial \\mu_1} = 0$,\n",
    "\n",
    "$$\n",
    "\\begin{align} \n",
    "\\frac{\\partial l}{\\partial \\mu_1}\n",
    "&= -\\frac{1}{2 \\sigma ^2} \\sum_{i=1}^{m_1} 2(x^{(i)} - \\mu_1) \\cdot (-1) \\\\\n",
    "&= \\frac{1}{\\sigma ^2} \\sum_{i=1}^{m_1} (x^{(i)} - \\mu_1) \\\\\n",
    "&= \\frac{1}{\\sigma ^2} \\sum_{i=1}^{m_1} x^{(i)} - \\sum_{i=1}^{m_1} \\mu_1 \\\\\n",
    "&= \\frac{1}{\\sigma ^2} \\bigg( \\sum_{i=1}^{m} 1\\{y^{(i)} = 1\\}  x^{(i)} - \\sum_{i=1}^{m} 1\\{y^{(i)} = 1\\}  \\mu_1 \\bigg) \\\\\n",
    "&= 0\n",
    "\\end{align} \n",
    "$$\n",
    "\n",
    "So,\n",
    "\n",
    "$$\n",
    "\\mu_1 = \\frac{\\sum_{i=1}^{m} 1\\{y^{(i)} = 1\\}  x^{(i)}}{\\sum_{i=1}^{m} 1\\{y^{(i)} = 1\\}}\n",
    "$$\n",
    "\n",
    "and\n",
    "\n",
    "$$\n",
    "\\mu_{-1} = \\frac{\\sum_{i=1}^{m} 1\\{y^{(i)} = -1\\}  x^{(i)}}{\\sum_{i=1}^{m} 1\\{y^{(i)} = -1\\}}\n",
    "$$\n",
    "\n",
    "For $\\sigma^2$, let $\\frac{\\partial l}{\\partial \\sigma^2} = 0$,\n",
    "\n",
    "$$\n",
    "\\begin{align}\n",
    "\\frac{\\partial l}{\\partial \\sigma^2}\n",
    "&= -\\frac{m}{2 \\sigma^2} + \\sum_{i=1}^{m_1} \\frac{(x^{(i)} - \\mu_1)^2}{2\\sigma^{4}} + \\sum_{i=1}^{m_{-1}} \\frac{(x^{(i)} - \\mu_{-1})^2}{2\\sigma^4} \\\\\n",
    "&= 0\n",
    "\\end{align}\n",
    "$$\n",
    "\n",
    "So,\n",
    "\n",
    "$$\n",
    "\\sigma^2 = \\frac{1}{m} \\sum_{i=1}^{m} (x^{(i)} - \\mu_{y{(i)}})^2\n",
    "$$"
   ]
  },
  {
   "cell_type": "markdown",
   "metadata": {},
   "source": [
    "## 3.c."
   ]
  },
  {
   "cell_type": "markdown",
   "metadata": {},
   "source": [
    "todo"
   ]
  },
  {
   "cell_type": "code",
   "execution_count": null,
   "metadata": {
    "collapsed": true
   },
   "outputs": [],
   "source": []
  }
 ],
 "metadata": {
  "kernelspec": {
   "display_name": "Python 3",
   "language": "python",
   "name": "python3"
  },
  "language_info": {
   "codemirror_mode": {
    "name": "ipython",
    "version": 3
   },
   "file_extension": ".py",
   "mimetype": "text/x-python",
   "name": "python",
   "nbconvert_exporter": "python",
   "pygments_lexer": "ipython3",
   "version": "3.6.1"
  }
 },
 "nbformat": 4,
 "nbformat_minor": 2
}
