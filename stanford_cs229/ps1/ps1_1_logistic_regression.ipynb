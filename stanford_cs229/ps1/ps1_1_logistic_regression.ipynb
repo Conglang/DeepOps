{
 "cells": [
  {
   "cell_type": "markdown",
   "metadata": {},
   "source": [
    "Problem Set 1: http://cs229.stanford.edu/ps/ps1/ps1.pdf\n",
    "# 1. Logistic regression"
   ]
  },
  {
   "cell_type": "markdown",
   "metadata": {},
   "source": [
    "## 1.a."
   ]
  },
  {
   "cell_type": "markdown",
   "metadata": {},
   "source": [
    "$\n",
    "\\begin{align}\n",
    "J(\\theta) & = \\frac{1}{m} \\sum_{k=1}^m log(1+e^{-y^{(k)}\\theta^T x^{(k)}}) \\\\ \n",
    "& = - \\frac{1}{m}\\sum_{k=1}^{m} log(g(z^{(k)}))\n",
    "\\end{align}\n",
    "$\n",
    "\n",
    "where $y^{(i)} \\in \\{ -1, 1 \\}$, $g(z^{(k)}) = \\frac{1}{1 + e^{-z^{(k)}}}$, $z^{(k)} = y^{(k)} \\theta^T x^{(k)}$\n",
    "\n",
    "and $\\frac{\\partial g}{\\partial z} = g(1-g)$\n",
    "\n",
    "so,\n",
    "\n",
    "$\n",
    "\\begin{align}\n",
    "\\frac{\\partial J}{\\partial \\theta_i} & = - \\frac{1}{m} \\sum_{k=1}^m \\frac{1}{g(z^{(k)})} \\frac{\\partial g(z^{(k)})}{\\partial z^{(k)}} \\frac{\\partial z^{(k)}}{\\partial \\theta_i} \\\\\n",
    "& = - \\frac{1}{m} \\sum_{k=1}^m \\frac{1}{g(z^{(k)})} g(z^{(k)})(1 - g(z^{(k)}) \\frac{\\partial z^{(k)}}{\\partial \\theta_i} \\\\\n",
    "& = - \\frac{1}{m} \\sum_{k=1}^m (1 - g(z^{(k)})) \\frac{\\partial z^{(k)}}{\\partial \\theta_i} \\\\\n",
    "& = - \\frac{1}{m} \\sum_{k=1}^m (1 - g(z^{(k)})) y^{(k)} x_i^{(k)} \\\\\n",
    "& = \\frac{1}{m} \\sum_{k=1}^m (g(z^{(k)}) - 1) y^{(k)} x_i^{(k)}\n",
    "\\end{align}\n",
    "$\n",
    "\n",
    "then, because $y^{(i)} \\in \\{ -1, 1 \\}$,\n",
    "\n",
    "$\n",
    "\\begin{align}\n",
    "H_{ij} = \\frac{\\partial J}{\\partial \\theta_i \\partial \\theta_j} \n",
    "& = \\frac{1}{m} \\sum_{k=1}^m (\\frac{\\partial (g(z^{(k)}) - 1))}{\\partial \\theta_j} y^{(k)} x_i^{(k)} \\\\\n",
    "& = \\frac{1}{m} \\sum_{k=1}^m \\frac{\\partial g(z^{(k)})}{\\partial \\theta_j} y^{(k)} x_i^{(k)} \\\\\n",
    "& = \\frac{1}{m} \\sum_{k=1}^m g(z^{(k)})(1-g(z^{(k)})) \\frac{\\partial z^{(k)}}{\\partial \\theta_j} y^{(k)}x_i^{(k)} \\\\\n",
    "& = \\frac{1}{m} \\sum_{k=1}^m g(z^{(k)})(1-g(z^{(k)}))  y^{(k)}x_j^{(k)}y^{(k)}x_i^{(k)} \\\\\n",
    "& = \\frac{1}{m} \\sum_{k=1}^m g(z^{(k)})(1-g(z^{(k)})) x_i^{(k)}x_j^{(k)}\n",
    "\\end{align}\n",
    "$\n",
    "\n",
    "then,\n",
    "\n",
    "$\n",
    "\\begin{align}\n",
    "z^THz & = \\sum_{i=1}^m \\sum_{j=1}^m z_iH_{ij}z_j \\\\\n",
    "& =  \\sum_{i=1}^m \\sum_{j=1}^m z_i \\biggl[ \\frac{1}{m} \\sum_{k=1}^m g(z^{(k)})(1-g(z^{(k)})) x_i^{(k)}x_j^{(k)} \\biggr] z_j \\\\\n",
    "& = \\frac{1}{m} \\sum_{k=1}^{m} g(z)(1-g(z)) \\sum_{i=1}^n \\sum_{j=1}^n z_i x_i^{(k)} x_j^{(k)}z_j \\\\\n",
    "& = \\frac{1}{m} \\sum_{k=1}^{m} g(z)(1-g(z)) ((x^{(k)})^Tz)^2\n",
    "\\end{align}\n",
    "$\n",
    "\n",
    "because $0<g(z)<1$, $z^TH \\ge 0$, so $H$ is PSD, which implies that J is convex, and has no local minima other than the global one."
   ]
  },
  {
   "cell_type": "markdown",
   "metadata": {},
   "source": [
    "## 1.b."
   ]
  },
  {
   "cell_type": "markdown",
   "metadata": {},
   "source": []
  },
  {
   "cell_type": "code",
   "execution_count": null,
   "metadata": {
    "collapsed": true
   },
   "outputs": [],
   "source": []
  }
 ],
 "metadata": {
  "kernelspec": {
   "display_name": "Python 3",
   "language": "python",
   "name": "python3"
  },
  "language_info": {
   "codemirror_mode": {
    "name": "ipython",
    "version": 3
   },
   "file_extension": ".py",
   "mimetype": "text/x-python",
   "name": "python",
   "nbconvert_exporter": "python",
   "pygments_lexer": "ipython3",
   "version": "3.6.1"
  }
 },
 "nbformat": 4,
 "nbformat_minor": 2
}
