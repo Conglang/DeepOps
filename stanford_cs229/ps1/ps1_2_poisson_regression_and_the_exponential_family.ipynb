{
 "cells": [
  {
   "cell_type": "markdown",
   "metadata": {
    "deletable": true,
    "editable": true
   },
   "source": [
    "Problem Set 1: http://cs229.stanford.edu/ps/ps1/ps1.pdf\n",
    "# 2. Poisson regression and the exponential family"
   ]
  },
  {
   "cell_type": "markdown",
   "metadata": {
    "deletable": true,
    "editable": true
   },
   "source": [
    "### 2.a."
   ]
  },
  {
   "cell_type": "markdown",
   "metadata": {
    "collapsed": true,
    "deletable": true,
    "editable": true
   },
   "source": [
    "Poisson distribution parameterized by $\\lambda$:\n",
    "\n",
    "$$\n",
    "\\begin{align}\n",
    "p(y; \\lambda) & = \\frac{e^{-\\lambda}\\lambda^y}{y!} \\\\\n",
    "& = \\frac{1}{y!} exp(yln\\lambda - \\lambda)\n",
    "\\end{align}\n",
    "$$\n",
    "\n",
    "so,\n",
    "\n",
    "$$\n",
    "\\begin{align}\n",
    "b(y) & = \\frac{1}{y!} \\\\\n",
    "\\eta & = \\mathrm{ln} \\lambda \\\\\n",
    "T(y) & = y \\\\\n",
    "a(\\eta) & = \\lambda = e^{\\eta}\n",
    "\\end{align}\n",
    "$$"
   ]
  },
  {
   "cell_type": "markdown",
   "metadata": {
    "deletable": true,
    "editable": true
   },
   "source": [
    "### 2.b."
   ]
  },
  {
   "cell_type": "markdown",
   "metadata": {
    "deletable": true,
    "editable": true
   },
   "source": [
    "Canoical response function:\n",
    "\n",
    "$$\n",
    "\\begin{align}\n",
    "g(\\eta) &= \\mathrm{E}(T(y); \\eta) \\\\\n",
    "&= \\mathrm{E}(y; \\eta) \\\\\n",
    "&= \\lambda \\\\\n",
    "&= e^{\\eta} \\\\\n",
    "h(x) &= e^{\\theta^T x} \\\\\n",
    "\\end{align}\n",
    "$$"
   ]
  },
  {
   "cell_type": "markdown",
   "metadata": {
    "deletable": true,
    "editable": true
   },
   "source": [
    "### 2.c."
   ]
  },
  {
   "cell_type": "markdown",
   "metadata": {
    "deletable": true,
    "editable": true
   },
   "source": [
    "log-likelihood:\n",
    "\n",
    "$$\n",
    "\\begin{align}\n",
    "l(\\theta) & = log(p(y; \\lambda)) \\\\\n",
    "& = -logy! - \\lambda + ylog\\lambda \\\\\n",
    "& = -logy! - e^{\\theta^Tx} + y\\theta^Tx\n",
    "\\end{align}\n",
    "$$\n",
    "\n",
    "partial derivative:\n",
    "\n",
    "$$\n",
    "\\begin{align}\n",
    "\\frac{\\partial l(\\theta)}{\\partial \\theta_j} & = yx^j - e^{\\theta^Tx}x_j \\\\\n",
    "& = (y - e^{\\theta^Tx})x_j\n",
    "\\end{align}\n",
    "$$\n",
    "\n",
    "stochastic gradient ascent:\n",
    "\n",
    "$$\\theta_j := \\theta_j + \\alpha(y^{(i)} - e^{\\theta^T x^{(i)}}) x_j^{(i)}$$"
   ]
  },
  {
   "cell_type": "markdown",
   "metadata": {
    "deletable": true,
    "editable": true
   },
   "source": [
    "### 2.d."
   ]
  },
  {
   "cell_type": "markdown",
   "metadata": {
    "deletable": true,
    "editable": true
   },
   "source": [
    "todo"
   ]
  },
  {
   "cell_type": "code",
   "execution_count": null,
   "metadata": {
    "collapsed": true,
    "deletable": true,
    "editable": true
   },
   "outputs": [],
   "source": []
  }
 ],
 "metadata": {
  "kernelspec": {
   "display_name": "Python 3",
   "language": "python",
   "name": "python3"
  },
  "language_info": {
   "codemirror_mode": {
    "name": "ipython",
    "version": 3
   },
   "file_extension": ".py",
   "mimetype": "text/x-python",
   "name": "python",
   "nbconvert_exporter": "python",
   "pygments_lexer": "ipython3",
   "version": "3.6.1"
  }
 },
 "nbformat": 4,
 "nbformat_minor": 2
}
