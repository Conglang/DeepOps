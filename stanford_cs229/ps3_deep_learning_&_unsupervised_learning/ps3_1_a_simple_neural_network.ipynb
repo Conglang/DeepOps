{
 "cells": [
  {
   "cell_type": "markdown",
   "metadata": {},
   "source": [
    "Problem Set 3: Deep Learning & Unsupervised learning\n",
    "http://cs229.stanford.edu/ps/ps3/ps3.pdf"
   ]
  },
  {
   "cell_type": "markdown",
   "metadata": {},
   "source": [
    "## 3.1. A Simple Neural Network\n",
    "### 3.1.a."
   ]
  },
  {
   "cell_type": "markdown",
   "metadata": {},
   "source": [
    "$$\n",
    "\\begin{align}\n",
    "\\frac{\\partial l}{\\partial w_{1,2}^{[1]}} \n",
    "&= \\frac{\\partial l}{\\partial o} \\frac{\\partial o}{\\partial z^o} \\frac{\\partial z^o}{\\partial h_2} \\frac{\\partial h_2}{\\partial z^{h_2}} \\frac{\\partial z^{h_2}}{\\partial w_{1,2}^{[1]}}\n",
    "\\\\\n",
    "&= \\frac{1}{m} \\sum_{i}^{m} 2(o^{(i)} - y) o^{(i)}(1 - o^{(i)}) w_2^{[2]} h_2(1 - h_2) x_1^{(i)}\n",
    "\\end{align}\n",
    "$$"
   ]
  },
  {
   "cell_type": "markdown",
   "metadata": {},
   "source": [
    "### 3.1.b."
   ]
  },
  {
   "cell_type": "markdown",
   "metadata": {},
   "source": [
    "Derive a triangle from the data scatter plot:\n",
    "\n",
    "```\n",
    "    *\n",
    "a   *  *    c\n",
    "    *     *\n",
    "    * * * *  *\n",
    "       b\n",
    "```\n",
    "\n",
    "a. $x_1 + 0 x_2 - 0.3 > 0$\n",
    "\n",
    "b. $0 x_1 + x_2 - 0.3 > 0$\n",
    "\n",
    "c. $x_1 + x_2 - 4.5 < 0 $\n",
    "\n",
    "Because of the step function, from h to o, $h_1 + h_2 + h_3 - 3 \\ge 0$\n",
    "\n",
    "$w_{0,1}^{[1]} = -0.3, w_{1,1}^{[1]} = 1, w_{2,1}^{[1]} = 0$\n",
    "\n",
    "$w_{0,2}^{[1]} = -0.3, w_{1,2}^{[1]} = 0, w_{2,2}^{[1]} = 1$\n",
    "\n",
    "$w_{0,3}^{[1]} = -4.5, w_{1,3}^{[1]} = 1, w_{2,3}^{[1]} = 1$\n",
    "\n",
    "$w_0^{[2]} = -3, w_1^{[2]} = 1, w_2^{[2]} = 1, w_3^{[2]} = 1$"
   ]
  },
  {
   "cell_type": "markdown",
   "metadata": {},
   "source": [
    "### 3.1.c.\n",
    "No. The dataset is not linearly separatable and the activation function now is linear."
   ]
  },
  {
   "cell_type": "code",
   "execution_count": null,
   "metadata": {
    "collapsed": true
   },
   "outputs": [],
   "source": []
  }
 ],
 "metadata": {
  "kernelspec": {
   "display_name": "Python 3",
   "language": "python",
   "name": "python3"
  },
  "language_info": {
   "codemirror_mode": {
    "name": "ipython",
    "version": 3
   },
   "file_extension": ".py",
   "mimetype": "text/x-python",
   "name": "python",
   "nbconvert_exporter": "python",
   "pygments_lexer": "ipython3",
   "version": "3.6.2"
  }
 },
 "nbformat": 4,
 "nbformat_minor": 2
}
