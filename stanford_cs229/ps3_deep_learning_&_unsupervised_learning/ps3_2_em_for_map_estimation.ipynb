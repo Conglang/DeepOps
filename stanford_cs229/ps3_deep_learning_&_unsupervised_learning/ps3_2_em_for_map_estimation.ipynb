{
 "cells": [
  {
   "cell_type": "markdown",
   "metadata": {},
   "source": [
    "Problem Set 3: Deep Learning & Unsupervised learning\n",
    "http://cs229.stanford.edu/ps/ps3/ps3.pdf"
   ]
  },
  {
   "cell_type": "markdown",
   "metadata": {},
   "source": [
    "## 3.2. EM for MAP estimation"
   ]
  },
  {
   "cell_type": "markdown",
   "metadata": {},
   "source": [
    "$$\n",
    "\\begin{align}\n",
    "\\mathrm{log MAP} \n",
    "&= \\sum_{i=1}^{m} \\mathrm{log} \\bigg (\\sum_{z^{(i)}} p(x^{(i)}, z^{(i)} | \\theta) \\bigg) + \\mathrm{log}(p(\\theta)) \\\\\n",
    "&= \\sum_{i=1}^{m} \\mathrm{log} \\bigg (\\sum_{z^{(i)}} Q_i(z^{(i)}) \\frac{p(x^{(i)}, z^{(i)}| \\theta)}{Q_i(z^{(i)})} \\bigg) + \\mathrm{log}(p(\\theta)) \\\\\n",
    "&\\geq \\sum_{i=1}^{m} \\bigg (\\sum_{z^{(i)}} Q_i(z^{(i)}) \\mathrm{log} \\frac{p(x^{(i)}, z^{(i)}| \\theta)}{Q_i(z^{(i)})} \\bigg) + \\mathrm{log}(p(\\theta)) \\\\\n",
    "\\end{align}\n",
    "$$"
   ]
  },
  {
   "cell_type": "markdown",
   "metadata": {},
   "source": [
    "E-step, for each data point $i$, set\n",
    "\n",
    "$$Q_i(z^{(i)}) = p(z^{(i)} | x^{(i)}, \\theta)$$\n",
    "\n",
    "M-step, \n",
    "\n",
    "$$\n",
    "\\begin{align}\n",
    "\\theta &= \\arg\\!\\max_{\\theta} (\\mathrm{logMAP}) \\\\\n",
    "&= \\arg\\!\\max_{\\theta} \\bigg[ \\sum_{i=1}^{m} \\bigg (\\sum_{z^{(i)}} Q_i(z^{(i)}) \\mathrm{log} \\frac{p(x^{(i)}, z^{(i)}| \\theta)}{Q_i(z^{(i)})} \\bigg) + \\mathrm{log}(p(\\theta)) \\bigg] \\\\\n",
    "\\end{align}\n",
    "$$"
   ]
  },
  {
   "cell_type": "code",
   "execution_count": null,
   "metadata": {
    "collapsed": true
   },
   "outputs": [],
   "source": []
  }
 ],
 "metadata": {
  "kernelspec": {
   "display_name": "Python 3",
   "language": "python",
   "name": "python3"
  },
  "language_info": {
   "codemirror_mode": {
    "name": "ipython",
    "version": 3
   },
   "file_extension": ".py",
   "mimetype": "text/x-python",
   "name": "python",
   "nbconvert_exporter": "python",
   "pygments_lexer": "ipython3",
   "version": "3.6.1"
  }
 },
 "nbformat": 4,
 "nbformat_minor": 2
}
