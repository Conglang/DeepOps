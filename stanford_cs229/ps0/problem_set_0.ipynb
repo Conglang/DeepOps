{
 "cells": [
  {
   "cell_type": "markdown",
   "metadata": {},
   "source": [
    "Problem Set 0: http://cs229.stanford.edu/materials/ps0.pdf"
   ]
  },
  {
   "cell_type": "markdown",
   "metadata": {},
   "source": [
    "## 1. Gradients and Hessians"
   ]
  },
  {
   "cell_type": "markdown",
   "metadata": {},
   "source": [
    "### 1a. "
   ]
  },
  {
   "cell_type": "markdown",
   "metadata": {},
   "source": [
    "$\n",
    "\\begin{align}\n",
    "x^TAx & = x^T(Ax) \\\\\n",
    "& = \\sum_{i=1}^n x_i(Ax)_i \\\\\n",
    "& = \\sum_{i=1}^n x_i \\Biggl(\\sum_{j=1}^n A_{ij}x_j\\Biggr) \\\\\n",
    "& = \\sum_{i=1}^n \\sum_{j=1}^n A_{ij}x_ix_j\n",
    "\\end{align}\n",
    "$\n",
    "\n",
    "because A is symmetric.\n",
    "\n",
    "$\n",
    "\\begin{align}\n",
    "\\frac{\\partial}{\\partial x_k} \\sum_{i=1}^n \\sum_{j=1}^n A_{ij}x_ix_j & = \\frac{\\partial}{\\partial x_k} \\Biggl[ \\sum_{i \\neq k} \\sum_{j \\neq k}A_{ij}x_ix_j + \\sum_{i \\neq k} A_{ik}x_ix_k + \\sum_{j \\neq k} A_{kj}x_kx_j + A_{kk}x_k^2 \\Biggr] \\\\\n",
    "& = \\sum_{i \\neq k} A_{ik}x_i + \\sum_{j \\neq k} A_{kj}x_j + 2A_{kk}x_k \\\\\n",
    "& = \\sum_{i=1}^n A_{ik}x_i + \\sum_{j=1}^n A_{kj}x_j \\\\\n",
    "& = 2 \\sum_{i=1}^n A_{ki}x_i \\\\\n",
    "\\end{align}\n",
    "$\n",
    "\n",
    "$\n",
    "\\begin{align}\n",
    "\\nabla_x (x^TAx) & = \\nabla_x \\Biggl(\\sum_{i=1}^n \\sum_{j=1}^n A_{ij}x_ix_j\\Biggr) \\\\\n",
    "& = 2Ax\n",
    "\\end{align}\n",
    "$\n",
    "\n",
    "and\n",
    "\n",
    "$\\frac{\\partial}{\\partial x_k} \\sum_{i=1}^n b_ix_i = b_k$\n",
    "\n",
    "$\\nabla_x (b^Tx) = b$\n",
    "\n",
    "then the answer is $\\nabla f(x) = \\nabla_x (\\frac{1}{2} x^T A x + b^T x) = Ax + b$"
   ]
  },
  {
   "cell_type": "markdown",
   "metadata": {},
   "source": [
    "### 1b."
   ]
  },
  {
   "cell_type": "markdown",
   "metadata": {},
   "source": [
    "$\n",
    "\\begin{align}\n",
    "\\nabla_x f(x) = \\nabla_x g(h(x)) = \\begin{bmatrix}\n",
    " \\frac{d}{d h} g(h) \\frac{\\partial}{\\partial x_1} h(x) \\\\ \n",
    " \\cdots \\\\\n",
    " \\frac{d}{d h} g(h) \\frac{\\partial}{\\partial x_n} h(x) \\\\ \n",
    "\\end{bmatrix}\n",
    "\\end{align}\n",
    "$"
   ]
  },
  {
   "cell_type": "markdown",
   "metadata": {},
   "source": [
    "### 1c."
   ]
  },
  {
   "cell_type": "markdown",
   "metadata": {},
   "source": [
    "According to a.\n",
    "\n",
    "$\n",
    "\\begin{align}\n",
    "\\frac{\\partial^2 (\\frac{1}{2} x^T A x + b^T x)}{\\partial x_k \\partial x_l}  & = \\frac{\\partial}{\\partial x_k} \\biggl[ \\frac{\\partial (\\frac{1}{2} x^T A x + b^T x)}{\\partial x_l} \\biggl] \\\\\n",
    "& = \\frac{\\partial}{\\partial x_k} \\biggl[ \\sum_{i=1}^n A_{li}x_i + b \\biggl] \\\\\n",
    "& = A_{lk} \\\\\n",
    "& = A_{kl}\n",
    "\\end{align}\n",
    "$\n",
    "\n",
    "$\n",
    "\\nabla^2 f(x) = \\nabla^2 (\\frac{1}{2}x^T A x + b^Tx) = A\n",
    "$"
   ]
  },
  {
   "cell_type": "markdown",
   "metadata": {},
   "source": [
    "### 1d. ?"
   ]
  },
  {
   "cell_type": "markdown",
   "metadata": {},
   "source": [
    "$\\nabla f(x) = \\nabla g(a^Tx) = g'(a^Tx)a$\n",
    "\n",
    "$\\nabla^2 f(x) = g''(a^Tx)a \\cdot a$"
   ]
  },
  {
   "cell_type": "markdown",
   "metadata": {},
   "source": [
    "## 2. Positive definite matrices"
   ]
  },
  {
   "cell_type": "markdown",
   "metadata": {},
   "source": [
    "### 2a."
   ]
  },
  {
   "cell_type": "markdown",
   "metadata": {},
   "source": [
    "$x^TAx = x^Tzz^Tx = \\sum_{i=1}^n \\sum_{j=1}^n z_iz_jx_ix_j = \\bigl( \\sum_{i=1}^n z_ix_i \\bigl)^2 \\ge 0$"
   ]
  },
  {
   "cell_type": "markdown",
   "metadata": {},
   "source": [
    "### 2b."
   ]
  },
  {
   "cell_type": "markdown",
   "metadata": {},
   "source": [
    "todo"
   ]
  },
  {
   "cell_type": "markdown",
   "metadata": {},
   "source": [
    "### 2c."
   ]
  },
  {
   "cell_type": "markdown",
   "metadata": {},
   "source": [
    "yes.\n",
    "\n",
    "$\n",
    "\\begin{align}\n",
    "x^T C x &= x^T (BAB^T) x \\\\\n",
    "        &= (x^T B) A (B^T x) \\\\\n",
    "        &= (B^T x)^T A (B^T x) \\\\\n",
    "        &= y^T A y \\\\\n",
    "        &\\ge 0\n",
    "\\end{align}\n",
    "$"
   ]
  },
  {
   "cell_type": "markdown",
   "metadata": {},
   "source": [
    "## 3. Eigenvectors, eigenvalues, and the spectral theorem"
   ]
  },
  {
   "cell_type": "markdown",
   "metadata": {},
   "source": [
    "### 3a."
   ]
  },
  {
   "cell_type": "markdown",
   "metadata": {},
   "source": [
    "$\n",
    "\\begin{align}\n",
    "            & A T = T \\Lambda \\\\\n",
    "\\Rightarrow & A[t^{(1)} \\cdots t^{(n)}] = [t^{(1)} \\cdots t^{(n)}] \\Lambda \\\\\n",
    "\\Rightarrow & At^{(i)} = t^{(i)} \\lambda_i \\\\\n",
    "\\end{align}\n",
    "$\n",
    "\n",
    "so is the eigenvalue/eigenvector pairs of A are $(t^{(i)}, \\lambda_i)$."
   ]
  },
  {
   "cell_type": "markdown",
   "metadata": {},
   "source": [
    "### 3b."
   ]
  },
  {
   "cell_type": "markdown",
   "metadata": {},
   "source": [
    "$AU = U \\Lambda U^T U = U \\Lambda$\n",
    "\n",
    "because of 3a.\n",
    "\n",
    "$u^{(i)}$ is an eigenvector."
   ]
  },
  {
   "cell_type": "markdown",
   "metadata": {},
   "source": [
    "### 3c."
   ]
  },
  {
   "cell_type": "markdown",
   "metadata": {},
   "source": [
    "$\n",
    "\\begin{align}\n",
    "x^TAx & = x^TU \\Lambda U^T x \\\\\n",
    "& = (U^Tx)^T \\Lambda (U^Tx) \\\\\n",
    "& = y^T \\Lambda y \\\\\n",
    "& = \\sum_{i} y_i^2 \\lambda_i \\\\\n",
    "& \\ge 0\n",
    "\\end{align}\n",
    "$\n",
    "\n",
    "then $\\lambda_i \\ge 0$."
   ]
  },
  {
   "cell_type": "code",
   "execution_count": null,
   "metadata": {
    "collapsed": true
   },
   "outputs": [],
   "source": []
  }
 ],
 "metadata": {
  "kernelspec": {
   "display_name": "Python 3",
   "language": "python",
   "name": "python3"
  },
  "language_info": {
   "codemirror_mode": {
    "name": "ipython",
    "version": 3
   },
   "file_extension": ".py",
   "mimetype": "text/x-python",
   "name": "python",
   "nbconvert_exporter": "python",
   "pygments_lexer": "ipython3",
   "version": "3.6.1"
  }
 },
 "nbformat": 4,
 "nbformat_minor": 2
}
