{
 "cells": [
  {
   "cell_type": "markdown",
   "metadata": {
    "deletable": true,
    "editable": true
   },
   "source": [
    "Problem Set 2: Supervised Learning II\n",
    "\n",
    "http://cs229.stanford.edu/ps/ps2/ps2.pdf"
   ]
  },
  {
   "cell_type": "markdown",
   "metadata": {
    "deletable": true,
    "editable": true
   },
   "source": [
    "## 2.6. Spam Classification"
   ]
  },
  {
   "cell_type": "markdown",
   "metadata": {
    "deletable": true,
    "editable": true
   },
   "source": [
    "### 2.6.a.\n",
    "Naive Bayes represented as a multinomial event model and Laplace smoothing.\n",
    "\n",
    "$$\n",
    "\\begin{align}\n",
    "\\phi_{k|y=1} &= \\frac{\\sum_{i=1}^{m} \\sum_{j=1}^{n_i} \\boldsymbol{1} \\{ x_j^{(i)} = k \\wedge y^{(i)} =1 \\} + 1}{\\sum_{i=1}^{m} \\boldsymbol{1} \\{ y^{(i)} = 1 \\} n_i + \\left| V \\right|} \\\\\n",
    "\\phi_{k|y=0} &= \\frac{\\sum_{i=1}^{m} \\sum_{j=1}^{n_i} \\boldsymbol{1} \\{ x_j^{(i)} = k \\wedge y^{(i)} =0 \\} + 1}{\\sum_{i=1}^{m} \\boldsymbol{1} \\{ y^{(i)} = 0 \\} n_i + \\left| V \\right|} \\\\\n",
    "\\phi_{y} &= \\frac{\\sum_{i=1}^{m} \\boldsymbol{1} \\{ y^{(i)} = 1 \\}}{m}\n",
    "\\end{align}\n",
    "$$\n",
    "\n",
    "To predict,\n",
    "\n",
    "$$\n",
    "\\begin{align}\n",
    "p(y=1|x) &= \\frac{p(x|y=1)p(y=1)}{p(x)} \\\\\n",
    "              &= \\frac{p(x|y=1)p(y=1)}{p(x|y=1)p(y=1) + p(x|y=0) p(y=0)} \\\\\n",
    "              &= \\frac{1}{1 + \\frac{p(x|y=0) p(y=0)}{p(x|y=1) p(y=1)}} \\\\\n",
    "              &= \\frac{1}{1 + \\mathrm{exp} (\\mathrm{log}P(x|y=0) + \\mathrm{log}P(y=0) - \\mathrm{log}P(x|y=1) - \\mathrm{log} P(y=1))}\n",
    "\\end{align}\n",
    "$$"
   ]
  },
  {
   "cell_type": "code",
   "execution_count": 1,
   "metadata": {
    "collapsed": false,
    "deletable": true,
    "editable": true
   },
   "outputs": [],
   "source": [
    "from svm import *"
   ]
  },
  {
   "cell_type": "code",
   "execution_count": 2,
   "metadata": {
    "collapsed": false,
    "deletable": true,
    "editable": true
   },
   "outputs": [
    {
     "name": "stdout",
     "output_type": "stream",
     "text": [
      "(400, 1448)\n",
      "1448\n",
      "(400,)\n"
     ]
    }
   ],
   "source": [
    "trainMatrix, tokenlist, trainCategory = readMatrix('MATRIX.TRAIN.400')\n",
    "print(trainMatrix.shape)\n",
    "print(len(tokenlist))\n",
    "print(trainCategory.shape)"
   ]
  },
  {
   "cell_type": "code",
   "execution_count": 3,
   "metadata": {
    "collapsed": false,
    "deletable": true,
    "editable": true
   },
   "outputs": [],
   "source": [
    "def naive_bayes_train(matrix, category):\n",
    "    state = {}\n",
    "    M, N = matrix.shape\n",
    "    matY0 = matrix[category == -1, :]\n",
    "    matY1 = matrix[category == 1, :]\n",
    "    phiY1 = (matY1.sum(axis = 0) + 1) / (np.sum(matY1.sum(axis = 1)) + N)\n",
    "    phiY0 = (matY0.sum(axis = 0) + 1) / (np.sum(matY0.sum(axis = 1)) + N)\n",
    "    phi = matY1.shape[0] / (matY0.shape[0] + matY1.shape[0]) \n",
    "    state['phiy1'] = phiY1\n",
    "    state['phiy0'] = phiY0\n",
    "    state['phi'] = phi\n",
    "    return state"
   ]
  },
  {
   "cell_type": "code",
   "execution_count": 4,
   "metadata": {
    "collapsed": true,
    "deletable": true,
    "editable": true
   },
   "outputs": [],
   "source": [
    "def naive_bayes_test(matrix, state):\n",
    "    output = np.zeros(matrix.shape[0])\n",
    "    \n",
    "    logXPhi1 = np.sum(np.log(state['phiy1']) * matrix, axis = 1)\n",
    "    logXPhi0 = np.sum(np.log(state['phiy0']) * matrix, axis = 1)\n",
    "    logPhi1 = np.log(state['phi'])\n",
    "    logPhi0 = np.log(1 - state['phi'])\n",
    "    \n",
    "    probability = 1.0 / (1 + np.exp(logXPhi0 + logPhi0 - logXPhi1 - logPhi1))\n",
    "    output[probability > 0.5] = 1\n",
    "    output[probability <= 0.5] = -1\n",
    "    return output"
   ]
  },
  {
   "cell_type": "code",
   "execution_count": 5,
   "metadata": {
    "collapsed": true,
    "deletable": true,
    "editable": true
   },
   "outputs": [],
   "source": [
    "def run_naive_bayes(train_file, test_file):\n",
    "    trainMatrix, tokenlist, trainCategory = readMatrix(train_file)\n",
    "    testMatrix, tokenlist, testCategory = readMatrix(test_file)\n",
    "\n",
    "    state = naive_bayes_train(trainMatrix, trainCategory)\n",
    "    output = naive_bayes_test(testMatrix, state)\n",
    "    \n",
    "    error = evaluate(output, testCategory)\n",
    "    return tokenlist, state, error, trainMatrix.shape[0]"
   ]
  },
  {
   "cell_type": "code",
   "execution_count": 6,
   "metadata": {
    "collapsed": false,
    "deletable": true,
    "editable": true
   },
   "outputs": [
    {
     "name": "stdout",
     "output_type": "stream",
     "text": [
      "Error: 0.0163\n",
      "0.01625\n"
     ]
    }
   ],
   "source": [
    "tokenlist, state, error, _ = run_naive_bayes('MATRIX.TRAIN', 'MATRIX.TEST')\n",
    "print(error)"
   ]
  },
  {
   "cell_type": "markdown",
   "metadata": {
    "deletable": true,
    "editable": true
   },
   "source": [
    "### 2.6.b."
   ]
  },
  {
   "cell_type": "code",
   "execution_count": 7,
   "metadata": {
    "collapsed": true,
    "deletable": true,
    "editable": true
   },
   "outputs": [],
   "source": [
    "def calculate_indicative_tokens(tokenlist, state, num):\n",
    "    return np.array(tokenlist)[np.argsort(state['phiy1'] / state['phiy0'])[::-1]][:num]"
   ]
  },
  {
   "cell_type": "code",
   "execution_count": 8,
   "metadata": {
    "collapsed": false,
    "deletable": true,
    "editable": true
   },
   "outputs": [
    {
     "data": {
      "text/plain": [
       "array(['httpaddr', 'spam', 'unsubscrib', 'ebai', 'valet', 'diploma', 'dvd',\n",
       "       'websit', 'click', 'lowest', 'numberpx', 'arial', 'helvetica',\n",
       "       'serif', 'nashua', 'amherst', 'mortgag', 'refin', 'charset',\n",
       "       'newslett', 'customerservic', 'numberpt', 'iso', 'web', 'lender',\n",
       "       'numberd', 'loan', 'dailybargainmail', 'coral', 'html', 'unsolicit',\n",
       "       'www', 'fl', 'holidai', 'equiti', 'tal', 'consolid', 'bachelor',\n",
       "       'sweepstak', 'subscript', 'mba', 'bonu', 'ae', 'refinanc', 'hover',\n",
       "       'mime', 'untitl', 'subscrib', 'recur', 'postal'], \n",
       "      dtype='<U16')"
      ]
     },
     "execution_count": 8,
     "metadata": {},
     "output_type": "execute_result"
    }
   ],
   "source": [
    "calculate_indicative_tokens(tokenlist, state, 50)"
   ]
  },
  {
   "cell_type": "markdown",
   "metadata": {
    "deletable": true,
    "editable": true
   },
   "source": [
    "### 2.6.c."
   ]
  },
  {
   "cell_type": "code",
   "execution_count": 9,
   "metadata": {
    "collapsed": false,
    "deletable": true,
    "editable": true
   },
   "outputs": [
    {
     "name": "stdout",
     "output_type": "stream",
     "text": [
      "['./MATRIX.TRAIN.50', './MATRIX.TRAIN.100', './MATRIX.TRAIN.200', './MATRIX.TRAIN.400', './MATRIX.TRAIN.800', './MATRIX.TRAIN.1400']\n"
     ]
    }
   ],
   "source": [
    "import glob\n",
    "files = sorted(glob.glob('./MATRIX.TRAIN.[0-9]*'), key=lambda s: int(s.rsplit('.')[-1]))\n",
    "print(files)"
   ]
  },
  {
   "cell_type": "code",
   "execution_count": 10,
   "metadata": {
    "collapsed": false,
    "deletable": true,
    "editable": true
   },
   "outputs": [],
   "source": [
    "def multiple_naive_bayes_run():\n",
    "    errors = []\n",
    "    train_sizes = []\n",
    "    for f in files:\n",
    "        tokenlist, state, error, train_size = run_naive_bayes(f, 'MATRIX.TEST')\n",
    "        errors.append(error)\n",
    "        train_sizes.append(train_size)\n",
    "    return errors, train_sizes"
   ]
  },
  {
   "cell_type": "code",
   "execution_count": 11,
   "metadata": {
    "collapsed": true,
    "deletable": true,
    "editable": true
   },
   "outputs": [],
   "source": [
    "import matplotlib.pyplot as plt\n",
    "%matplotlib inline"
   ]
  },
  {
   "cell_type": "code",
   "execution_count": 12,
   "metadata": {
    "collapsed": false,
    "deletable": true,
    "editable": true
   },
   "outputs": [
    {
     "name": "stdout",
     "output_type": "stream",
     "text": [
      "Error: 0.0387\n",
      "Error: 0.0262\n",
      "Error: 0.0262\n",
      "Error: 0.0187\n",
      "Error: 0.0175\n",
      "Error: 0.0163\n"
     ]
    },
    {
     "data": {
      "text/plain": [
       "<matplotlib.text.Text at 0x109560e48>"
      ]
     },
     "execution_count": 12,
     "metadata": {},
     "output_type": "execute_result"
    },
    {
     "data": {
      "image/png": "[encoded data removed]",
      "text/plain": [
       "<matplotlib.figure.Figure at 0x1094b5710>"
      ]
     },
     "metadata": {},
     "output_type": "display_data"
    }
   ],
   "source": [
    "nb_errors, nb_train_sizes = multiple_naive_bayes_run()\n",
    "plt.plot(nb_train_sizes, nb_errors)\n",
    "plt.xlabel('training set size')\n",
    "plt.ylabel('error')"
   ]
  },
  {
   "cell_type": "markdown",
   "metadata": {
    "deletable": true,
    "editable": true
   },
   "source": [
    "### 2.6.d."
   ]
  },
  {
   "cell_type": "code",
   "execution_count": 13,
   "metadata": {
    "collapsed": true,
    "deletable": true,
    "editable": true
   },
   "outputs": [],
   "source": [
    "def run_svm(train_file, test_file):\n",
    "    trainMatrix, tokenlist, trainCategory = readMatrix(train_file)\n",
    "    testMatrix, tokenlist, testCategory = readMatrix(test_file)\n",
    "\n",
    "    state = svm_train(trainMatrix, trainCategory)\n",
    "    output = svm_test(testMatrix, state)\n",
    "    \n",
    "    error = evaluate(output, testCategory)\n",
    "    return tokenlist, state, error, trainMatrix.shape[0]"
   ]
  },
  {
   "cell_type": "code",
   "execution_count": 14,
   "metadata": {
    "collapsed": true,
    "deletable": true,
    "editable": true
   },
   "outputs": [],
   "source": [
    "def multiple_svm_run():\n",
    "    errors = []\n",
    "    train_sizes = []\n",
    "    for f in files:\n",
    "        tokenlist, state, error, train_size = run_svm(f, 'MATRIX.TEST')\n",
    "        errors.append(error)\n",
    "        train_sizes.append(train_size)\n",
    "    return errors, train_sizes"
   ]
  },
  {
   "cell_type": "code",
   "execution_count": 15,
   "metadata": {
    "collapsed": false,
    "deletable": true,
    "editable": true
   },
   "outputs": [
    {
     "name": "stdout",
     "output_type": "stream",
     "text": [
      "Error: 0.0163\n",
      "Error: 0.0112\n",
      "Error: 0.0050\n",
      "Error: 0.0025\n",
      "Error: 0.0000\n",
      "Error: 0.0000\n"
     ]
    },
    {
     "data": {
      "text/plain": [
       "<matplotlib.text.Text at 0x104893ba8>"
      ]
     },
     "execution_count": 15,
     "metadata": {},
     "output_type": "execute_result"
    },
    {
     "data": {
      "image/png": "[encoded data removed]",
      "text/plain": [
       "<matplotlib.figure.Figure at 0x10963e748>"
      ]
     },
     "metadata": {},
     "output_type": "display_data"
    }
   ],
   "source": [
    "svm_errors, svm_train_sizes = multiple_svm_run()\n",
    "plt.plot(svm_train_sizes, svm_errors)\n",
    "plt.xlabel('training set size')\n",
    "plt.ylabel('error')"
   ]
  },
  {
   "cell_type": "markdown",
   "metadata": {
    "deletable": true,
    "editable": true
   },
   "source": [
    "### 2.6.e."
   ]
  },
  {
   "cell_type": "code",
   "execution_count": 16,
   "metadata": {
    "collapsed": false
   },
   "outputs": [
    {
     "data": {
      "text/plain": [
       "<matplotlib.legend.Legend at 0x10540bd30>"
      ]
     },
     "execution_count": 16,
     "metadata": {},
     "output_type": "execute_result"
    },
    {
     "data": {
      "image/png": "[encoded data removed]",
      "text/plain": [
       "<matplotlib.figure.Figure at 0x105f7c2e8>"
      ]
     },
     "metadata": {},
     "output_type": "display_data"
    }
   ],
   "source": [
    "plt.plot(nb_train_sizes, nb_errors, label='navie bayes')\n",
    "plt.plot(svm_train_sizes, svm_errors, label='svm')\n",
    "plt.xlabel('training set size')\n",
    "plt.ylabel('error')\n",
    "plt.legend()"
   ]
  },
  {
   "cell_type": "markdown",
   "metadata": {},
   "source": [
    "SVM performs better than Naive Bayes at every training set size."
   ]
  },
  {
   "cell_type": "code",
   "execution_count": null,
   "metadata": {
    "collapsed": true
   },
   "outputs": [],
   "source": []
  }
 ],
 "metadata": {
  "kernelspec": {
   "display_name": "Python 3",
   "language": "python",
   "name": "python3"
  },
  "language_info": {
   "codemirror_mode": {
    "name": "ipython",
    "version": 3
   },
   "file_extension": ".py",
   "mimetype": "text/x-python",
   "name": "python",
   "nbconvert_exporter": "python",
   "pygments_lexer": "ipython3",
   "version": "3.6.1"
  }
 },
 "nbformat": 4,
 "nbformat_minor": 2
}
