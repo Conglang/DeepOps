{
 "cells": [
  {
   "cell_type": "markdown",
   "metadata": {},
   "source": [
    "Problem Set 2: Supervised Learning II\n",
    "\n",
    "http://cs229.stanford.edu/ps/ps2/ps2.pdf"
   ]
  },
  {
   "cell_type": "markdown",
   "metadata": {},
   "source": [
    "## 3. Bayesian Logistic Regression and weight decay"
   ]
  },
  {
   "cell_type": "markdown",
   "metadata": {},
   "source": [
    "Given \n",
    "\n",
    "$$ \\theta_{ML} = \\mathrm{arg} \\max_{\\theta} \\prod_{i=1}^{m} p(y^{(i)} | x^{(i)}; \\theta) $$\n",
    "\n",
    "$$ \\theta_{MAP} = \\mathrm{arg} \\max_{\\theta} p(\\theta) \\prod_{i=1}^{m} p(y^{(i)} | x^{(i)}; \\theta)$$\n",
    "\n",
    "and \n",
    "\n",
    "$$\n",
    "\\theta N \\sim \\mathcal{N}(0, \\tau^{2}I)\n",
    "$$\n",
    "\n",
    "Prove that \n",
    "$$\\left|\\left|\\theta_{MAP}\\right|\\right|_2 \\le \\left|\\left|\\theta_{ML}\\right|\\right|_2\n",
    "$$"
   ]
  },
  {
   "cell_type": "markdown",
   "metadata": {},
   "source": [
    "todo"
   ]
  },
  {
   "cell_type": "code",
   "execution_count": null,
   "metadata": {
    "collapsed": true
   },
   "outputs": [],
   "source": []
  }
 ],
 "metadata": {
  "kernelspec": {
   "display_name": "Python 3",
   "language": "python",
   "name": "python3"
  },
  "language_info": {
   "codemirror_mode": {
    "name": "ipython",
    "version": 3
   },
   "file_extension": ".py",
   "mimetype": "text/x-python",
   "name": "python",
   "nbconvert_exporter": "python",
   "pygments_lexer": "ipython3",
   "version": "3.6.1"
  }
 },
 "nbformat": 4,
 "nbformat_minor": 2
}
