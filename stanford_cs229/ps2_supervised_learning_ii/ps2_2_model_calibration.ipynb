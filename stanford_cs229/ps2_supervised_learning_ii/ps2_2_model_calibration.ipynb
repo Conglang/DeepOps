{
 "cells": [
  {
   "cell_type": "markdown",
   "metadata": {
    "deletable": true,
    "editable": true
   },
   "source": [
    "Problem Set 2: Supervised Learning II\n",
    "\n",
    "http://cs229.stanford.edu/ps/ps2/ps2.pdf"
   ]
  },
  {
   "cell_type": "markdown",
   "metadata": {
    "deletable": true,
    "editable": true
   },
   "source": [
    "## 2.2. Model Calibration"
   ]
  },
  {
   "cell_type": "markdown",
   "metadata": {
    "deletable": true,
    "editable": true
   },
   "source": [
    "### 2.2.a.\n",
    "To maximize log likelihood we set the gradient to 0,\n",
    "\n",
    "$$\n",
    "\\frac{\\partial l(\\theta)}{\\partial \\theta_j} = \\sum_{i=1}^{m}(y^{(i)} - h_{\\theta}(x^{(i)}))x_{j}^{(i)} = 0\n",
    "$$\n",
    "\n",
    "$h(x^{(i)}) = \\frac{1}{1 + e^{\\theta^T x^{(i)}}}$\n",
    "\n",
    "Expand the intercept term for each $x^{(i)}$,\n",
    "\n",
    "$$\n",
    "\\begin{bmatrix}\n",
    " 1 &  \\cdots & 1 \\\\ \n",
    " x_1^{(0)} & \\cdots & x_n^{(0)} \\\\ \n",
    " \\vdots & \\ddots & \\vdots \\\\ \n",
    " x_1^{(m)}& \\cdots & x_n^{(m)}\n",
    "\\end{bmatrix} (Y - h(X)) = \\boldsymbol{0}\n",
    "$$\n",
    "\n",
    "Consider the first row only,\n",
    "\n",
    "$$\n",
    "\\begin{align}\n",
    "[1, \\cdots, 1](Y - h(X)) &= \\sum_{i=1}^{m}(y^{(i)} - h(x^{(i)})) = 0\n",
    "\\end{align}\n",
    "$$\n",
    "\n",
    "So \n",
    "\n",
    "$$\n",
    "\\begin{align}\n",
    "\\sum_{i=1}^{m}y^{(i)} = \\boldsymbol{1} \\{y^{(i)} = 1\\} = \\sum_{i=1}^{m}h(x^{(i)}) = \\sum_{i=1}^{m} P(y^{(i)}=1|x^{(i)};\\theta)\n",
    "\\end{align}\n",
    "$$\n",
    "\n",
    "thus\n",
    "\n",
    "$$\n",
    "\\frac{\\sum_{i \\in I_{0, 1}} P(y^{(i)} = 1 | x^{(i)}; \\theta)}{\\left | \\{i \\in I_{0, 1} \\} \\right |} = \\frac{\\sum_{i \\in I_{0, 1}} \\boldsymbol{1}\\{y^{(i)} = 1\\}}{\\left | \\{i \\in I_{0, 1} \\} \\right |}\n",
    "$$"
   ]
  },
  {
   "cell_type": "markdown",
   "metadata": {
    "deletable": true,
    "editable": true
   },
   "source": [
    "### 2.2.b.\n",
    "perfect accuracy -> perfect calibration"
   ]
  },
  {
   "cell_type": "markdown",
   "metadata": {
    "deletable": true,
    "editable": true
   },
   "source": [
    "### 2.2.c.\n",
    "todo"
   ]
  },
  {
   "cell_type": "code",
   "execution_count": null,
   "metadata": {
    "collapsed": true,
    "deletable": true,
    "editable": true
   },
   "outputs": [],
   "source": []
  }
 ],
 "metadata": {
  "kernelspec": {
   "display_name": "Python 3",
   "language": "python",
   "name": "python3"
  },
  "language_info": {
   "codemirror_mode": {
    "name": "ipython",
    "version": 3
   },
   "file_extension": ".py",
   "mimetype": "text/x-python",
   "name": "python",
   "nbconvert_exporter": "python",
   "pygments_lexer": "ipython3",
   "version": "3.6.1"
  }
 },
 "nbformat": 4,
 "nbformat_minor": 2
}
