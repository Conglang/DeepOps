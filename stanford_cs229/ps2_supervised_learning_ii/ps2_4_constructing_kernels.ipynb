{
 "cells": [
  {
   "cell_type": "markdown",
   "metadata": {},
   "source": [
    "Problem Set 2: Supervised Learning II\n",
    "\n",
    "http://cs229.stanford.edu/ps/ps2/ps2.pdf"
   ]
  },
  {
   "cell_type": "markdown",
   "metadata": {},
   "source": [
    "## Constructing Kernels\n",
    "\n",
    "$$\n",
    "u^TMu = \\sum_{i,j}^{m} u_i u_j K(x^{(i)}, x^{(j)})\n",
    "$$"
   ]
  },
  {
   "cell_type": "markdown",
   "metadata": {},
   "source": [
    "### 2.4.a. \n",
    "$$\n",
    "\\begin{align}\n",
    "u^TMu &= \\sum_{i,j}^{m} u_i u_j (K_1(x^{(i)}, x^{(j)}) + K_2(x^{(i)}, x^{(j)})) \\\\\n",
    "&= \\sum_{i,j}^{m} (u_i u_j K_1(x^{(i)}, x^{(j)})) + \\sum_{i,j}^{m} (u_i u_j K_2(x^{(i)}, x^{(j)})) \\\\\n",
    "&\\ge 0\n",
    "\\end{align}\n",
    "$$\n",
    "symmetric and positive semidefinite.\n",
    "Kernel."
   ]
  },
  {
   "cell_type": "markdown",
   "metadata": {},
   "source": [
    "### 2.4.b.\n",
    "$$\n",
    "\\begin{align}\n",
    "u^TMu &= \\sum_{i,j}^{m} u_i u_j (K_1(x^{(i)}, x^{(j)}) - K_2(x^{(i)}, x^{(j)})) \\\\\n",
    "&= \\sum_{i,j}^{m} (u_i u_j K_1(x^{(i)}, x^{(j)})) - \\sum_{i,j}^{m} (u_i u_j K_2(x^{(i)}, x^{(j)})) \\\\\n",
    "\\end{align}\n",
    "$$\n",
    "symmetric.\n",
    "Not kernel."
   ]
  },
  {
   "cell_type": "markdown",
   "metadata": {},
   "source": [
    "### 2.4.c.\n",
    "$$\n",
    "\\begin{align}\n",
    "u^TMu &= \\sum_{i,j}^{m} u_i u_j aK_1(x^{(i)}, x^{(j)}) \\\\\n",
    "&\\ge 0\n",
    "\\end{align}\n",
    "$$\n",
    "symmetric and positive semidefinite.\n",
    "Kernel."
   ]
  },
  {
   "cell_type": "markdown",
   "metadata": {},
   "source": [
    "### 2.4.d.\n",
    "$$\n",
    "\\begin{align}\n",
    "u^TMu &= \\sum_{i,j}^{m} u_i u_j (-a)K_1(x^{(i)}, x^{(j)}) \\\\\n",
    "&\\le 0\n",
    "\\end{align}\n",
    "$$\n",
    "symmetric.\n",
    "Not kernel."
   ]
  },
  {
   "cell_type": "markdown",
   "metadata": {},
   "source": [
    "### 2.4.e.\n",
    "todo"
   ]
  },
  {
   "cell_type": "markdown",
   "metadata": {},
   "source": [
    "### 2.4.f.\n",
    "$$\n",
    "\\begin{align}\n",
    "u^TMu &= \\sum_{i,j}^{m} u_i u_j f(x)f(z) \\\\\n",
    "\\end{align}\n",
    "$$\n",
    "\n",
    "Not kernel."
   ]
  },
  {
   "cell_type": "markdown",
   "metadata": {},
   "source": [
    "### 2.4.g.\n",
    "$$\n",
    "\\begin{align}\n",
    "u^TMu &= \\sum_{i,j}^{m} u_i u_j K_3(\\phi(x^{(i)}), \\phi(x^{(j)}))\\\\\n",
    "&\\ge 0\n",
    "\\end{align}\n",
    "$$\n",
    "Kernel"
   ]
  },
  {
   "cell_type": "markdown",
   "metadata": {},
   "source": [
    "### 2.4.h.\n",
    "todo"
   ]
  }
 ],
 "metadata": {
  "kernelspec": {
   "display_name": "Python 3",
   "language": "python",
   "name": "python3"
  },
  "language_info": {
   "codemirror_mode": {
    "name": "ipython",
    "version": 3
   },
   "file_extension": ".py",
   "mimetype": "text/x-python",
   "name": "python",
   "nbconvert_exporter": "python",
   "pygments_lexer": "ipython3",
   "version": "3.6.1"
  }
 },
 "nbformat": 4,
 "nbformat_minor": 2
}
