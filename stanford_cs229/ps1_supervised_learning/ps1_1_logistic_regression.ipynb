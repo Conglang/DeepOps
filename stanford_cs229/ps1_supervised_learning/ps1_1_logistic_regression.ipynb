{
 "cells": [
  {
   "cell_type": "markdown",
   "metadata": {
    "deletable": true,
    "editable": true
   },
   "source": [
    "Problem Set 1: http://cs229.stanford.edu/ps/ps1/ps1.pdf\n",
    "# 1. Logistic regression"
   ]
  },
  {
   "cell_type": "markdown",
   "metadata": {
    "deletable": true,
    "editable": true
   },
   "source": [
    "## 1.a."
   ]
  },
  {
   "cell_type": "markdown",
   "metadata": {
    "deletable": true,
    "editable": true
   },
   "source": [
    "$$\n",
    "\\begin{align}\n",
    "J(\\theta) & = \\frac{1}{m} \\sum_{k=1}^m log(1+e^{-y^{(k)}\\theta^T x^{(k)}}) \\\\ \n",
    "& = - \\frac{1}{m}\\sum_{k=1}^{m} log(g(z^{(k)}))\n",
    "\\end{align}\n",
    "$$\n",
    "\n",
    "where $y^{(i)} \\in \\{ -1, 1 \\}$, $g(z^{(k)}) = \\frac{1}{1 + e^{-z^{(k)}}}$, $z^{(k)} = y^{(k)} \\theta^T x^{(k)}$\n",
    "\n",
    "and $\\frac{\\partial g}{\\partial z} = g(1-g)$\n",
    "\n",
    "so,\n",
    "\n",
    "$$\n",
    "\\begin{align}\n",
    "\\frac{\\partial J}{\\partial \\theta_i} & = - \\frac{1}{m} \\sum_{k=1}^m \\frac{1}{g(z^{(k)})} \\frac{\\partial g(z^{(k)})}{\\partial z^{(k)}} \\frac{\\partial z^{(k)}}{\\partial \\theta_i} \\\\\n",
    "& = - \\frac{1}{m} \\sum_{k=1}^m \\frac{1}{g(z^{(k)})} g(z^{(k)})(1 - g(z^{(k)}) \\frac{\\partial z^{(k)}}{\\partial \\theta_i} \\\\\n",
    "& = - \\frac{1}{m} \\sum_{k=1}^m (1 - g(z^{(k)})) \\frac{\\partial z^{(k)}}{\\partial \\theta_i} \\\\\n",
    "& = - \\frac{1}{m} \\sum_{k=1}^m (1 - g(z^{(k)})) y^{(k)} x_i^{(k)} \\\\\n",
    "& = \\frac{1}{m} \\sum_{k=1}^m (g(z^{(k)}) - 1) y^{(k)} x_i^{(k)}\n",
    "\\end{align}\n",
    "$$\n",
    "\n",
    "then, because $y^{(i)} \\in \\{ -1, 1 \\}$,\n",
    "\n",
    "$$\n",
    "\\begin{align}\n",
    "H_{ij} = \\frac{\\partial J}{\\partial \\theta_i \\partial \\theta_j} \n",
    "& = \\frac{1}{m} \\sum_{k=1}^m (\\frac{\\partial (g(z^{(k)}) - 1))}{\\partial \\theta_j} y^{(k)} x_i^{(k)} \\\\\n",
    "& = \\frac{1}{m} \\sum_{k=1}^m \\frac{\\partial g(z^{(k)})}{\\partial \\theta_j} y^{(k)} x_i^{(k)} \\\\\n",
    "& = \\frac{1}{m} \\sum_{k=1}^m g(z^{(k)})(1-g(z^{(k)})) \\frac{\\partial z^{(k)}}{\\partial \\theta_j} y^{(k)}x_i^{(k)} \\\\\n",
    "& = \\frac{1}{m} \\sum_{k=1}^m g(z^{(k)})(1-g(z^{(k)}))  y^{(k)}x_j^{(k)}y^{(k)}x_i^{(k)} \\\\\n",
    "& = \\frac{1}{m} \\sum_{k=1}^m g(z^{(k)})(1-g(z^{(k)})) x_i^{(k)}x_j^{(k)}\n",
    "\\end{align}\n",
    "$$\n",
    "\n",
    "then,\n",
    "\n",
    "$$\n",
    "\\begin{align}\n",
    "z^THz & = \\sum_{i=1}^m \\sum_{j=1}^m z_iH_{ij}z_j \\\\\n",
    "& =  \\sum_{i=1}^m \\sum_{j=1}^m z_i \\biggl[ \\frac{1}{m} \\sum_{k=1}^m g(z^{(k)})(1-g(z^{(k)})) x_i^{(k)}x_j^{(k)} \\biggr] z_j \\\\\n",
    "& = \\frac{1}{m} \\sum_{k=1}^{m} g(z)(1-g(z)) \\sum_{i=1}^n \\sum_{j=1}^n z_i x_i^{(k)} x_j^{(k)}z_j \\\\\n",
    "& = \\frac{1}{m} \\sum_{k=1}^{m} g(z)(1-g(z)) ((x^{(k)})^Tz)^2\n",
    "\\end{align}\n",
    "$$\n",
    "\n",
    "because $0<g(z)<1$, $z^TH \\ge 0$, so $H$ is PSD, which implies that J is convex, and has no local minima other than the global one."
   ]
  },
  {
   "cell_type": "markdown",
   "metadata": {
    "deletable": true,
    "editable": true
   },
   "source": [
    "## 1.b."
   ]
  },
  {
   "cell_type": "markdown",
   "metadata": {
    "deletable": true,
    "editable": true
   },
   "source": [
    "Newton's method converge to $f(\\theta) = 0$, which is $\\frac{\\partial J}{\\partial \\theta}$ in this case.\n",
    "\n",
    "$$\n",
    "\\theta := \\theta - \\frac{\\nabla_\\theta J(\\theta)}{H}\n",
    "$$"
   ]
  },
  {
   "cell_type": "markdown",
   "metadata": {
    "deletable": true,
    "editable": true
   },
   "source": [
    "We have,\n",
    "\n",
    "$$z^{(k)} = y^{(k)} \\theta^T x^{(k)}$$\n",
    "\n",
    "$$g(z^{(k)}) = \\frac{1}{1 + e^{-z^{(k)}}}$$\n",
    "\n",
    "$$\n",
    "\\frac{\\partial J}{\\partial \\theta_i} \n",
    " = \\frac{1}{m} \\sum_{k=1}^{m} (g(z^{(k)}) - 1) y^{(k)} x_i^{(k)}\n",
    "$$\n",
    "\n",
    "$$\n",
    "H_{ij} = \\frac{1}{m} \\sum_{k=1}^{m} g(z^{(k)})(1 - g(z^{(k)})) x_i^{(k)} x_j^{(k)}\n",
    "$$"
   ]
  },
  {
   "cell_type": "code",
   "execution_count": 5,
   "metadata": {
    "collapsed": false,
    "deletable": true,
    "editable": true
   },
   "outputs": [],
   "source": [
    "import numpy as np\n",
    "import pandas as pd\n",
    "import matplotlib.colors as pltcolor\n",
    "import matplotlib.pyplot as plt\n",
    "\n",
    "%matplotlib inline"
   ]
  },
  {
   "cell_type": "code",
   "execution_count": 6,
   "metadata": {
    "collapsed": false,
    "deletable": true,
    "editable": true
   },
   "outputs": [
    {
     "name": "stdout",
     "output_type": "stream",
     "text": [
      "(99, 3)\n",
      "-1    50\n",
      " 1    49\n",
      "Name: y, dtype: int64\n"
     ]
    }
   ],
   "source": [
    "# load data\n",
    "X_df = pd.read_table('http://cs229.stanford.edu/ps/ps1/logistic_x.txt', sep = '\\s+', names = ['x1', 'x2'], dtype = {'x1': np.float64, 'x2': np.float64})\n",
    "y_df = pd.read_table('http://cs229.stanford.edu/ps/ps1/logistic_y.txt', names = ['y'], dtype = {'y': np.int})\n",
    "data = X_df.copy()\n",
    "data['y'] = y_df\n",
    "print(data.shape)\n",
    "print(data['y'].value_counts())"
   ]
  },
  {
   "cell_type": "code",
   "execution_count": 7,
   "metadata": {
    "collapsed": false
   },
   "outputs": [
    {
     "data": {
      "text/html": [
       "<div>\n",
       "<style scoped>\n",
       "    .dataframe tbody tr th:only-of-type {\n",
       "        vertical-align: middle;\n",
       "    }\n",
       "\n",
       "    .dataframe tbody tr th {\n",
       "        vertical-align: top;\n",
       "    }\n",
       "\n",
       "    .dataframe thead th {\n",
       "        text-align: right;\n",
       "    }\n",
       "</style>\n",
       "<table border=\"1\" class=\"dataframe\">\n",
       "  <thead>\n",
       "    <tr style=\"text-align: right;\">\n",
       "      <th></th>\n",
       "      <th>x1</th>\n",
       "      <th>x2</th>\n",
       "      <th>y</th>\n",
       "    </tr>\n",
       "  </thead>\n",
       "  <tbody>\n",
       "    <tr>\n",
       "      <th>0</th>\n",
       "      <td>1.343250</td>\n",
       "      <td>-1.331148</td>\n",
       "      <td>-1</td>\n",
       "    </tr>\n",
       "    <tr>\n",
       "      <th>1</th>\n",
       "      <td>1.820553</td>\n",
       "      <td>-0.634668</td>\n",
       "      <td>-1</td>\n",
       "    </tr>\n",
       "    <tr>\n",
       "      <th>2</th>\n",
       "      <td>0.986321</td>\n",
       "      <td>-1.888576</td>\n",
       "      <td>-1</td>\n",
       "    </tr>\n",
       "    <tr>\n",
       "      <th>3</th>\n",
       "      <td>1.944373</td>\n",
       "      <td>-1.635452</td>\n",
       "      <td>-1</td>\n",
       "    </tr>\n",
       "    <tr>\n",
       "      <th>4</th>\n",
       "      <td>0.976734</td>\n",
       "      <td>-1.353315</td>\n",
       "      <td>-1</td>\n",
       "    </tr>\n",
       "  </tbody>\n",
       "</table>\n",
       "</div>"
      ],
      "text/plain": [
       "         x1        x2  y\n",
       "0  1.343250 -1.331148 -1\n",
       "1  1.820553 -0.634668 -1\n",
       "2  0.986321 -1.888576 -1\n",
       "3  1.944373 -1.635452 -1\n",
       "4  0.976734 -1.353315 -1"
      ]
     },
     "execution_count": 7,
     "metadata": {},
     "output_type": "execute_result"
    }
   ],
   "source": [
    "data.head()"
   ]
  },
  {
   "cell_type": "code",
   "execution_count": 8,
   "metadata": {
    "collapsed": false,
    "deletable": true,
    "editable": true
   },
   "outputs": [
    {
     "data": {
      "image/png": "[encoded data removed]",
      "text/plain": [
       "<matplotlib.figure.Figure at 0x108373f28>"
      ]
     },
     "metadata": {},
     "output_type": "display_data"
    }
   ],
   "source": [
    "# plot\n",
    "colors = ['red', 'green']\n",
    "plt.scatter(data['x1'], data['x2'], c=y_df, cmap = pltcolor.ListedColormap(colors))\n",
    "plt.show()"
   ]
  },
  {
   "cell_type": "code",
   "execution_count": 9,
   "metadata": {
    "collapsed": false,
    "deletable": true,
    "editable": true
   },
   "outputs": [
    {
     "name": "stdout",
     "output_type": "stream",
     "text": [
      "X shape (99, 3)\n",
      "y shape (99, 1)\n"
     ]
    }
   ],
   "source": [
    "# adding a columns of one for theta 0\n",
    "X = X_df.as_matrix()\n",
    "X = np.hstack([np.ones((X.shape[0], 1)), X])\n",
    "y = y_df.as_matrix()\n",
    "print(\"X shape {0}\".format(X.shape))\n",
    "print(\"y shape {0}\".format(y.shape))"
   ]
  },
  {
   "cell_type": "code",
   "execution_count": 10,
   "metadata": {
    "collapsed": false,
    "deletable": true,
    "editable": true
   },
   "outputs": [],
   "source": [
    "# calculate gradient and hessian\n",
    "def calculate_gradient_hessian(X, y, theta):\n",
    "    z = X.dot(theta) * y\n",
    "    print(\"z shape {0}\".format(z.shape))\n",
    "    g = 1.0 / (1 + np.exp(-z))\n",
    "    print(\"g shape {0}\".format(g.shape))\n",
    "    gradient = np.mean((g - 1) * y * X, axis = 0).reshape(theta.shape)\n",
    "    print(\"gradient shape {0}\".format(gradient.shape))\n",
    "    print(gradient)\n",
    "    hessian = np.zeros((X.shape[1], X.shape[1]))\n",
    "    for i in range(int(hessian.shape[0])):\n",
    "        for j in range(int(hessian.shape[0])):\n",
    "            if (i <= j):\n",
    "                hessian[i][j] = np.mean(g * (1 - g) * X[:, i].reshape(X.shape[0], 1) * X[:, j].reshape(X.shape[0], 1), axis = 0)\n",
    "            hessian[j][i] = hessian[i][j]\n",
    "    print(\"hessian shape {0}\".format(hessian.shape))\n",
    "    print(hessian)\n",
    "    delta = np.linalg.inv(hessian).dot(gradient)\n",
    "    return theta - delta"
   ]
  },
  {
   "cell_type": "code",
   "execution_count": 11,
   "metadata": {
    "collapsed": false,
    "deletable": true,
    "editable": true
   },
   "outputs": [
    {
     "name": "stdout",
     "output_type": "stream",
     "text": [
      "(3, 1)\n",
      "--------------------iteration 0------------------\n",
      "z shape (99, 1)\n",
      "g shape (99, 1)\n",
      "gradient shape (3, 1)\n",
      "[[ 0.00505051]\n",
      " [-0.48150553]\n",
      " [-0.55483063]]\n",
      "hessian shape (3, 3)\n",
      "[[ 0.25        0.98082384 -0.08742426]\n",
      " [ 0.98082384  4.76984544 -0.18171064]\n",
      " [-0.08742426 -0.18171064  0.80740309]]\n",
      "--------------------iteration 1------------------\n",
      "z shape (99, 1)\n",
      "g shape (99, 1)\n",
      "gradient shape (3, 1)\n",
      "[[ 0.00051294]\n",
      " [-0.11086799]\n",
      " [-0.13284818]]\n",
      "hessian shape (3, 3)\n",
      "[[ 0.16610573  0.647951   -0.05330463]\n",
      " [ 0.647951    3.09606595 -0.22492582]\n",
      " [-0.05330463 -0.22492582  0.42035316]]\n",
      "--------------------iteration 2------------------\n",
      "z shape (99, 1)\n",
      "g shape (99, 1)\n",
      "gradient shape (3, 1)\n",
      "[[ 0.00076052]\n",
      " [-0.02500992]\n",
      " [-0.03614105]]\n",
      "hessian shape (3, 3)\n",
      "[[ 0.12033999  0.46792056 -0.03432116]\n",
      " [ 0.46792056  2.22142345 -0.19777472]\n",
      " [-0.03432116 -0.19777472  0.25028986]]\n",
      "--------------------iteration 3------------------\n",
      "z shape (99, 1)\n",
      "g shape (99, 1)\n",
      "gradient shape (3, 1)\n",
      "[[ 0.00022389]\n",
      " [-0.00287113]\n",
      " [-0.00543379]]\n",
      "hessian shape (3, 3)\n",
      "[[ 0.10319042  0.4003621  -0.02724857]\n",
      " [ 0.4003621   1.89784872 -0.17843872]\n",
      " [-0.02724857 -0.17843872  0.19465163]]\n",
      "--------------------iteration 4------------------\n",
      "z shape (99, 1)\n",
      "g shape (99, 1)\n",
      "gradient shape (3, 1)\n",
      "[[  1.04639130e-05]\n",
      " [ -6.52173238e-05]\n",
      " [ -1.73346302e-04]]\n",
      "hessian shape (3, 3)\n",
      "[[ 0.10019371  0.38857775 -0.02598358]\n",
      " [ 0.38857775  1.84188386 -0.17438771]\n",
      " [-0.02598358 -0.17438771  0.18527004]]\n",
      "--------------------iteration 5------------------\n",
      "z shape (99, 1)\n",
      "g shape (99, 1)\n",
      "gradient shape (3, 1)\n",
      "[[  1.45360119e-08]\n",
      " [ -4.47840141e-08]\n",
      " [ -1.84164565e-07]]\n",
      "hessian shape (3, 3)\n",
      "[[ 0.10009808  0.38820379 -0.02594133]\n",
      " [ 0.38820379  1.84012232 -0.17424767]\n",
      " [-0.02594133 -0.17424767  0.18496604]]\n",
      "--------------------iteration 6------------------\n",
      "z shape (99, 1)\n",
      "g shape (99, 1)\n",
      "gradient shape (3, 1)\n",
      "[[  1.95085250e-14]\n",
      " [ -2.63627504e-14]\n",
      " [ -2.02590470e-13]]\n",
      "hessian shape (3, 3)\n",
      "[[ 0.10009798  0.3882034  -0.02594128]\n",
      " [ 0.3882034   1.84012054 -0.17424752]\n",
      " [-0.02594128 -0.17424752  0.18496572]]\n",
      "converge after 7 iterations\n"
     ]
    }
   ],
   "source": [
    "# training\n",
    "theta_records = []\n",
    "\n",
    "theta = np.zeros((X.shape[1], 1))\n",
    "diff = 1\n",
    "iter = 0\n",
    "print(theta.shape)\n",
    "while diff > 1e-9:\n",
    "    print('--------------------iteration {0}------------------'.format(iter))\n",
    "    theta_records.append(theta)\n",
    "    theta = calculate_gradient_hessian(X, y, theta)\n",
    "    diff = np.sum(np.abs(theta - theta_records[-1]))\n",
    "    iter += 1\n",
    "    \n",
    "print(\"converge after {0} iterations\".format(iter))"
   ]
  },
  {
   "cell_type": "code",
   "execution_count": 12,
   "metadata": {
    "collapsed": false,
    "deletable": true,
    "editable": true
   },
   "outputs": [
    {
     "name": "stderr",
     "output_type": "stream",
     "text": [
      "/Users/cong/anaconda/envs/dl-tf/lib/python3.6/site-packages/ipykernel/__main__.py:6: RuntimeWarning: invalid value encountered in true_divide\n"
     ]
    },
    {
     "data": {
      "image/png": "[encoded data removed]",
      "text/plain": [
       "<matplotlib.figure.Figure at 0x1094f74e0>"
      ]
     },
     "metadata": {},
     "output_type": "display_data"
    }
   ],
   "source": [
    "# plot\n",
    "colors = ['red', 'green']\n",
    "plt.scatter(data['x1'], data['x2'], c=y, cmap = pltcolor.ListedColormap(colors))\n",
    "xs = X[:,1]\n",
    "for k, theta in enumerate(theta_records):\n",
    "    ys = (theta[0] + theta[1] * xs) / (-theta[2])\n",
    "    plt.plot(xs, ys, label='iter {0}'.format(k + 1), lw=0.5)\n",
    "plt.legend(bbox_to_anchor=(1,1), loc=\"upper left\")\n",
    "plt.show()"
   ]
  },
  {
   "cell_type": "code",
   "execution_count": null,
   "metadata": {
    "collapsed": true,
    "deletable": true,
    "editable": true
   },
   "outputs": [],
   "source": []
  }
 ],
 "metadata": {
  "kernelspec": {
   "display_name": "Python 3",
   "language": "python",
   "name": "python3"
  },
  "language_info": {
   "codemirror_mode": {
    "name": "ipython",
    "version": 3
   },
   "file_extension": ".py",
   "mimetype": "text/x-python",
   "name": "python",
   "nbconvert_exporter": "python",
   "pygments_lexer": "ipython3",
   "version": "3.6.1"
  }
 },
 "nbformat": 4,
 "nbformat_minor": 2
}
