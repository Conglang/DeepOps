{
 "cells": [
  {
   "cell_type": "markdown",
   "metadata": {},
   "source": [
    "# Data Extraction"
   ]
  },
  {
   "cell_type": "code",
   "execution_count": 1,
   "metadata": {
    "collapsed": true
   },
   "outputs": [],
   "source": [
    "from os.path import isfile, isdir\n",
    "import zipfile"
   ]
  },
  {
   "cell_type": "code",
   "execution_count": 2,
   "metadata": {
    "collapsed": true
   },
   "outputs": [],
   "source": [
    "if not isfile('database.csv'):\n",
    "    with zipfile.ZipFile('earthquake-database.zip', 'r') as the_zip:\n",
    "        the_zip.extractall()\n",
    "        the_zip.close()"
   ]
  },
  {
   "cell_type": "markdown",
   "metadata": {},
   "source": [
    "# Data Exploration"
   ]
  },
  {
   "cell_type": "code",
   "execution_count": 3,
   "metadata": {
    "collapsed": true
   },
   "outputs": [],
   "source": [
    "import pandas as pd\n",
    "import numpy as np\n",
    "import pprint as pp"
   ]
  },
  {
   "cell_type": "code",
   "execution_count": 4,
   "metadata": {
    "collapsed": false
   },
   "outputs": [
    {
     "name": "stdout",
     "output_type": "stream",
     "text": [
      "File load: Success\n"
     ]
    }
   ],
   "source": [
    "# load file\n",
    "try:\n",
    "    t_file = pd.read_csv('database.csv', encoding='ISO-8859-1')\n",
    "    print('File load: Success')\n",
    "except:\n",
    "    print('File load: Failed')"
   ]
  },
  {
   "cell_type": "code",
   "execution_count": 5,
   "metadata": {
    "collapsed": false
   },
   "outputs": [
    {
     "data": {
      "text/html": [
       "<div>\n",
       "<table border=\"1\" class=\"dataframe\">\n",
       "  <thead>\n",
       "    <tr style=\"text-align: right;\">\n",
       "      <th></th>\n",
       "      <th>Date</th>\n",
       "      <th>Time</th>\n",
       "      <th>Latitude</th>\n",
       "      <th>Longitude</th>\n",
       "      <th>Type</th>\n",
       "      <th>Depth</th>\n",
       "      <th>Depth Error</th>\n",
       "      <th>Depth Seismic Stations</th>\n",
       "      <th>Magnitude</th>\n",
       "      <th>Magnitude Type</th>\n",
       "      <th>...</th>\n",
       "      <th>Magnitude Seismic Stations</th>\n",
       "      <th>Azimuthal Gap</th>\n",
       "      <th>Horizontal Distance</th>\n",
       "      <th>Horizontal Error</th>\n",
       "      <th>Root Mean Square</th>\n",
       "      <th>ID</th>\n",
       "      <th>Source</th>\n",
       "      <th>Location Source</th>\n",
       "      <th>Magnitude Source</th>\n",
       "      <th>Status</th>\n",
       "    </tr>\n",
       "  </thead>\n",
       "  <tbody>\n",
       "    <tr>\n",
       "      <th>0</th>\n",
       "      <td>01/02/1965</td>\n",
       "      <td>13:44:18</td>\n",
       "      <td>19.246</td>\n",
       "      <td>145.616</td>\n",
       "      <td>Earthquake</td>\n",
       "      <td>131.6</td>\n",
       "      <td>NaN</td>\n",
       "      <td>NaN</td>\n",
       "      <td>6.0</td>\n",
       "      <td>MW</td>\n",
       "      <td>...</td>\n",
       "      <td>NaN</td>\n",
       "      <td>NaN</td>\n",
       "      <td>NaN</td>\n",
       "      <td>NaN</td>\n",
       "      <td>NaN</td>\n",
       "      <td>ISCGEM860706</td>\n",
       "      <td>ISCGEM</td>\n",
       "      <td>ISCGEM</td>\n",
       "      <td>ISCGEM</td>\n",
       "      <td>Automatic</td>\n",
       "    </tr>\n",
       "    <tr>\n",
       "      <th>1</th>\n",
       "      <td>01/04/1965</td>\n",
       "      <td>11:29:49</td>\n",
       "      <td>1.863</td>\n",
       "      <td>127.352</td>\n",
       "      <td>Earthquake</td>\n",
       "      <td>80.0</td>\n",
       "      <td>NaN</td>\n",
       "      <td>NaN</td>\n",
       "      <td>5.8</td>\n",
       "      <td>MW</td>\n",
       "      <td>...</td>\n",
       "      <td>NaN</td>\n",
       "      <td>NaN</td>\n",
       "      <td>NaN</td>\n",
       "      <td>NaN</td>\n",
       "      <td>NaN</td>\n",
       "      <td>ISCGEM860737</td>\n",
       "      <td>ISCGEM</td>\n",
       "      <td>ISCGEM</td>\n",
       "      <td>ISCGEM</td>\n",
       "      <td>Automatic</td>\n",
       "    </tr>\n",
       "    <tr>\n",
       "      <th>2</th>\n",
       "      <td>01/05/1965</td>\n",
       "      <td>18:05:58</td>\n",
       "      <td>-20.579</td>\n",
       "      <td>-173.972</td>\n",
       "      <td>Earthquake</td>\n",
       "      <td>20.0</td>\n",
       "      <td>NaN</td>\n",
       "      <td>NaN</td>\n",
       "      <td>6.2</td>\n",
       "      <td>MW</td>\n",
       "      <td>...</td>\n",
       "      <td>NaN</td>\n",
       "      <td>NaN</td>\n",
       "      <td>NaN</td>\n",
       "      <td>NaN</td>\n",
       "      <td>NaN</td>\n",
       "      <td>ISCGEM860762</td>\n",
       "      <td>ISCGEM</td>\n",
       "      <td>ISCGEM</td>\n",
       "      <td>ISCGEM</td>\n",
       "      <td>Automatic</td>\n",
       "    </tr>\n",
       "    <tr>\n",
       "      <th>3</th>\n",
       "      <td>01/08/1965</td>\n",
       "      <td>18:49:43</td>\n",
       "      <td>-59.076</td>\n",
       "      <td>-23.557</td>\n",
       "      <td>Earthquake</td>\n",
       "      <td>15.0</td>\n",
       "      <td>NaN</td>\n",
       "      <td>NaN</td>\n",
       "      <td>5.8</td>\n",
       "      <td>MW</td>\n",
       "      <td>...</td>\n",
       "      <td>NaN</td>\n",
       "      <td>NaN</td>\n",
       "      <td>NaN</td>\n",
       "      <td>NaN</td>\n",
       "      <td>NaN</td>\n",
       "      <td>ISCGEM860856</td>\n",
       "      <td>ISCGEM</td>\n",
       "      <td>ISCGEM</td>\n",
       "      <td>ISCGEM</td>\n",
       "      <td>Automatic</td>\n",
       "    </tr>\n",
       "    <tr>\n",
       "      <th>4</th>\n",
       "      <td>01/09/1965</td>\n",
       "      <td>13:32:50</td>\n",
       "      <td>11.938</td>\n",
       "      <td>126.427</td>\n",
       "      <td>Earthquake</td>\n",
       "      <td>15.0</td>\n",
       "      <td>NaN</td>\n",
       "      <td>NaN</td>\n",
       "      <td>5.8</td>\n",
       "      <td>MW</td>\n",
       "      <td>...</td>\n",
       "      <td>NaN</td>\n",
       "      <td>NaN</td>\n",
       "      <td>NaN</td>\n",
       "      <td>NaN</td>\n",
       "      <td>NaN</td>\n",
       "      <td>ISCGEM860890</td>\n",
       "      <td>ISCGEM</td>\n",
       "      <td>ISCGEM</td>\n",
       "      <td>ISCGEM</td>\n",
       "      <td>Automatic</td>\n",
       "    </tr>\n",
       "  </tbody>\n",
       "</table>\n",
       "<p>5 rows × 21 columns</p>\n",
       "</div>"
      ],
      "text/plain": [
       "         Date      Time  Latitude  Longitude        Type  Depth  Depth Error  \\\n",
       "0  01/02/1965  13:44:18    19.246    145.616  Earthquake  131.6          NaN   \n",
       "1  01/04/1965  11:29:49     1.863    127.352  Earthquake   80.0          NaN   \n",
       "2  01/05/1965  18:05:58   -20.579   -173.972  Earthquake   20.0          NaN   \n",
       "3  01/08/1965  18:49:43   -59.076    -23.557  Earthquake   15.0          NaN   \n",
       "4  01/09/1965  13:32:50    11.938    126.427  Earthquake   15.0          NaN   \n",
       "\n",
       "   Depth Seismic Stations  Magnitude Magnitude Type    ...      \\\n",
       "0                     NaN        6.0             MW    ...       \n",
       "1                     NaN        5.8             MW    ...       \n",
       "2                     NaN        6.2             MW    ...       \n",
       "3                     NaN        5.8             MW    ...       \n",
       "4                     NaN        5.8             MW    ...       \n",
       "\n",
       "   Magnitude Seismic Stations  Azimuthal Gap  Horizontal Distance  \\\n",
       "0                         NaN            NaN                  NaN   \n",
       "1                         NaN            NaN                  NaN   \n",
       "2                         NaN            NaN                  NaN   \n",
       "3                         NaN            NaN                  NaN   \n",
       "4                         NaN            NaN                  NaN   \n",
       "\n",
       "   Horizontal Error  Root Mean Square            ID  Source Location Source  \\\n",
       "0               NaN               NaN  ISCGEM860706  ISCGEM          ISCGEM   \n",
       "1               NaN               NaN  ISCGEM860737  ISCGEM          ISCGEM   \n",
       "2               NaN               NaN  ISCGEM860762  ISCGEM          ISCGEM   \n",
       "3               NaN               NaN  ISCGEM860856  ISCGEM          ISCGEM   \n",
       "4               NaN               NaN  ISCGEM860890  ISCGEM          ISCGEM   \n",
       "\n",
       "  Magnitude Source     Status  \n",
       "0           ISCGEM  Automatic  \n",
       "1           ISCGEM  Automatic  \n",
       "2           ISCGEM  Automatic  \n",
       "3           ISCGEM  Automatic  \n",
       "4           ISCGEM  Automatic  \n",
       "\n",
       "[5 rows x 21 columns]"
      ]
     },
     "execution_count": 5,
     "metadata": {},
     "output_type": "execute_result"
    }
   ],
   "source": [
    "t_file.head()"
   ]
  },
  {
   "cell_type": "code",
   "execution_count": 6,
   "metadata": {
    "collapsed": false
   },
   "outputs": [
    {
     "data": {
      "text/plain": [
       "(23412, 21)"
      ]
     },
     "execution_count": 6,
     "metadata": {},
     "output_type": "execute_result"
    }
   ],
   "source": [
    "t_file.shape"
   ]
  },
  {
   "cell_type": "code",
   "execution_count": 7,
   "metadata": {
    "collapsed": false
   },
   "outputs": [
    {
     "data": {
      "text/plain": [
       "Index(['Date', 'Time', 'Latitude', 'Longitude', 'Type', 'Depth', 'Depth Error',\n",
       "       'Depth Seismic Stations', 'Magnitude', 'Magnitude Type',\n",
       "       'Magnitude Error', 'Magnitude Seismic Stations', 'Azimuthal Gap',\n",
       "       'Horizontal Distance', 'Horizontal Error', 'Root Mean Square', 'ID',\n",
       "       'Source', 'Location Source', 'Magnitude Source', 'Status'],\n",
       "      dtype='object')"
      ]
     },
     "execution_count": 7,
     "metadata": {},
     "output_type": "execute_result"
    }
   ],
   "source": [
    "t_file.columns"
   ]
  },
  {
   "cell_type": "code",
   "execution_count": 8,
   "metadata": {
    "collapsed": false
   },
   "outputs": [
    {
     "name": "stdout",
     "output_type": "stream",
     "text": [
      "Date\n",
      "03/11/2011    128\n",
      "12/26/2004     51\n",
      "02/27/2010     39\n",
      "02/06/2013     27\n",
      "11/15/2006     25\n",
      "11/16/2000     21\n",
      "03/12/2011     21\n",
      "02/04/1965     19\n",
      "07/18/1992     17\n",
      "12/03/1995     15\n",
      "12/27/2004     14\n",
      "08/16/1995     14\n",
      "03/23/1978     13\n",
      "10/07/2009     13\n",
      "07/26/1971     13\n",
      "09/17/2015     13\n",
      "10/04/1994     13\n",
      "03/22/2011     13\n",
      "10/08/2005     13\n",
      "04/02/2007     12\n",
      "04/01/2007     12\n",
      "08/12/1969     12\n",
      "04/11/2012     12\n",
      "07/17/2006     12\n",
      "03/04/1985     12\n",
      "09/16/2015     12\n",
      "05/16/1968     11\n",
      "06/23/2014     11\n",
      "10/20/1986     11\n",
      "04/06/1990     11\n",
      "             ... \n",
      "12/04/1987      1\n",
      "01/23/1992      1\n",
      "05/19/1989      1\n",
      "02/23/2012      1\n",
      "12/02/2014      1\n",
      "10/04/2002      1\n",
      "06/18/2016      1\n",
      "06/13/2004      1\n",
      "08/07/2006      1\n",
      "01/27/2014      1\n",
      "12/09/1967      1\n",
      "08/23/1968      1\n",
      "10/05/1996      1\n",
      "04/30/2016      1\n",
      "01/11/1974      1\n",
      "06/24/2015      1\n",
      "07/04/1996      1\n",
      "06/04/2014      1\n",
      "06/24/2016      1\n",
      "02/03/1998      1\n",
      "10/01/1999      1\n",
      "01/05/2006      1\n",
      "04/09/2001      1\n",
      "06/19/1984      1\n",
      "05/23/1977      1\n",
      "11/10/1974      1\n",
      "12/01/2001      1\n",
      "08/18/1980      1\n",
      "08/11/2015      1\n",
      "12/15/1975      1\n",
      "Name: Date, dtype: int64\n",
      "\n",
      "Time\n",
      "14:09:03    5\n",
      "02:56:58    5\n",
      "15:06:45    4\n",
      "06:29:16    4\n",
      "14:57:12    4\n",
      "16:28:15    4\n",
      "04:59:57    4\n",
      "05:29:26    4\n",
      "04:59:58    4\n",
      "02:21:11    4\n",
      "07:46:53    4\n",
      "09:18:32    4\n",
      "16:25:34    4\n",
      "11:32:27    4\n",
      "07:44:11    4\n",
      "02:53:15    4\n",
      "05:11:35    4\n",
      "13:48:32    4\n",
      "11:57:34    4\n",
      "17:06:51    4\n",
      "15:56:35    4\n",
      "12:17:27    4\n",
      "14:59:58    3\n",
      "10:43:23    3\n",
      "04:45:44    3\n",
      "23:31:08    3\n",
      "17:54:19    3\n",
      "20:52:21    3\n",
      "12:04:55    3\n",
      "16:41:04    3\n",
      "           ..\n",
      "05:32:45    1\n",
      "01:18:13    1\n",
      "17:28:12    1\n",
      "13:48:30    1\n",
      "19:28:37    1\n",
      "04:38:26    1\n",
      "02:20:36    1\n",
      "16:39:24    1\n",
      "11:04:59    1\n",
      "17:41:04    1\n",
      "11:49:28    1\n",
      "07:19:26    1\n",
      "22:55:41    1\n",
      "09:18:29    1\n",
      "12:24:38    1\n",
      "18:32:51    1\n",
      "17:10:55    1\n",
      "09:58:50    1\n",
      "00:00:37    1\n",
      "15:43:47    1\n",
      "14:10:36    1\n",
      "04:22:23    1\n",
      "06:52:54    1\n",
      "01:08:23    1\n",
      "08:11:50    1\n",
      "08:45:07    1\n",
      "06:18:18    1\n",
      "08:11:54    1\n",
      "00:29:20    1\n",
      "09:32:12    1\n",
      "Name: Time, dtype: int64\n",
      "\n",
      "Latitude\n",
      "-5.9020     5\n",
      "-5.5890     5\n",
      " 51.5000    5\n",
      "-5.6050     5\n",
      "-4.6940     4\n",
      "-6.0760     4\n",
      "-17.7450    4\n",
      " 51.2070    4\n",
      " 43.2690    4\n",
      " 0.4820     4\n",
      "-6.5130     4\n",
      "-21.1260    4\n",
      "-5.9800     4\n",
      "-4.0540     4\n",
      " 37.3060    4\n",
      "-6.3230     4\n",
      "-4.6510     4\n",
      "-5.5730     4\n",
      "-5.4480     4\n",
      "-6.2790     4\n",
      "-5.7240     4\n",
      "-7.5260     4\n",
      "-5.6510     4\n",
      "-3.7750     4\n",
      " 40.2390    4\n",
      "-15.2230    4\n",
      " 36.4430    4\n",
      "-6.1220     4\n",
      "-15.2500    4\n",
      "-56.1860    4\n",
      "           ..\n",
      " 39.0850    1\n",
      " 37.2690    1\n",
      " 7.0920     1\n",
      " 5.1490     1\n",
      "-10.7690    1\n",
      " 52.7640    1\n",
      "-53.6510    1\n",
      " 11.3860    1\n",
      " 56.1900    1\n",
      "-17.3520    1\n",
      "-13.1890    1\n",
      " 12.5980    1\n",
      "-24.8520    1\n",
      "-13.2730    1\n",
      "-2.0829     1\n",
      " 24.3230    1\n",
      "-30.5260    1\n",
      "-36.4070    1\n",
      " 23.7840    1\n",
      " 73.3510    1\n",
      " 21.3697    1\n",
      "-0.1740     1\n",
      " 13.2920    1\n",
      "-19.5530    1\n",
      "-16.1160    1\n",
      " 1.5070     1\n",
      " 35.2410    1\n",
      " 76.2080    1\n",
      " 34.8250    1\n",
      "-13.6980    1\n",
      "Name: Latitude, dtype: int64\n",
      "\n",
      "Longitude\n",
      " 126.7770    5\n",
      " 126.5880    4\n",
      " 166.4520    4\n",
      "-177.5530    4\n",
      " 166.3380    4\n",
      " 167.7210    4\n",
      "-174.9220    4\n",
      " 147.0090    4\n",
      "-178.4090    4\n",
      " 142.7500    4\n",
      " 154.9340    4\n",
      " 148.1390    4\n",
      " 143.2360    4\n",
      " 167.2380    4\n",
      "-177.3120    4\n",
      " 126.4110    4\n",
      "-174.8000    4\n",
      " 167.3400    4\n",
      "-177.8060    4\n",
      "-178.0730    4\n",
      "-179.3610    4\n",
      " 96.4040     3\n",
      "-174.2870    3\n",
      " 139.2790    3\n",
      " 151.4990    3\n",
      "-179.3060    3\n",
      "-177.8370    3\n",
      "-178.0120    3\n",
      " 130.6030    3\n",
      " 123.2470    3\n",
      "            ..\n",
      "-69.0480     1\n",
      " 101.4280    1\n",
      "-81.0460     1\n",
      " 47.9630     1\n",
      "-75.5740     1\n",
      " 99.4800     1\n",
      " 150.2200    1\n",
      " 137.4880    1\n",
      "-105.4730    1\n",
      " 139.7550    1\n",
      " 131.8820    1\n",
      " 128.3250    1\n",
      " 90.2690     1\n",
      " 129.6750    1\n",
      "-26.9000     1\n",
      "-71.9570     1\n",
      " 126.0840    1\n",
      "-72.1070     1\n",
      " 155.2430    1\n",
      "-84.6590     1\n",
      "-76.0470     1\n",
      " 94.0230     1\n",
      " 166.3840    1\n",
      " 80.5080     1\n",
      "-172.5332    1\n",
      "-10.6740     1\n",
      " 118.8060    1\n",
      " 160.3110    1\n",
      " 169.6660    1\n",
      " 1.5000      1\n",
      "Name: Longitude, dtype: int64\n",
      "\n",
      "Type\n",
      "Earthquake           23232\n",
      "Nuclear Explosion      175\n",
      "Explosion                4\n",
      "Rock Burst               1\n",
      "Name: Type, dtype: int64\n",
      "\n",
      "Depth\n",
      "10.000     3911\n",
      "33.000     3694\n",
      "35.000      592\n",
      "15.000      384\n",
      "20.000      336\n",
      "25.000      303\n",
      "30.000      302\n",
      "0.000       170\n",
      "45.000      139\n",
      "14.000      130\n",
      "40.000      126\n",
      "11.000      122\n",
      "12.000      118\n",
      "9.000       109\n",
      "13.000      101\n",
      "8.000        98\n",
      "50.000       92\n",
      "22.000       88\n",
      "36.000       88\n",
      "18.000       87\n",
      "17.000       85\n",
      "24.000       84\n",
      "19.000       84\n",
      "16.000       84\n",
      "5.000        84\n",
      "32.000       83\n",
      "34.000       77\n",
      "55.000       76\n",
      "29.000       75\n",
      "28.000       73\n",
      "           ... \n",
      "591.800       1\n",
      "28.737        1\n",
      "608.000       1\n",
      "84.400        1\n",
      "173.200       1\n",
      "476.400       1\n",
      "118.100       1\n",
      "356.600       1\n",
      "622.800       1\n",
      "430.700       1\n",
      "43.370        1\n",
      "31.690        1\n",
      "130.500       1\n",
      "9.920         1\n",
      "8.881         1\n",
      "480.000       1\n",
      "169.100       1\n",
      "113.200       1\n",
      "296.300       1\n",
      "604.500       1\n",
      "172.800       1\n",
      "9.170         1\n",
      "291.400       1\n",
      "216.700       1\n",
      "144.300       1\n",
      "50.110        1\n",
      "518.900       1\n",
      "613.100       1\n",
      "556.400       1\n",
      "45.640        1\n",
      "Name: Depth, dtype: int64\n",
      "\n",
      "Depth Error\n",
      "1.800     473\n",
      "1.700     440\n",
      "1.900     135\n",
      "3.500      85\n",
      "1.600      81\n",
      "3.300      76\n",
      "3.000      74\n",
      "3.200      74\n",
      "3.100      72\n",
      "3.400      72\n",
      "3.600      70\n",
      "2.900      67\n",
      "2.600      62\n",
      "4.400      61\n",
      "3.800      61\n",
      "3.900      61\n",
      "2.800      60\n",
      "3.700      55\n",
      "4.000      54\n",
      "2.400      54\n",
      "4.100      51\n",
      "5.000      45\n",
      "4.300      45\n",
      "2.500      44\n",
      "4.200      44\n",
      "0.000      44\n",
      "2.700      44\n",
      "4.600      42\n",
      "4.900      41\n",
      "2.300      41\n",
      "         ... \n",
      "0.015       1\n",
      "15.600      1\n",
      "20.600      1\n",
      "1.310       1\n",
      "21.800      1\n",
      "1.440       1\n",
      "28.900      1\n",
      "0.060       1\n",
      "0.023       1\n",
      "0.920       1\n",
      "27.200      1\n",
      "14.890      1\n",
      "21.100      1\n",
      "20.200      1\n",
      "21.500      1\n",
      "11.060      1\n",
      "21.000      1\n",
      "20.610      1\n",
      "0.304       1\n",
      "22.200      1\n",
      "0.340       1\n",
      "0.330       1\n",
      "1.780       1\n",
      "0.550       1\n",
      "28.200      1\n",
      "0.350       1\n",
      "22.000      1\n",
      "18.000      1\n",
      "2.031       1\n",
      "0.450       1\n",
      "Name: Depth Error, dtype: int64\n",
      "\n",
      "Depth Seismic Stations\n",
      "117.0    29\n",
      "0.0      29\n",
      "163.0    26\n",
      "169.0    26\n",
      "198.0    25\n",
      "209.0    25\n",
      "231.0    25\n",
      "243.0    24\n",
      "288.0    24\n",
      "159.0    24\n",
      "167.0    24\n",
      "345.0    24\n",
      "237.0    24\n",
      "81.0     24\n",
      "170.0    24\n",
      "193.0    23\n",
      "112.0    23\n",
      "341.0    23\n",
      "186.0    23\n",
      "98.0     23\n",
      "265.0    23\n",
      "111.0    23\n",
      "190.0    23\n",
      "280.0    22\n",
      "110.0    22\n",
      "140.0    22\n",
      "222.0    21\n",
      "309.0    21\n",
      "91.0     21\n",
      "185.0    21\n",
      "         ..\n",
      "630.0     1\n",
      "666.0     1\n",
      "807.0     1\n",
      "709.0     1\n",
      "770.0     1\n",
      "751.0     1\n",
      "693.0     1\n",
      "735.0     1\n",
      "934.0     1\n",
      "695.0     1\n",
      "724.0     1\n",
      "777.0     1\n",
      "600.0     1\n",
      "722.0     1\n",
      "677.0     1\n",
      "608.0     1\n",
      "653.0     1\n",
      "814.0     1\n",
      "530.0     1\n",
      "688.0     1\n",
      "655.0     1\n",
      "798.0     1\n",
      "703.0     1\n",
      "720.0     1\n",
      "649.0     1\n",
      "776.0     1\n",
      "629.0     1\n",
      "689.0     1\n",
      "793.0     1\n",
      "647.0     1\n",
      "Name: Depth Seismic Stations, dtype: int64\n",
      "\n",
      "Magnitude\n",
      "5.50    4685\n",
      "5.60    3967\n",
      "5.70    3079\n",
      "5.80    2346\n",
      "5.90    1947\n",
      "6.00    1580\n",
      "6.10    1213\n",
      "6.20     912\n",
      "6.30     765\n",
      "6.40     574\n",
      "6.50     464\n",
      "6.60     363\n",
      "6.70     314\n",
      "6.80     236\n",
      "6.90     187\n",
      "7.00     168\n",
      "7.10     123\n",
      "7.20     102\n",
      "7.30      63\n",
      "7.40      59\n",
      "7.60      49\n",
      "7.50      43\n",
      "7.70      39\n",
      "7.80      31\n",
      "7.90      21\n",
      "8.00      13\n",
      "8.20       7\n",
      "8.10       7\n",
      "8.30       5\n",
      "5.52       4\n",
      "        ... \n",
      "6.35       2\n",
      "5.67       2\n",
      "5.82       2\n",
      "5.75       2\n",
      "5.66       2\n",
      "5.64       2\n",
      "5.77       2\n",
      "5.73       1\n",
      "6.47       1\n",
      "5.51       1\n",
      "5.97       1\n",
      "5.81       1\n",
      "5.63       1\n",
      "5.58       1\n",
      "5.54       1\n",
      "5.53       1\n",
      "6.48       1\n",
      "5.69       1\n",
      "5.72       1\n",
      "6.45       1\n",
      "5.89       1\n",
      "6.57       1\n",
      "6.31       1\n",
      "5.55       1\n",
      "5.94       1\n",
      "8.80       1\n",
      "8.70       1\n",
      "5.88       1\n",
      "6.02       1\n",
      "5.62       1\n",
      "Name: Magnitude, dtype: int64\n",
      "\n",
      "Magnitude Type\n",
      "MW     7722\n",
      "MWC    5669\n",
      "MB     3761\n",
      "MWB    2458\n",
      "MWW    1983\n",
      "MS     1702\n",
      "ML       77\n",
      "MWR      26\n",
      "MD        6\n",
      "MH        5\n",
      "Name: Magnitude Type, dtype: int64\n",
      "\n",
      "Magnitude Error\n",
      "0.048    18\n",
      "0.052    12\n",
      "0.063    10\n",
      "0.043     9\n",
      "0.054     9\n",
      "0.050     8\n",
      "0.075     8\n",
      "0.068     8\n",
      "0.083     8\n",
      "0.060     7\n",
      "0.080     7\n",
      "0.066     7\n",
      "0.061     7\n",
      "0.071     7\n",
      "0.062     7\n",
      "0.040     7\n",
      "0.041     6\n",
      "0.059     6\n",
      "0.058     6\n",
      "0.049     6\n",
      "0.078     6\n",
      "0.038     6\n",
      "0.069     6\n",
      "0.035     5\n",
      "0.042     5\n",
      "0.065     5\n",
      "0.046     5\n",
      "0.044     5\n",
      "0.037     4\n",
      "0.047     4\n",
      "         ..\n",
      "0.206     1\n",
      "0.410     1\n",
      "0.146     1\n",
      "0.155     1\n",
      "0.099     1\n",
      "0.109     1\n",
      "0.341     1\n",
      "0.175     1\n",
      "0.051     1\n",
      "0.086     1\n",
      "0.219     1\n",
      "0.158     1\n",
      "0.122     1\n",
      "0.320     1\n",
      "0.120     1\n",
      "0.127     1\n",
      "0.350     1\n",
      "0.187     1\n",
      "0.079     1\n",
      "0.161     1\n",
      "0.245     1\n",
      "0.028     1\n",
      "0.108     1\n",
      "0.132     1\n",
      "0.246     1\n",
      "0.150     1\n",
      "0.169     1\n",
      "0.188     1\n",
      "0.182     1\n",
      "0.125     1\n",
      "Name: Magnitude Error, dtype: int64\n",
      "\n",
      "Magnitude Seismic Stations\n",
      "1.0      127\n",
      "2.0       77\n",
      "3.0       70\n",
      "10.0      62\n",
      "6.0       56\n",
      "7.0       54\n",
      "4.0       54\n",
      "8.0       51\n",
      "0.0       47\n",
      "5.0       47\n",
      "14.0      43\n",
      "17.0      42\n",
      "9.0       42\n",
      "24.0      40\n",
      "16.0      40\n",
      "13.0      39\n",
      "21.0      39\n",
      "20.0      37\n",
      "15.0      36\n",
      "11.0      34\n",
      "12.0      32\n",
      "29.0      32\n",
      "30.0      31\n",
      "19.0      31\n",
      "18.0      30\n",
      "22.0      30\n",
      "23.0      30\n",
      "33.0      27\n",
      "28.0      27\n",
      "34.0      26\n",
      "        ... \n",
      "175.0      1\n",
      "247.0      1\n",
      "410.0      1\n",
      "328.0      1\n",
      "208.0      1\n",
      "137.0      1\n",
      "294.0      1\n",
      "298.0      1\n",
      "218.0      1\n",
      "251.0      1\n",
      "172.0      1\n",
      "239.0      1\n",
      "238.0      1\n",
      "139.0      1\n",
      "148.0      1\n",
      "200.0      1\n",
      "621.0      1\n",
      "194.0      1\n",
      "260.0      1\n",
      "483.0      1\n",
      "388.0      1\n",
      "252.0      1\n",
      "184.0      1\n",
      "224.0      1\n",
      "153.0      1\n",
      "189.0      1\n",
      "263.0      1\n",
      "505.0      1\n",
      "190.0      1\n",
      "526.0      1\n",
      "Name: Magnitude Seismic Stations, dtype: int64\n",
      "\n",
      "Azimuthal Gap\n",
      "19.0     69\n",
      "17.0     64\n",
      "18.0     59\n",
      "28.0     55\n",
      "21.0     55\n",
      "25.0     53\n",
      "22.0     53\n",
      "16.0     52\n",
      "24.0     52\n",
      "20.0     50\n",
      "27.0     50\n",
      "37.0     47\n",
      "14.0     45\n",
      "23.0     43\n",
      "13.0     43\n",
      "26.0     42\n",
      "31.0     42\n",
      "30.0     42\n",
      "36.0     41\n",
      "33.0     40\n",
      "29.0     40\n",
      "35.0     40\n",
      "41.0     39\n",
      "43.0     39\n",
      "44.0     37\n",
      "15.0     37\n",
      "45.0     36\n",
      "34.0     35\n",
      "38.0     35\n",
      "12.0     34\n",
      "         ..\n",
      "90.8      1\n",
      "8.4       1\n",
      "100.3     1\n",
      "328.5     1\n",
      "168.0     1\n",
      "120.3     1\n",
      "127.2     1\n",
      "92.4      1\n",
      "115.8     1\n",
      "114.5     1\n",
      "63.7      1\n",
      "99.5      1\n",
      "142.7     1\n",
      "131.1     1\n",
      "92.6      1\n",
      "110.1     1\n",
      "129.7     1\n",
      "247.0     1\n",
      "120.8     1\n",
      "182.0     1\n",
      "174.8     1\n",
      "155.0     1\n",
      "121.4     1\n",
      "148.7     1\n",
      "101.1     1\n",
      "118.1     1\n",
      "95.6      1\n",
      "89.4      1\n",
      "89.6      1\n",
      "360.0     1\n",
      "Name: Azimuthal Gap, dtype: int64\n",
      "\n",
      "Horizontal Distance\n",
      "0.778000     4\n",
      "0.406000     3\n",
      "0.783000     3\n",
      "0.828000     3\n",
      "0.751000     3\n",
      "1.492000     3\n",
      "1.753000     3\n",
      "0.671000     3\n",
      "1.806000     3\n",
      "3.056000     3\n",
      "1.013000     3\n",
      "1.272000     3\n",
      "0.903000     3\n",
      "0.836000     3\n",
      "4.701000     3\n",
      "0.779000     3\n",
      "0.681000     3\n",
      "1.729000     2\n",
      "5.634000     2\n",
      "0.698000     2\n",
      "1.066000     2\n",
      "0.478000     2\n",
      "0.579000     2\n",
      "3.293000     2\n",
      "2.995000     2\n",
      "3.144000     2\n",
      "0.535000     2\n",
      "7.030000     2\n",
      "1.804000     2\n",
      "1.155000     2\n",
      "            ..\n",
      "2.448000     1\n",
      "2.957000     1\n",
      "2.971000     1\n",
      "6.878000     1\n",
      "4.033000     1\n",
      "0.726000     1\n",
      "9.512000     1\n",
      "4.953000     1\n",
      "1.542000     1\n",
      "0.467124     1\n",
      "4.684000     1\n",
      "2.641000     1\n",
      "3.316000     1\n",
      "12.632000    1\n",
      "1.961000     1\n",
      "3.553000     1\n",
      "27.255000    1\n",
      "11.185000    1\n",
      "0.174000     1\n",
      "3.046000     1\n",
      "17.905000    1\n",
      "2.673000     1\n",
      "4.601000     1\n",
      "32.416000    1\n",
      "3.380000     1\n",
      "0.788000     1\n",
      "3.960000     1\n",
      "2.039000     1\n",
      "7.093000     1\n",
      "7.000000     1\n",
      "Name: Horizontal Distance, dtype: int64\n",
      "\n",
      "Horizontal Error\n",
      "6.400     29\n",
      "6.800     29\n",
      "7.500     28\n",
      "5.300     26\n",
      "7.300     26\n",
      "6.700     25\n",
      "8.000     25\n",
      "6.900     24\n",
      "6.200     23\n",
      "6.000     23\n",
      "5.900     22\n",
      "7.000     22\n",
      "7.100     21\n",
      "6.500     20\n",
      "7.600     20\n",
      "8.100     20\n",
      "7.400     20\n",
      "6.600     19\n",
      "5.600     19\n",
      "4.600     19\n",
      "7.800     18\n",
      "6.300     18\n",
      "5.400     17\n",
      "7.200     17\n",
      "7.700     17\n",
      "6.100     16\n",
      "8.200     16\n",
      "5.700     16\n",
      "5.100     15\n",
      "5.800     15\n",
      "          ..\n",
      "2.500      1\n",
      "2.580      1\n",
      "13.000     1\n",
      "2.700      1\n",
      "1.200      1\n",
      "1.610      1\n",
      "0.150      1\n",
      "1.810      1\n",
      "0.490      1\n",
      "1.700      1\n",
      "1.420      1\n",
      "14.700     1\n",
      "1.230      1\n",
      "14.600     1\n",
      "0.360      1\n",
      "0.390      1\n",
      "1.730      1\n",
      "0.540      1\n",
      "3.140      1\n",
      "11.700     1\n",
      "0.085      1\n",
      "15.000     1\n",
      "1.830      1\n",
      "0.280      1\n",
      "1.090      1\n",
      "0.330      1\n",
      "2.180      1\n",
      "0.840      1\n",
      "12.500     1\n",
      "3.200      1\n",
      "Name: Horizontal Error, dtype: int64\n",
      "\n",
      "Root Mean Square\n",
      "1.0000    1987\n",
      "1.1000    1898\n",
      "0.9000    1358\n",
      "1.2000    1306\n",
      "1.3000     716\n",
      "0.8000     450\n",
      "1.4000     290\n",
      "0.9800     251\n",
      "0.8900     251\n",
      "1.0200     248\n",
      "0.8800     245\n",
      "0.9100     242\n",
      "0.9900     236\n",
      "0.9200     236\n",
      "0.9700     235\n",
      "0.9400     228\n",
      "1.0100     222\n",
      "0.9600     221\n",
      "0.8600     219\n",
      "0.9300     215\n",
      "0.8700     208\n",
      "0.9500     204\n",
      "0.8500     204\n",
      "0.8400     203\n",
      "1.0500     196\n",
      "1.0700     195\n",
      "1.0400     190\n",
      "0.8300     188\n",
      "1.0300     183\n",
      "1.0600     174\n",
      "          ... \n",
      "0.3170       1\n",
      "2.1100       1\n",
      "0.4500       1\n",
      "0.2560       1\n",
      "0.2100       1\n",
      "0.4460       1\n",
      "0.1988       1\n",
      "0.1020       1\n",
      "1.8000       1\n",
      "0.2240       1\n",
      "0.2510       1\n",
      "0.1900       1\n",
      "1.5600       1\n",
      "0.3240       1\n",
      "1.6800       1\n",
      "0.2640       1\n",
      "0.1855       1\n",
      "1.5300       1\n",
      "0.3880       1\n",
      "3.2200       1\n",
      "0.2187       1\n",
      "1.7800       1\n",
      "0.4940       1\n",
      "2.1000       1\n",
      "0.1800       1\n",
      "1.9500       1\n",
      "0.2260       1\n",
      "0.1950       1\n",
      "0.4100       1\n",
      "2.7500       1\n",
      "Name: Root Mean Square, dtype: int64\n",
      "\n",
      "ID\n",
      "USP000HNAK      1\n",
      "USP0000HBG      1\n",
      "USP0000M4U      1\n",
      "USP0003Z29      1\n",
      "USP0008NWZ      1\n",
      "USP0001B5C      1\n",
      "USP0003TQY      1\n",
      "USB000SL82      1\n",
      "USP00078RW      1\n",
      "USB000PX6R      1\n",
      "USP0002FFW      1\n",
      "USP00022XE      1\n",
      "ISCGEM792289    1\n",
      "USP0009REF      1\n",
      "USP0000XQD      1\n",
      "USP0007Q76      1\n",
      "USP0004G2B      1\n",
      "USP0004KTF      1\n",
      "USP00018RW      1\n",
      "USP0005NMW      1\n",
      "USC000GPWN      1\n",
      "USP000H3CV      1\n",
      "USP0006EJJ      1\n",
      "USP00070A7      1\n",
      "USP000DRYB      1\n",
      "USP0006RMQ      1\n",
      "USP0009CW8      1\n",
      "ISCGEM772448    1\n",
      "USP000G2HN      1\n",
      "USP0000FPG      1\n",
      "               ..\n",
      "USP0009P8Q      1\n",
      "USP000JU3Z      1\n",
      "USP0002US1      1\n",
      "ISCGEM793215    1\n",
      "USP0001P03      1\n",
      "USP000JA1Q      1\n",
      "USP000HVRB      1\n",
      "USP0000464      1\n",
      "USP000J9T8      1\n",
      "USP0002CFT      1\n",
      "USP000A6EM      1\n",
      "USP000D70Z      1\n",
      "USP000EYTH      1\n",
      "USP0003W8Y      1\n",
      "USP0004DKB      1\n",
      "ISCGEM784847    1\n",
      "USP0002CEK      1\n",
      "USP00082F8      1\n",
      "USP000HR7K      1\n",
      "USP00019HT      1\n",
      "USP000F428      1\n",
      "USP000AVMX      1\n",
      "US10006K8F      1\n",
      "USP000EEXS      1\n",
      "USP000HCST      1\n",
      "USP000J11A      1\n",
      "USP0009XPC      1\n",
      "USP000HYFH      1\n",
      "USP000CEDH      1\n",
      "USP00001AJ      1\n",
      "Name: ID, dtype: int64\n",
      "\n",
      "Source\n",
      "US           20630\n",
      "ISCGEM        2460\n",
      "ISCGEMSUP      120\n",
      "CI              61\n",
      "GCMT            55\n",
      "NC              51\n",
      "AK              12\n",
      "OFFICIAL         8\n",
      "UW               6\n",
      "NN               4\n",
      "ATLAS            3\n",
      "SE               1\n",
      "PR               1\n",
      "Name: Source, dtype: int64\n",
      "\n",
      "Location Source\n",
      "US        20350\n",
      "ISCGEM     2581\n",
      "CI           61\n",
      "GCMT         56\n",
      "NC           54\n",
      "GUC          46\n",
      "AEIC         40\n",
      "UNM          21\n",
      "PGC          19\n",
      "WEL          18\n",
      "AGS          17\n",
      "ISK          15\n",
      "ATH          14\n",
      "AK           14\n",
      "HVO          12\n",
      "SPE          10\n",
      "H             7\n",
      "AEI           7\n",
      "TEH           7\n",
      "ROM           7\n",
      "UW            6\n",
      "CASC          4\n",
      "US_WEL        4\n",
      "NN            4\n",
      "ATLAS         3\n",
      "THE           3\n",
      "JMA           3\n",
      "THR           3\n",
      "RSPR          3\n",
      "B             2\n",
      "MDD           2\n",
      "TUL           2\n",
      "G             2\n",
      "SJA           1\n",
      "LIM           1\n",
      "BRK           1\n",
      "SLC           1\n",
      "CAR           1\n",
      "OTT           1\n",
      "PR            1\n",
      "TAP           1\n",
      "SE            1\n",
      "BEO           1\n",
      "AG            1\n",
      "CSEM          1\n",
      "BOU           1\n",
      "UCR           1\n",
      "U             1\n",
      "Name: Location Source, dtype: int64\n",
      "\n",
      "Magnitude Source\n",
      "US          10458\n",
      "HRV          8223\n",
      "ISCGEM       2580\n",
      "GCMT         1489\n",
      "NC            533\n",
      "CI             61\n",
      "AK             12\n",
      "PAR             9\n",
      "OFFICIAL        8\n",
      "UW              6\n",
      "GUC             6\n",
      "NIED            4\n",
      "NN              4\n",
      "1000            3\n",
      "US_GCMT         3\n",
      "ATLAS           3\n",
      "PGC             2\n",
      "BRK             2\n",
      "1009            1\n",
      "1023            1\n",
      "SE              1\n",
      "PR              1\n",
      "US_PGC          1\n",
      "1020            1\n",
      "Name: Magnitude Source, dtype: int64\n",
      "\n",
      "Status\n",
      "Reviewed     20773\n",
      "Automatic     2639\n",
      "Name: Status, dtype: int64\n",
      "\n"
     ]
    }
   ],
   "source": [
    "def print_value_counts():\n",
    "    for c in t_file.columns:\n",
    "        print(c)\n",
    "        print(t_file[c].value_counts())\n",
    "        print(\"\")\n",
    "print_value_counts()"
   ]
  },
  {
   "cell_type": "markdown",
   "metadata": {},
   "source": [
    "# Clean Data"
   ]
  },
  {
   "cell_type": "code",
   "execution_count": 9,
   "metadata": {
    "collapsed": false
   },
   "outputs": [
    {
     "name": "stderr",
     "output_type": "stream",
     "text": [
      "G:\\Program_Files\\Anaconda3\\envs\\dl-lab\\lib\\site-packages\\ipykernel\\__main__.py:2: SettingWithCopyWarning: \n",
      "A value is trying to be set on a copy of a slice from a DataFrame.\n",
      "Try using .loc[row_indexer,col_indexer] = value instead\n",
      "\n",
      "See the caveats in the documentation: http://pandas.pydata.org/pandas-docs/stable/indexing.html#indexing-view-versus-copy\n",
      "  from ipykernel import kernelapp as app\n",
      "G:\\Program_Files\\Anaconda3\\envs\\dl-lab\\lib\\site-packages\\ipykernel\\__main__.py:3: SettingWithCopyWarning: \n",
      "A value is trying to be set on a copy of a slice from a DataFrame.\n",
      "Try using .loc[row_indexer,col_indexer] = value instead\n",
      "\n",
      "See the caveats in the documentation: http://pandas.pydata.org/pandas-docs/stable/indexing.html#indexing-view-versus-copy\n",
      "  app.launch_new_instance()\n",
      "G:\\Program_Files\\Anaconda3\\envs\\dl-lab\\lib\\site-packages\\ipykernel\\__main__.py:4: SettingWithCopyWarning: \n",
      "A value is trying to be set on a copy of a slice from a DataFrame.\n",
      "Try using .loc[row_indexer,col_indexer] = value instead\n",
      "\n",
      "See the caveats in the documentation: http://pandas.pydata.org/pandas-docs/stable/indexing.html#indexing-view-versus-copy\n"
     ]
    },
    {
     "data": {
      "text/html": [
       "<div>\n",
       "<table border=\"1\" class=\"dataframe\">\n",
       "  <thead>\n",
       "    <tr style=\"text-align: right;\">\n",
       "      <th></th>\n",
       "      <th>Date</th>\n",
       "      <th>Time</th>\n",
       "      <th>Latitude</th>\n",
       "      <th>Longitude</th>\n",
       "      <th>Magnitude</th>\n",
       "      <th>Depth</th>\n",
       "      <th>Type</th>\n",
       "      <th>Year</th>\n",
       "      <th>Month</th>\n",
       "    </tr>\n",
       "  </thead>\n",
       "  <tbody>\n",
       "    <tr>\n",
       "      <th>0</th>\n",
       "      <td>1965-01-02</td>\n",
       "      <td>13:44:18</td>\n",
       "      <td>19.246</td>\n",
       "      <td>145.616</td>\n",
       "      <td>6.0</td>\n",
       "      <td>131.6</td>\n",
       "      <td>Earthquake</td>\n",
       "      <td>1965</td>\n",
       "      <td>1</td>\n",
       "    </tr>\n",
       "    <tr>\n",
       "      <th>1</th>\n",
       "      <td>1965-01-04</td>\n",
       "      <td>11:29:49</td>\n",
       "      <td>1.863</td>\n",
       "      <td>127.352</td>\n",
       "      <td>5.8</td>\n",
       "      <td>80.0</td>\n",
       "      <td>Earthquake</td>\n",
       "      <td>1965</td>\n",
       "      <td>1</td>\n",
       "    </tr>\n",
       "    <tr>\n",
       "      <th>2</th>\n",
       "      <td>1965-01-05</td>\n",
       "      <td>18:05:58</td>\n",
       "      <td>-20.579</td>\n",
       "      <td>-173.972</td>\n",
       "      <td>6.2</td>\n",
       "      <td>20.0</td>\n",
       "      <td>Earthquake</td>\n",
       "      <td>1965</td>\n",
       "      <td>1</td>\n",
       "    </tr>\n",
       "    <tr>\n",
       "      <th>3</th>\n",
       "      <td>1965-01-08</td>\n",
       "      <td>18:49:43</td>\n",
       "      <td>-59.076</td>\n",
       "      <td>-23.557</td>\n",
       "      <td>5.8</td>\n",
       "      <td>15.0</td>\n",
       "      <td>Earthquake</td>\n",
       "      <td>1965</td>\n",
       "      <td>1</td>\n",
       "    </tr>\n",
       "    <tr>\n",
       "      <th>4</th>\n",
       "      <td>1965-01-09</td>\n",
       "      <td>13:32:50</td>\n",
       "      <td>11.938</td>\n",
       "      <td>126.427</td>\n",
       "      <td>5.8</td>\n",
       "      <td>15.0</td>\n",
       "      <td>Earthquake</td>\n",
       "      <td>1965</td>\n",
       "      <td>1</td>\n",
       "    </tr>\n",
       "  </tbody>\n",
       "</table>\n",
       "</div>"
      ],
      "text/plain": [
       "        Date      Time  Latitude  Longitude  Magnitude  Depth        Type  \\\n",
       "0 1965-01-02  13:44:18    19.246    145.616        6.0  131.6  Earthquake   \n",
       "1 1965-01-04  11:29:49     1.863    127.352        5.8   80.0  Earthquake   \n",
       "2 1965-01-05  18:05:58   -20.579   -173.972        6.2   20.0  Earthquake   \n",
       "3 1965-01-08  18:49:43   -59.076    -23.557        5.8   15.0  Earthquake   \n",
       "4 1965-01-09  13:32:50    11.938    126.427        5.8   15.0  Earthquake   \n",
       "\n",
       "   Year  Month  \n",
       "0  1965      1  \n",
       "1  1965      1  \n",
       "2  1965      1  \n",
       "3  1965      1  \n",
       "4  1965      1  "
      ]
     },
     "execution_count": 9,
     "metadata": {},
     "output_type": "execute_result"
    }
   ],
   "source": [
    "earth = t_file[[\"Date\", \"Time\" ,\"Latitude\", \"Longitude\", \"Magnitude\", \"Depth\", \"Type\"]]\n",
    "earth[\"Date\"] = pd.to_datetime(earth[\"Date\"])\n",
    "earth[\"Year\"] = earth[\"Date\"].dt.year\n",
    "earth[\"Month\"] = earth[\"Date\"].dt.month\n",
    "earth.head()"
   ]
  },
  {
   "cell_type": "code",
   "execution_count": 10,
   "metadata": {
    "collapsed": false
   },
   "outputs": [
    {
     "data": {
      "text/plain": [
       "(23412, 9)"
      ]
     },
     "execution_count": 10,
     "metadata": {},
     "output_type": "execute_result"
    }
   ],
   "source": [
    "earth.shape"
   ]
  },
  {
   "cell_type": "code",
   "execution_count": 11,
   "metadata": {
    "collapsed": false
   },
   "outputs": [
    {
     "name": "stderr",
     "output_type": "stream",
     "text": [
      "G:\\Program_Files\\Anaconda3\\envs\\dl-lab\\lib\\site-packages\\ipykernel\\__main__.py:1: SettingWithCopyWarning: \n",
      "A value is trying to be set on a copy of a slice from a DataFrame\n",
      "\n",
      "See the caveats in the documentation: http://pandas.pydata.org/pandas-docs/stable/indexing.html#indexing-view-versus-copy\n",
      "  if __name__ == '__main__':\n"
     ]
    },
    {
     "data": {
      "text/plain": [
       "(23412, 9)"
      ]
     },
     "execution_count": 11,
     "metadata": {},
     "output_type": "execute_result"
    }
   ],
   "source": [
    "earth.dropna(axis = 0, inplace = True)\n",
    "earth.shape"
   ]
  },
  {
   "cell_type": "code",
   "execution_count": 12,
   "metadata": {
    "collapsed": false
   },
   "outputs": [
    {
     "data": {
      "text/plain": [
       "Date         datetime64[ns]\n",
       "Time                 object\n",
       "Latitude            float64\n",
       "Longitude           float64\n",
       "Magnitude           float64\n",
       "Depth               float64\n",
       "Type                 object\n",
       "Year                  int64\n",
       "Month                 int64\n",
       "dtype: object"
      ]
     },
     "execution_count": 12,
     "metadata": {},
     "output_type": "execute_result"
    }
   ],
   "source": [
    "earth.dtypes"
   ]
  },
  {
   "cell_type": "code",
   "execution_count": 13,
   "metadata": {
    "collapsed": false
   },
   "outputs": [
    {
     "data": {
      "text/plain": [
       "False"
      ]
     },
     "execution_count": 13,
     "metadata": {},
     "output_type": "execute_result"
    }
   ],
   "source": [
    "# check if there is nan data\n",
    "earth.isnull().values.any()"
   ]
  },
  {
   "cell_type": "code",
   "execution_count": 14,
   "metadata": {
    "collapsed": false
   },
   "outputs": [
    {
     "name": "stderr",
     "output_type": "stream",
     "text": [
      "G:\\Program_Files\\Anaconda3\\envs\\dl-lab\\lib\\site-packages\\pandas\\util\\decorators.py:91: SettingWithCopyWarning: \n",
      "A value is trying to be set on a copy of a slice from a DataFrame\n",
      "\n",
      "See the caveats in the documentation: http://pandas.pydata.org/pandas-docs/stable/indexing.html#indexing-view-versus-copy\n",
      "  return func(*args, **kwargs)\n"
     ]
    },
    {
     "data": {
      "text/plain": [
       "(23412, 9)"
      ]
     },
     "execution_count": 14,
     "metadata": {},
     "output_type": "execute_result"
    }
   ],
   "source": [
    "earth.drop_duplicates(inplace=True)\n",
    "earth.shape"
   ]
  },
  {
   "cell_type": "code",
   "execution_count": 15,
   "metadata": {
    "collapsed": false
   },
   "outputs": [
    {
     "data": {
      "text/html": [
       "<div>\n",
       "<table border=\"1\" class=\"dataframe\">\n",
       "  <thead>\n",
       "    <tr style=\"text-align: right;\">\n",
       "      <th></th>\n",
       "      <th>Latitude</th>\n",
       "      <th>Longitude</th>\n",
       "      <th>Magnitude</th>\n",
       "      <th>Depth</th>\n",
       "      <th>Year</th>\n",
       "      <th>Month</th>\n",
       "    </tr>\n",
       "  </thead>\n",
       "  <tbody>\n",
       "    <tr>\n",
       "      <th>count</th>\n",
       "      <td>23412.000000</td>\n",
       "      <td>23412.000000</td>\n",
       "      <td>23412.000000</td>\n",
       "      <td>23412.000000</td>\n",
       "      <td>23412.000000</td>\n",
       "      <td>23412.000000</td>\n",
       "    </tr>\n",
       "    <tr>\n",
       "      <th>mean</th>\n",
       "      <td>1.679033</td>\n",
       "      <td>39.639961</td>\n",
       "      <td>5.882531</td>\n",
       "      <td>70.767911</td>\n",
       "      <td>1992.632411</td>\n",
       "      <td>6.537887</td>\n",
       "    </tr>\n",
       "    <tr>\n",
       "      <th>std</th>\n",
       "      <td>30.113183</td>\n",
       "      <td>125.511959</td>\n",
       "      <td>0.423066</td>\n",
       "      <td>122.651898</td>\n",
       "      <td>14.426100</td>\n",
       "      <td>3.454541</td>\n",
       "    </tr>\n",
       "    <tr>\n",
       "      <th>min</th>\n",
       "      <td>-77.080000</td>\n",
       "      <td>-179.997000</td>\n",
       "      <td>5.500000</td>\n",
       "      <td>-1.100000</td>\n",
       "      <td>1965.000000</td>\n",
       "      <td>1.000000</td>\n",
       "    </tr>\n",
       "    <tr>\n",
       "      <th>25%</th>\n",
       "      <td>-18.653000</td>\n",
       "      <td>-76.349750</td>\n",
       "      <td>5.600000</td>\n",
       "      <td>14.522500</td>\n",
       "      <td>1981.000000</td>\n",
       "      <td>4.000000</td>\n",
       "    </tr>\n",
       "    <tr>\n",
       "      <th>50%</th>\n",
       "      <td>-3.568500</td>\n",
       "      <td>103.982000</td>\n",
       "      <td>5.700000</td>\n",
       "      <td>33.000000</td>\n",
       "      <td>1993.000000</td>\n",
       "      <td>7.000000</td>\n",
       "    </tr>\n",
       "    <tr>\n",
       "      <th>75%</th>\n",
       "      <td>26.190750</td>\n",
       "      <td>145.026250</td>\n",
       "      <td>6.000000</td>\n",
       "      <td>54.000000</td>\n",
       "      <td>2005.000000</td>\n",
       "      <td>10.000000</td>\n",
       "    </tr>\n",
       "    <tr>\n",
       "      <th>max</th>\n",
       "      <td>86.005000</td>\n",
       "      <td>179.998000</td>\n",
       "      <td>9.100000</td>\n",
       "      <td>700.000000</td>\n",
       "      <td>2016.000000</td>\n",
       "      <td>12.000000</td>\n",
       "    </tr>\n",
       "  </tbody>\n",
       "</table>\n",
       "</div>"
      ],
      "text/plain": [
       "           Latitude     Longitude     Magnitude         Depth          Year  \\\n",
       "count  23412.000000  23412.000000  23412.000000  23412.000000  23412.000000   \n",
       "mean       1.679033     39.639961      5.882531     70.767911   1992.632411   \n",
       "std       30.113183    125.511959      0.423066    122.651898     14.426100   \n",
       "min      -77.080000   -179.997000      5.500000     -1.100000   1965.000000   \n",
       "25%      -18.653000    -76.349750      5.600000     14.522500   1981.000000   \n",
       "50%       -3.568500    103.982000      5.700000     33.000000   1993.000000   \n",
       "75%       26.190750    145.026250      6.000000     54.000000   2005.000000   \n",
       "max       86.005000    179.998000      9.100000    700.000000   2016.000000   \n",
       "\n",
       "              Month  \n",
       "count  23412.000000  \n",
       "mean       6.537887  \n",
       "std        3.454541  \n",
       "min        1.000000  \n",
       "25%        4.000000  \n",
       "50%        7.000000  \n",
       "75%       10.000000  \n",
       "max       12.000000  "
      ]
     },
     "execution_count": 15,
     "metadata": {},
     "output_type": "execute_result"
    }
   ],
   "source": [
    "earth.describe()"
   ]
  },
  {
   "cell_type": "code",
   "execution_count": 16,
   "metadata": {
    "collapsed": false
   },
   "outputs": [
    {
     "data": {
      "text/plain": [
       "Type\n",
       "Earthquake           23232.0\n",
       "Explosion                4.0\n",
       "Nuclear Explosion      175.0\n",
       "Rock Burst               1.0\n",
       "Name: Magnitude, dtype: float64"
      ]
     },
     "execution_count": 16,
     "metadata": {},
     "output_type": "execute_result"
    }
   ],
   "source": [
    "earth.pivot_table(index = \"Type\", values = \"Magnitude\", aggfunc = len)"
   ]
  },
  {
   "cell_type": "markdown",
   "metadata": {},
   "source": [
    "# Data Visualization"
   ]
  },
  {
   "cell_type": "code",
   "execution_count": 17,
   "metadata": {
    "collapsed": false
   },
   "outputs": [],
   "source": [
    "%matplotlib inline"
   ]
  },
  {
   "cell_type": "code",
   "execution_count": 18,
   "metadata": {
    "collapsed": true
   },
   "outputs": [],
   "source": [
    "# boxplot and histogram\n",
    "def plotstats(df, col):\n",
    "    import matplotlib.pyplot as plt\n",
    "    ## setup for ploting two charts one over the other\n",
    "    fig, ax = plt.subplots(2, 1, figsize = (12, 8))\n",
    "    \n",
    "    ## fist a box plot\n",
    "    df.dropna().boxplot(col, ax = ax[0], vert = False, return_type = 'dict')\n",
    "    \n",
    "    ## plot the histogram\n",
    "    temp = df[col].as_matrix()\n",
    "    ax[1].hist(temp, bins = 30, alpha = 0.7)\n",
    "    plt.ylabel('Number')\n",
    "    plt.xlabel(col)\n",
    "    return [col]"
   ]
  },
  {
   "cell_type": "code",
   "execution_count": 19,
   "metadata": {
    "collapsed": false
   },
   "outputs": [
    {
     "data": {
      "text/plain": [
       "[['Month']]"
      ]
     },
     "execution_count": 19,
     "metadata": {},
     "output_type": "execute_result"
    },
    {
     "data": {
      "image/png": "[encoded data removed]",
      "text/plain": [
       "<matplotlib.figure.Figure at 0x27388efd748>"
      ]
     },
     "metadata": {},
     "output_type": "display_data"
    },
    {
     "data": {
      "image/png": "[encoded data removed]",
      "text/plain": [
       "<matplotlib.figure.Figure at 0x27388efd780>"
      ]
     },
     "metadata": {},
     "output_type": "display_data"
    },
    {
     "data": {
      "image/png": "[encoded data removed]",
      "text/plain": [
       "<matplotlib.figure.Figure at 0x2738b64fcc0>"
      ]
     },
     "metadata": {},
     "output_type": "display_data"
    },
    {
     "data": {
      "image/png": "[encoded data removed]",
      "text/plain": [
       "<matplotlib.figure.Figure at 0x2738bcb6ef0>"
      ]
     },
     "metadata": {},
     "output_type": "display_data"
    },
    {
     "data": {
      "image/png": "[encoded data removed]",
      "text/plain": [
       "<matplotlib.figure.Figure at 0x2738bdd2be0>"
      ]
     },
     "metadata": {},
     "output_type": "display_data"
    }
   ],
   "source": [
    "plotstats(earth, [\"Latitude\", \"Longitude\"])\n",
    "plotstats(earth, [\"Magnitude\"])\n",
    "plotstats(earth, [\"Depth\"])\n",
    "plotstats(earth, [\"Year\"])\n",
    "plotstats(earth, [\"Month\"])"
   ]
  },
  {
   "cell_type": "code",
   "execution_count": 20,
   "metadata": {
    "collapsed": false
   },
   "outputs": [
    {
     "data": {
      "text/plain": [
       "<seaborn.axisgrid.PairGrid at 0x2738dba4358>"
      ]
     },
     "execution_count": 20,
     "metadata": {},
     "output_type": "execute_result"
    },
    {
     "data": {
      "image/png": "[encoded data removed]",
      "text/plain": [
       "<matplotlib.figure.Figure at 0x2738dba4b70>"
      ]
     },
     "metadata": {},
     "output_type": "display_data"
    }
   ],
   "source": [
    "# pair wise scatter plot\n",
    "import seaborn as sns\n",
    "num_cols = [\"Magnitude\", \"Depth\"]\n",
    "sns.pairplot(earth[num_cols], size = 2)"
   ]
  },
  {
   "cell_type": "code",
   "execution_count": 21,
   "metadata": {
    "collapsed": true
   },
   "outputs": [],
   "source": [
    "# Fucntion to plot conditioned histograms\n",
    "def cond_hists(df, plot_cols, grid_col):\n",
    "    import matplotlib.pyplot as plt\n",
    "    import seaborn as sns\n",
    "    # loop over the list of columns\n",
    "    for col in plot_cols:\n",
    "        grid1 = sns.FacetGrid(df, col=grid_col)\n",
    "        grid1.map(plt.hist, col, alpha=0.7)\n",
    "    return grid_col"
   ]
  },
  {
   "cell_type": "code",
   "execution_count": 22,
   "metadata": {
    "collapsed": false
   },
   "outputs": [
    {
     "data": {
      "text/plain": [
       "'Type'"
      ]
     },
     "execution_count": 22,
     "metadata": {},
     "output_type": "execute_result"
    },
    {
     "data": {
      "image/png": "[encoded data removed]",
      "text/plain": [
       "<matplotlib.figure.Figure at 0x2738f84f2e8>"
      ]
     },
     "metadata": {},
     "output_type": "display_data"
    },
    {
     "data": {
      "image/png": "[encoded data removed]",
      "text/plain": [
       "<matplotlib.figure.Figure at 0x2738bf67b70>"
      ]
     },
     "metadata": {},
     "output_type": "display_data"
    },
    {
     "data": {
      "image/png": "[encoded data removed]",
      "text/plain": [
       "<matplotlib.figure.Figure at 0x2738b6c9be0>"
      ]
     },
     "metadata": {},
     "output_type": "display_data"
    },
    {
     "data": {
      "image/png": "[encoded data removed]",
      "text/plain": [
       "<matplotlib.figure.Figure at 0x2738bdab8d0>"
      ]
     },
     "metadata": {},
     "output_type": "display_data"
    }
   ],
   "source": [
    "plot_cols = [\"Depth\", \"Magnitude\", \"Latitude\", \"Longitude\"]\n",
    "cond_hists(earth, plot_cols, 'Type')"
   ]
  },
  {
   "cell_type": "code",
   "execution_count": 23,
   "metadata": {
    "collapsed": true
   },
   "outputs": [],
   "source": [
    "# Create boxplots of data\n",
    "def auto_boxplot(df, plot_cols, by):\n",
    "    import matplotlib.pyplot as plt\n",
    "    for col in plot_cols:\n",
    "        fig = plt.figure(figsize=(9,6))\n",
    "        ax = fig.gca()\n",
    "        df.boxplot(column = col, by = by, ax = ax)\n",
    "        ax.set_title('Box plots of ' + col + ' by ' + by)\n",
    "        ax.set_ylabel(col)\n",
    "    return by"
   ]
  },
  {
   "cell_type": "code",
   "execution_count": 24,
   "metadata": {
    "collapsed": false
   },
   "outputs": [
    {
     "data": {
      "text/plain": [
       "'Type'"
      ]
     },
     "execution_count": 24,
     "metadata": {},
     "output_type": "execute_result"
    },
    {
     "data": {
      "image/png": "[encoded data removed]",
      "text/plain": [
       "<matplotlib.figure.Figure at 0x2738bc89f60>"
      ]
     },
     "metadata": {},
     "output_type": "display_data"
    },
    {
     "data": {
      "image/png": "[encoded data removed]",
      "text/plain": [
       "<matplotlib.figure.Figure at 0x2738d8abda0>"
      ]
     },
     "metadata": {},
     "output_type": "display_data"
    },
    {
     "data": {
      "image/png": "[encoded data removed]",
      "text/plain": [
       "<matplotlib.figure.Figure at 0x2738d949f98>"
      ]
     },
     "metadata": {},
     "output_type": "display_data"
    },
    {
     "data": {
      "image/png": "[encoded data removed]",
      "text/plain": [
       "<matplotlib.figure.Figure at 0x2738da49f28>"
      ]
     },
     "metadata": {},
     "output_type": "display_data"
    }
   ],
   "source": [
    "auto_boxplot(earth, plot_cols, 'Type')"
   ]
  },
  {
   "cell_type": "markdown",
   "metadata": {},
   "source": [
    "Ref: https://www.kaggle.com/futurist/d/usgs/earthquake-database/mapping-of-earthquake-and-its-analysis"
   ]
  },
  {
   "cell_type": "code",
   "execution_count": 25,
   "metadata": {
    "collapsed": false
   },
   "outputs": [],
   "source": [
    "# for installation\n",
    "# conda install basemap\n",
    "from mpl_toolkits.basemap import Basemap\n",
    "import datetime as dt\n",
    "import seaborn as sns\n",
    "import matplotlib.pyplot as plt"
   ]
  },
  {
   "cell_type": "code",
   "execution_count": 26,
   "metadata": {
    "collapsed": false
   },
   "outputs": [
    {
     "name": "stderr",
     "output_type": "stream",
     "text": [
      "G:\\Program_Files\\Anaconda3\\envs\\dl-lab\\lib\\site-packages\\mpl_toolkits\\basemap\\__init__.py:3274: MatplotlibDeprecationWarning: The ishold function was deprecated in version 2.0.\n",
      "  b = ax.ishold()\n",
      "G:\\Program_Files\\Anaconda3\\envs\\dl-lab\\lib\\site-packages\\mpl_toolkits\\basemap\\__init__.py:3283: MatplotlibDeprecationWarning: axes.hold is deprecated.\n",
      "    See the API Changes document (http://matplotlib.org/api/api_changes.html)\n",
      "    for more details.\n",
      "  ax.hold(b)\n"
     ]
    },
    {
     "data": {
      "image/png": "[encoded data removed]",
      "text/plain": [
       "<matplotlib.figure.Figure at 0x2738dbb43c8>"
      ]
     },
     "metadata": {},
     "output_type": "display_data"
    }
   ],
   "source": [
    "stillm = Basemap(projection='mill', llcrnrlat=-80, urcrnrlat=80, llcrnrlon=-180, urcrnrlon=180, lat_ts=20, resolution='c')\n",
    "longitudes = earth[\"Longitude\"].tolist()\n",
    "latitudes = earth[\"Latitude\"].tolist()\n",
    "x, y = stillm(longitudes, latitudes)\n",
    "\n",
    "fig = plt.figure(figsize=(12, 10))\n",
    "plt.title(\"All affected areas\")\n",
    "stillm.plot(x, y, \"o\", markersize = 3, color = 'blue')\n",
    "stillm.drawcoastlines()\n",
    "stillm.fillcontinents(color='coral', lake_color='aqua')\n",
    "stillm.drawmapboundary()\n",
    "stillm.drawcountries()\n",
    "plt.show()"
   ]
  },
  {
   "cell_type": "code",
   "execution_count": 27,
   "metadata": {
    "collapsed": false
   },
   "outputs": [
    {
     "data": {
      "text/plain": [
       "array([[ 1.        ,  0.02345731],\n",
       "       [ 0.02345731,  1.        ]])"
      ]
     },
     "execution_count": 27,
     "metadata": {},
     "output_type": "execute_result"
    }
   ],
   "source": [
    "np.corrcoef(earth[\"Magnitude\"], earth[\"Depth\"])"
   ]
  },
  {
   "cell_type": "markdown",
   "metadata": {},
   "source": [
    "# Data Preparation"
   ]
  },
  {
   "cell_type": "code",
   "execution_count": 28,
   "metadata": {
    "collapsed": false
   },
   "outputs": [],
   "source": [
    "data = earth[[\"Latitude\", \"Longitude\", \"Depth\", \"Type\", \"Magnitude\"]]"
   ]
  },
  {
   "cell_type": "code",
   "execution_count": 56,
   "metadata": {
    "collapsed": false
   },
   "outputs": [
    {
     "data": {
      "text/html": [
       "<div>\n",
       "<table border=\"1\" class=\"dataframe\">\n",
       "  <thead>\n",
       "    <tr style=\"text-align: right;\">\n",
       "      <th></th>\n",
       "      <th>Latitude</th>\n",
       "      <th>Longitude</th>\n",
       "      <th>Depth</th>\n",
       "      <th>Magnitude</th>\n",
       "      <th>Type_Earthquake</th>\n",
       "      <th>Type_Explosion</th>\n",
       "      <th>Type_Nuclear Explosion</th>\n",
       "      <th>Type_Rock Burst</th>\n",
       "    </tr>\n",
       "  </thead>\n",
       "  <tbody>\n",
       "    <tr>\n",
       "      <th>0</th>\n",
       "      <td>0.590649</td>\n",
       "      <td>0.904493</td>\n",
       "      <td>0.189274</td>\n",
       "      <td>6.0</td>\n",
       "      <td>1</td>\n",
       "      <td>0</td>\n",
       "      <td>0</td>\n",
       "      <td>0</td>\n",
       "    </tr>\n",
       "    <tr>\n",
       "      <th>1</th>\n",
       "      <td>0.484060</td>\n",
       "      <td>0.853759</td>\n",
       "      <td>0.115675</td>\n",
       "      <td>5.8</td>\n",
       "      <td>1</td>\n",
       "      <td>0</td>\n",
       "      <td>0</td>\n",
       "      <td>0</td>\n",
       "    </tr>\n",
       "    <tr>\n",
       "      <th>2</th>\n",
       "      <td>0.346451</td>\n",
       "      <td>0.016736</td>\n",
       "      <td>0.030096</td>\n",
       "      <td>6.2</td>\n",
       "      <td>1</td>\n",
       "      <td>0</td>\n",
       "      <td>0</td>\n",
       "      <td>0</td>\n",
       "    </tr>\n",
       "    <tr>\n",
       "      <th>3</th>\n",
       "      <td>0.110396</td>\n",
       "      <td>0.434562</td>\n",
       "      <td>0.022964</td>\n",
       "      <td>5.8</td>\n",
       "      <td>1</td>\n",
       "      <td>0</td>\n",
       "      <td>0</td>\n",
       "      <td>0</td>\n",
       "    </tr>\n",
       "    <tr>\n",
       "      <th>4</th>\n",
       "      <td>0.545838</td>\n",
       "      <td>0.851190</td>\n",
       "      <td>0.022964</td>\n",
       "      <td>5.8</td>\n",
       "      <td>1</td>\n",
       "      <td>0</td>\n",
       "      <td>0</td>\n",
       "      <td>0</td>\n",
       "    </tr>\n",
       "  </tbody>\n",
       "</table>\n",
       "</div>"
      ],
      "text/plain": [
       "   Latitude  Longitude     Depth  Magnitude  Type_Earthquake  Type_Explosion  \\\n",
       "0  0.590649   0.904493  0.189274        6.0                1               0   \n",
       "1  0.484060   0.853759  0.115675        5.8                1               0   \n",
       "2  0.346451   0.016736  0.030096        6.2                1               0   \n",
       "3  0.110396   0.434562  0.022964        5.8                1               0   \n",
       "4  0.545838   0.851190  0.022964        5.8                1               0   \n",
       "\n",
       "   Type_Nuclear Explosion  Type_Rock Burst  \n",
       "0                       0                0  \n",
       "1                       0                0  \n",
       "2                       0                0  \n",
       "3                       0                0  \n",
       "4                       0                0  "
      ]
     },
     "execution_count": 56,
     "metadata": {},
     "output_type": "execute_result"
    }
   ],
   "source": [
    "#from sklearn.preprocessing import scale\n",
    "from sklearn.preprocessing import MinMaxScaler\n",
    "numeric_cols = [\"Latitude\", \"Longitude\", \"Depth\"]\n",
    "array = data[numeric_cols].as_matrix()\n",
    "#data[numeric_cols] = scale(array, axis=0, with_mean=True, with_std=True)\n",
    "min_max_scaler = MinMaxScaler()\n",
    "data[numeric_cols] = min_max_scaler.fit_transform(array)\n",
    "data.head()"
   ]
  },
  {
   "cell_type": "code",
   "execution_count": 57,
   "metadata": {
    "collapsed": false
   },
   "outputs": [
    {
     "data": {
      "text/html": [
       "<div>\n",
       "<table border=\"1\" class=\"dataframe\">\n",
       "  <thead>\n",
       "    <tr style=\"text-align: right;\">\n",
       "      <th></th>\n",
       "      <th>Latitude</th>\n",
       "      <th>Longitude</th>\n",
       "      <th>Depth</th>\n",
       "      <th>Magnitude</th>\n",
       "      <th>Type_Earthquake</th>\n",
       "      <th>Type_Explosion</th>\n",
       "      <th>Type_Nuclear Explosion</th>\n",
       "      <th>Type_Rock Burst</th>\n",
       "    </tr>\n",
       "  </thead>\n",
       "  <tbody>\n",
       "    <tr>\n",
       "      <th>0</th>\n",
       "      <td>0.590649</td>\n",
       "      <td>0.904493</td>\n",
       "      <td>0.189274</td>\n",
       "      <td>6.0</td>\n",
       "      <td>1</td>\n",
       "      <td>0</td>\n",
       "      <td>0</td>\n",
       "      <td>0</td>\n",
       "    </tr>\n",
       "    <tr>\n",
       "      <th>1</th>\n",
       "      <td>0.484060</td>\n",
       "      <td>0.853759</td>\n",
       "      <td>0.115675</td>\n",
       "      <td>5.8</td>\n",
       "      <td>1</td>\n",
       "      <td>0</td>\n",
       "      <td>0</td>\n",
       "      <td>0</td>\n",
       "    </tr>\n",
       "    <tr>\n",
       "      <th>2</th>\n",
       "      <td>0.346451</td>\n",
       "      <td>0.016736</td>\n",
       "      <td>0.030096</td>\n",
       "      <td>6.2</td>\n",
       "      <td>1</td>\n",
       "      <td>0</td>\n",
       "      <td>0</td>\n",
       "      <td>0</td>\n",
       "    </tr>\n",
       "    <tr>\n",
       "      <th>3</th>\n",
       "      <td>0.110396</td>\n",
       "      <td>0.434562</td>\n",
       "      <td>0.022964</td>\n",
       "      <td>5.8</td>\n",
       "      <td>1</td>\n",
       "      <td>0</td>\n",
       "      <td>0</td>\n",
       "      <td>0</td>\n",
       "    </tr>\n",
       "    <tr>\n",
       "      <th>4</th>\n",
       "      <td>0.545838</td>\n",
       "      <td>0.851190</td>\n",
       "      <td>0.022964</td>\n",
       "      <td>5.8</td>\n",
       "      <td>1</td>\n",
       "      <td>0</td>\n",
       "      <td>0</td>\n",
       "      <td>0</td>\n",
       "    </tr>\n",
       "  </tbody>\n",
       "</table>\n",
       "</div>"
      ],
      "text/plain": [
       "   Latitude  Longitude     Depth  Magnitude  Type_Earthquake  Type_Explosion  \\\n",
       "0  0.590649   0.904493  0.189274        6.0                1               0   \n",
       "1  0.484060   0.853759  0.115675        5.8                1               0   \n",
       "2  0.346451   0.016736  0.030096        6.2                1               0   \n",
       "3  0.110396   0.434562  0.022964        5.8                1               0   \n",
       "4  0.545838   0.851190  0.022964        5.8                1               0   \n",
       "\n",
       "   Type_Nuclear Explosion  Type_Rock Burst  \n",
       "0                       0                0  \n",
       "1                       0                0  \n",
       "2                       0                0  \n",
       "3                       0                0  \n",
       "4                       0                0  "
      ]
     },
     "execution_count": 57,
     "metadata": {},
     "output_type": "execute_result"
    }
   ],
   "source": [
    "data = pd.get_dummies(data)\n",
    "data.head()"
   ]
  },
  {
   "cell_type": "code",
   "execution_count": 58,
   "metadata": {
    "collapsed": false
   },
   "outputs": [],
   "source": [
    "from sklearn.model_selection import train_test_split\n",
    "y = data[[\"Magnitude\"]]\n",
    "X = data.drop([\"Magnitude\"], axis=1, inplace = False)\n",
    "X_train, X_test, y_train, y_test = train_test_split(X, y, test_size = 0.25, random_state = 33)"
   ]
  },
  {
   "cell_type": "code",
   "execution_count": 59,
   "metadata": {
    "collapsed": false
   },
   "outputs": [
    {
     "data": {
      "text/html": [
       "<div>\n",
       "<table border=\"1\" class=\"dataframe\">\n",
       "  <thead>\n",
       "    <tr style=\"text-align: right;\">\n",
       "      <th></th>\n",
       "      <th>Latitude</th>\n",
       "      <th>Longitude</th>\n",
       "      <th>Depth</th>\n",
       "      <th>Type_Earthquake</th>\n",
       "      <th>Type_Explosion</th>\n",
       "      <th>Type_Nuclear Explosion</th>\n",
       "      <th>Type_Rock Burst</th>\n",
       "    </tr>\n",
       "  </thead>\n",
       "  <tbody>\n",
       "    <tr>\n",
       "      <th>22682</th>\n",
       "      <td>0.249685</td>\n",
       "      <td>0.294962</td>\n",
       "      <td>0.017259</td>\n",
       "      <td>1</td>\n",
       "      <td>0</td>\n",
       "      <td>0</td>\n",
       "      <td>0</td>\n",
       "    </tr>\n",
       "    <tr>\n",
       "      <th>12470</th>\n",
       "      <td>0.332863</td>\n",
       "      <td>0.972255</td>\n",
       "      <td>0.028099</td>\n",
       "      <td>1</td>\n",
       "      <td>0</td>\n",
       "      <td>0</td>\n",
       "      <td>0</td>\n",
       "    </tr>\n",
       "    <tr>\n",
       "      <th>13248</th>\n",
       "      <td>0.191937</td>\n",
       "      <td>0.766738</td>\n",
       "      <td>0.015832</td>\n",
       "      <td>1</td>\n",
       "      <td>0</td>\n",
       "      <td>0</td>\n",
       "      <td>0</td>\n",
       "    </tr>\n",
       "    <tr>\n",
       "      <th>5164</th>\n",
       "      <td>0.306165</td>\n",
       "      <td>0.302643</td>\n",
       "      <td>0.048638</td>\n",
       "      <td>1</td>\n",
       "      <td>0</td>\n",
       "      <td>0</td>\n",
       "      <td>0</td>\n",
       "    </tr>\n",
       "    <tr>\n",
       "      <th>12413</th>\n",
       "      <td>0.546506</td>\n",
       "      <td>0.849781</td>\n",
       "      <td>0.040650</td>\n",
       "      <td>1</td>\n",
       "      <td>0</td>\n",
       "      <td>0</td>\n",
       "      <td>0</td>\n",
       "    </tr>\n",
       "  </tbody>\n",
       "</table>\n",
       "</div>"
      ],
      "text/plain": [
       "       Latitude  Longitude     Depth  Type_Earthquake  Type_Explosion  \\\n",
       "22682  0.249685   0.294962  0.017259                1               0   \n",
       "12470  0.332863   0.972255  0.028099                1               0   \n",
       "13248  0.191937   0.766738  0.015832                1               0   \n",
       "5164   0.306165   0.302643  0.048638                1               0   \n",
       "12413  0.546506   0.849781  0.040650                1               0   \n",
       "\n",
       "       Type_Nuclear Explosion  Type_Rock Burst  \n",
       "22682                       0                0  \n",
       "12470                       0                0  \n",
       "13248                       0                0  \n",
       "5164                        0                0  \n",
       "12413                       0                0  "
      ]
     },
     "execution_count": 59,
     "metadata": {},
     "output_type": "execute_result"
    }
   ],
   "source": [
    "X_train.head()"
   ]
  },
  {
   "cell_type": "code",
   "execution_count": 60,
   "metadata": {
    "collapsed": false
   },
   "outputs": [
    {
     "data": {
      "text/html": [
       "<div>\n",
       "<table border=\"1\" class=\"dataframe\">\n",
       "  <thead>\n",
       "    <tr style=\"text-align: right;\">\n",
       "      <th></th>\n",
       "      <th>Magnitude</th>\n",
       "    </tr>\n",
       "  </thead>\n",
       "  <tbody>\n",
       "    <tr>\n",
       "      <th>17090</th>\n",
       "      <td>5.5</td>\n",
       "    </tr>\n",
       "    <tr>\n",
       "      <th>23170</th>\n",
       "      <td>6.3</td>\n",
       "    </tr>\n",
       "    <tr>\n",
       "      <th>19222</th>\n",
       "      <td>6.3</td>\n",
       "    </tr>\n",
       "    <tr>\n",
       "      <th>3400</th>\n",
       "      <td>5.5</td>\n",
       "    </tr>\n",
       "    <tr>\n",
       "      <th>17066</th>\n",
       "      <td>5.8</td>\n",
       "    </tr>\n",
       "  </tbody>\n",
       "</table>\n",
       "</div>"
      ],
      "text/plain": [
       "       Magnitude\n",
       "17090        5.5\n",
       "23170        6.3\n",
       "19222        6.3\n",
       "3400         5.5\n",
       "17066        5.8"
      ]
     },
     "execution_count": 60,
     "metadata": {},
     "output_type": "execute_result"
    }
   ],
   "source": [
    "y_test.head()"
   ]
  },
  {
   "cell_type": "markdown",
   "metadata": {},
   "source": [
    "# Test Parameters"
   ]
  },
  {
   "cell_type": "code",
   "execution_count": 62,
   "metadata": {
    "collapsed": false
   },
   "outputs": [
    {
     "name": "stderr",
     "output_type": "stream",
     "text": [
      "G:\\Program_Files\\Anaconda3\\envs\\dl-lab\\lib\\site-packages\\sklearn\\utils\\validation.py:526: DataConversionWarning: A column-vector y was passed when a 1d array was expected. Please change the shape of y to (n_samples, ), for example using ravel().\n",
      "  y = column_or_1d(y, warn=True)\n"
     ]
    },
    {
     "data": {
      "text/plain": [
       "RandomizedSearchCV(cv=None, error_score=0,\n",
       "          estimator=SVR(C=1.0, cache_size=200, coef0=0.0, degree=3, epsilon=0.1, gamma='auto',\n",
       "  kernel='rbf', max_iter=-1, shrinking=True, tol=0.001, verbose=False),\n",
       "          fit_params={}, iid=True, n_iter=20, n_jobs=-1,\n",
       "          param_distributions={'epsilon': <scipy.stats._distn_infrastructure.rv_frozen object at 0x000002738D9EECF8>, 'tol': <scipy.stats._distn_infrastructure.rv_frozen object at 0x000002738D9EE668>, 'kernel': ['rbf', 'linear', 'poly', 'sigmoid'], 'shrinking': [True, False], 'C': <scipy.stats._distn_infrastructure.rv_frozen object at 0x000002738C2B5D68>},\n",
       "          pre_dispatch='2*n_jobs', random_state=None, refit=True,\n",
       "          return_train_score=True, scoring=None, verbose=0)"
      ]
     },
     "execution_count": 62,
     "metadata": {},
     "output_type": "execute_result"
    }
   ],
   "source": [
    "from sklearn.model_selection import RandomizedSearchCV\n",
    "from sklearn.svm import SVR\n",
    "from scipy.stats import randint as sp_randint\n",
    "from scipy.stats import uniform as sp_uniform\n",
    "param_grid = {\n",
    "    'C' : sp_uniform(0, 1),\n",
    "    'epsilon' : sp_uniform(0, 1),\n",
    "    \"kernel\" : [\"rbf\", \"linear\", \"poly\", \"sigmoid\"],\n",
    "    \"shrinking\" : [True, False],\n",
    "    \"tol\" : sp_uniform(0, 0.01)\n",
    "}\n",
    "model = SVR()\n",
    "n_iter_search = 20\n",
    "random_search = RandomizedSearchCV(model, param_distributions=param_grid, n_iter=n_iter_search, n_jobs=-1, error_score=0)\n",
    "random_search.fit(X, y)"
   ]
  },
  {
   "cell_type": "code",
   "execution_count": 64,
   "metadata": {
    "collapsed": false
   },
   "outputs": [],
   "source": [
    "# Utility function to report best scores\n",
    "def report(results, n_top=3):\n",
    "    for i in range(1, n_top + 1):\n",
    "        candidates = np.flatnonzero(results['rank_test_score'] == i)\n",
    "        for candidate in candidates:\n",
    "            print(\"Model with rank: {0}\".format(i))\n",
    "            print(\"Mean validation score: {0:.3f} (std: {1:.3f})\".format(\n",
    "                  results['mean_test_score'][candidate],\n",
    "                  results['std_test_score'][candidate]))\n",
    "            print(\"Parameters: {0}\".format(results['params'][candidate]))\n",
    "            print(\"\")"
   ]
  },
  {
   "cell_type": "code",
   "execution_count": 65,
   "metadata": {
    "collapsed": false
   },
   "outputs": [
    {
     "name": "stdout",
     "output_type": "stream",
     "text": [
      "Model with rank: 1\n",
      "Mean validation score: -0.000 (std: 0.000)\n",
      "Parameters: {'kernel': 'poly', 'C': 0.015080989394296584, 'epsilon': 0.38438936997605366, 'shrinking': False, 'tol': 0.0095304023183596064}\n",
      "\n",
      "Model with rank: 2\n",
      "Mean validation score: -0.010 (std: 0.004)\n",
      "Parameters: {'tol': 0.0074900756750872037, 'kernel': 'linear', 'epsilon': 0.42285460686879295, 'shrinking': True, 'C': 0.12159750718383922}\n",
      "\n",
      "Model with rank: 3\n",
      "Mean validation score: -0.025 (std: 0.011)\n",
      "Parameters: {'kernel': 'linear', 'tol': 0.0038612225008059042, 'epsilon': 0.22072180282681753, 'shrinking': True, 'C': 0.18340443371018011}\n",
      "\n"
     ]
    }
   ],
   "source": [
    "report(random_search.cv_results_)"
   ]
  },
  {
   "cell_type": "markdown",
   "metadata": {},
   "source": [
    "# Training"
   ]
  },
  {
   "cell_type": "code",
   "execution_count": 66,
   "metadata": {
    "collapsed": false
   },
   "outputs": [
    {
     "name": "stderr",
     "output_type": "stream",
     "text": [
      "G:\\Program_Files\\Anaconda3\\envs\\dl-lab\\lib\\site-packages\\sklearn\\utils\\validation.py:526: DataConversionWarning: A column-vector y was passed when a 1d array was expected. Please change the shape of y to (n_samples, ), for example using ravel().\n",
      "  y = column_or_1d(y, warn=True)\n"
     ]
    },
    {
     "data": {
      "text/plain": [
       "SVR(C=0.015080989394296584, cache_size=200, coef0=0.0, degree=3,\n",
       "  epsilon=0.38438936997605366, gamma='auto', kernel='poly', max_iter=-1,\n",
       "  shrinking=False, tol=0.009530402318359606, verbose=False)"
      ]
     },
     "execution_count": 66,
     "metadata": {},
     "output_type": "execute_result"
    }
   ],
   "source": [
    "train_model = SVR(C=0.015080989394296584, epsilon=0.38438936997605366, kernel='poly', shrinking=False, tol=0.0095304023183596064)\n",
    "train_model.fit(X_train, y_train)"
   ]
  },
  {
   "cell_type": "code",
   "execution_count": 67,
   "metadata": {
    "collapsed": false
   },
   "outputs": [],
   "source": [
    "y_pred = train_model.predict(X_train)"
   ]
  },
  {
   "cell_type": "code",
   "execution_count": 68,
   "metadata": {
    "collapsed": false
   },
   "outputs": [
    {
     "data": {
      "text/plain": [
       "array([ 5.88264336,  5.88404554,  5.88327786, ...,  5.88434507,\n",
       "        5.88316252,  5.88410924])"
      ]
     },
     "execution_count": 68,
     "metadata": {},
     "output_type": "execute_result"
    }
   ],
   "source": [
    "y_pred"
   ]
  },
  {
   "cell_type": "code",
   "execution_count": 69,
   "metadata": {
    "collapsed": false
   },
   "outputs": [
    {
     "name": "stderr",
     "output_type": "stream",
     "text": [
      "[Parallel(n_jobs=4)]: Done   4 out of   4 | elapsed:    5.8s finished\n"
     ]
    },
    {
     "data": {
      "text/plain": [
       "array([ 0.00012695,  0.00013899,  0.00016716,  0.0001892 ])"
      ]
     },
     "execution_count": 69,
     "metadata": {},
     "output_type": "execute_result"
    }
   ],
   "source": [
    "from sklearn.model_selection import cross_val_score\n",
    "scores = cross_val_score(train_model, X_train, y_train, verbose=3, cv=4, n_jobs=4)\n",
    "scores"
   ]
  },
  {
   "cell_type": "code",
   "execution_count": 70,
   "metadata": {
    "collapsed": false
   },
   "outputs": [
    {
     "name": "stderr",
     "output_type": "stream",
     "text": [
      "[Parallel(n_jobs=4)]: Done   4 out of   4 | elapsed:    2.8s finished\n"
     ]
    },
    {
     "data": {
      "text/plain": [
       "array([-0.00050179, -0.00293829,  0.00041796,  0.00050755])"
      ]
     },
     "execution_count": 70,
     "metadata": {},
     "output_type": "execute_result"
    }
   ],
   "source": [
    "test_scores = cross_val_score(train_model, X_test, y_test, verbose=3, cv=4, n_jobs=4)\n",
    "test_scores"
   ]
  },
  {
   "cell_type": "code",
   "execution_count": null,
   "metadata": {
    "collapsed": true
   },
   "outputs": [],
   "source": []
  }
 ],
 "metadata": {
  "kernelspec": {
   "display_name": "Python 3",
   "language": "python",
   "name": "python3"
  },
  "language_info": {
   "codemirror_mode": {
    "name": "ipython",
    "version": 3
   },
   "file_extension": ".py",
   "mimetype": "text/x-python",
   "name": "python",
   "nbconvert_exporter": "python",
   "pygments_lexer": "ipython3",
   "version": "3.5.2"
  }
 },
 "nbformat": 4,
 "nbformat_minor": 2
}
